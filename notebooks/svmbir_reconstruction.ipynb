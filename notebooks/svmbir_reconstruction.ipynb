{
 "cells": [
  {
   "cell_type": "code",
   "execution_count": null,
   "id": "d537c2cb",
   "metadata": {
    "execution": {
     "iopub.execute_input": "2024-10-22T16:17:31.634467Z",
     "iopub.status.busy": "2024-10-22T16:17:31.634280Z",
     "iopub.status.idle": "2024-10-22T16:17:34.128639Z",
     "shell.execute_reply": "2024-10-22T16:17:34.128174Z",
     "shell.execute_reply.started": "2024-10-22T16:17:31.634453Z"
    }
   },
   "outputs": [],
   "source": [
    "# this is using the hsnt kernel conda environment\n",
    "\n",
    "import warnings\n",
    "warnings.filterwarnings('ignore')\n",
    "\n",
    "%matplotlib inline\n",
    "\n",
    "from __code.svmbir_reconstruction import SvmbirReconstruction\n",
    "\n",
    "from __code import system\n",
    "\n",
    "system.System.select_working_dir()\n",
    "from __code.__all import custom_style\n",
    "custom_style.style()"
   ]
  },
  {
   "cell_type": "markdown",
   "id": "b9d745bd",
   "metadata": {},
   "source": [
    "# Input sample folder\n",
    "\n",
    "This folder will contains all the runs (1 run per angle).\n",
    "\n",
    "<font color='blue'><b>Instructions</b>: select folder containing projections</font>"
   ]
  },
  {
   "cell_type": "code",
   "execution_count": null,
   "id": "4521c25a",
   "metadata": {
    "execution": {
     "iopub.execute_input": "2024-10-22T16:17:36.905040Z",
     "iopub.status.busy": "2024-10-22T16:17:36.904648Z",
     "iopub.status.idle": "2024-10-22T16:17:37.073806Z",
     "shell.execute_reply": "2024-10-22T16:17:37.073421Z",
     "shell.execute_reply.started": "2024-10-22T16:17:36.904997Z"
    }
   },
   "outputs": [],
   "source": [
    "o_beam = SvmbirReconstruction(system=system)\n",
    "o_beam.select_top_sample_folder()"
   ]
  },
  {
   "cell_type": "markdown",
   "id": "5d532080",
   "metadata": {},
   "source": [
    "# Input Open Beam (OB) folder\n",
    "\n",
    "Just like for the sample, this folder contains 1 or more runs of the open beam images\n",
    "\n",
    "<font color='blue'><b>Instructions</b>: select folder containing OB</font>"
   ]
  },
  {
   "cell_type": "code",
   "execution_count": null,
   "id": "51549f93",
   "metadata": {
    "execution": {
     "iopub.execute_input": "2024-10-22T16:18:13.212360Z",
     "iopub.status.busy": "2024-10-22T16:18:13.212157Z",
     "iopub.status.idle": "2024-10-22T16:18:13.387333Z",
     "shell.execute_reply": "2024-10-22T16:18:13.386980Z",
     "shell.execute_reply.started": "2024-10-22T16:18:13.212346Z"
    }
   },
   "outputs": [],
   "source": [
    "o_beam.select_top_ob_folder()"
   ]
  },
  {
   "cell_type": "markdown",
   "id": "70d4e198",
   "metadata": {},
   "source": [
    "# Pre-processing the data\n",
    "\n",
    "This step will filter the data using the following criteria\n",
    "\n",
    "* all the runs that do not have any tif images in it will be **rejected**\n",
    "* the proton charge of each run will be retrieved and display in a recap graph. It will be up to the users to **select the proton charge** to use as well as the **acceptance criteria**. This is because the proton charge of each run is always slightly different, this criteria define the range for which 2 runs are considered being acquired with the same proton charge.\n",
    "\n",
    "<img src=\"__code/__all/TutorialProtonChargeSelection.gif\" />\n",
    "\n",
    "<font color='blue'><b>Instructions</b>\n",
    "\n",
    " - Use the sliders to define the **sample proton charge** and **OB proton charge** to use\n",
    " - Use the second slider to define the size of the **acceptance criteria range**\n",
    "\n",
    "<font size=1 color='black'><u>Developer Notes</u>: data are stored in <i>list_of_runs = {DataType.sample: {'Run_1234':\n",
    " {Run.full_path: \"\", Run.proton_charge: \"\", Run.use_it: \"\", Run.angle: \"\"}, ...}</i></font>\n",
    " "
   ]
  },
  {
   "cell_type": "code",
   "execution_count": null,
   "id": "c6c19340",
   "metadata": {
    "execution": {
     "iopub.execute_input": "2024-10-22T16:18:27.354352Z",
     "iopub.status.busy": "2024-10-22T16:18:27.354088Z",
     "iopub.status.idle": "2024-10-22T16:18:41.689491Z",
     "shell.execute_reply": "2024-10-22T16:18:41.689086Z",
     "shell.execute_reply.started": "2024-10-22T16:18:27.354337Z"
    }
   },
   "outputs": [],
   "source": [
    "o_beam.checking_data()"
   ]
  },
  {
   "cell_type": "markdown",
   "id": "613093e4",
   "metadata": {},
   "source": [
    "This will recap the list of runs that will be used for SAMPLE and OB. \n",
    "\n",
    "<font color='blue'><b>Instructions</b>: Because some runs look like they are ok but still need to be rejected, **Feel free to manually select any run you want to exclude !**</font>\n",
    "\n",
    "Mode of operation:\n",
    "* CMD + click: select more than 1 run\n",
    "* SHIFT + click: select all the runs up to previous click\n",
    "</font>\n",
    "\n",
    "<font size=1><u>Developer Notes</u>: this step will set the <i>Run.use_it</i> parametere of the <i>list_of_runs</i> dictionary. "
   ]
  },
  {
   "cell_type": "code",
   "execution_count": null,
   "id": "5b1217bc",
   "metadata": {
    "execution": {
     "iopub.execute_input": "2024-10-22T16:18:45.260896Z",
     "iopub.status.busy": "2024-10-22T16:18:45.260662Z",
     "iopub.status.idle": "2024-10-22T16:18:45.522129Z",
     "shell.execute_reply": "2024-10-22T16:18:45.521772Z",
     "shell.execute_reply.started": "2024-10-22T16:18:45.260883Z"
    }
   },
   "outputs": [],
   "source": [
    "o_beam.recap_data()"
   ]
  },
  {
   "cell_type": "markdown",
   "id": "2c8f0113",
   "metadata": {},
   "source": [
    "# TOF mode \n",
    "\n",
    "You have the option between:\n",
    "\n",
    "- <font color='blue'>white beam</font>: where all the images of a given projection will be added, removing the TOF information\n",
    "- <font color='blue'>TOF</font>: you will need to select the range of TOF you want to combine"
   ]
  },
  {
   "cell_type": "code",
   "execution_count": null,
   "id": "cc6559ee",
   "metadata": {
    "execution": {
     "iopub.execute_input": "2024-10-22T16:18:48.326276Z",
     "iopub.status.busy": "2024-10-22T16:18:48.326057Z",
     "iopub.status.idle": "2024-10-22T16:18:48.330436Z",
     "shell.execute_reply": "2024-10-22T16:18:48.330136Z",
     "shell.execute_reply.started": "2024-10-22T16:18:48.326260Z"
    }
   },
   "outputs": [],
   "source": [
    "o_beam.mode_selection()"
   ]
  },
  {
   "cell_type": "markdown",
   "id": "107d1050",
   "metadata": {},
   "source": [
    "# Load data"
   ]
  },
  {
   "cell_type": "markdown",
   "id": "666d5d89",
   "metadata": {},
   "source": [
    "This cell will load the data then will behave differently according to the mode you selected.\n",
    "\n",
    "- <font color=blue><b>White beam</b></font>:\n",
    "This step will add all the counts within a given run, making it feel like the data were acquired in white beam mode, loosing the time-of-flight (TOF) information.\n",
    "\n",
    "- <font color=blue><b>TOF</b></font>: you will need to define the range of TOF to use as well as the instrument settings to use. This will be done in the next 3 cells.\n",
    "\n",
    "This step will also sort the runs by increasing angle value.\n",
    "\n",
    "<font size=1><u>Developer Notes</u>: change the value of <i>Run.use_it</i> for runs rejected and combine runs data in <i>master_3d_data_array = {DataType.sample: [runs, y, x], ...}</font>\n"
   ]
  },
  {
   "cell_type": "code",
   "execution_count": null,
   "id": "0eee229f",
   "metadata": {
    "execution": {
     "iopub.execute_input": "2024-10-22T16:18:53.107641Z",
     "iopub.status.busy": "2024-10-22T16:18:53.107407Z",
     "iopub.status.idle": "2024-10-22T16:29:35.223093Z",
     "shell.execute_reply": "2024-10-22T16:29:35.222590Z",
     "shell.execute_reply.started": "2024-10-22T16:18:53.107622Z"
    }
   },
   "outputs": [],
   "source": [
    "o_beam.load_data()"
   ]
  },
  {
   "cell_type": "markdown",
   "id": "d4fce189",
   "metadata": {},
   "source": [
    "<font color=black>IMPORTANT: If running in <b>white beam</b> mode, this cell will be ignored</font>\n",
    "<br>\n",
    "<font color=blue>In TOF mode, this cell allows you to select the ranges of TOF you want to combine</font>"
   ]
  },
  {
   "cell_type": "code",
   "execution_count": 8,
   "id": "12354103",
   "metadata": {
    "execution": {
     "iopub.execute_input": "2024-10-22T16:29:38.350301Z",
     "iopub.status.busy": "2024-10-22T16:29:38.350086Z",
     "iopub.status.idle": "2024-10-22T16:29:38.353676Z",
     "shell.execute_reply": "2024-10-22T16:29:38.353285Z",
     "shell.execute_reply.started": "2024-10-22T16:29:38.350284Z"
    }
   },
   "outputs": [],
   "source": [
    "o_beam.select_tof_ranges()"
   ]
  },
  {
   "cell_type": "markdown",
   "id": "fc378d38",
   "metadata": {},
   "source": [
    "<font color=black>IMPORTANT: If running in <b>white beam</b> mode, this cell will be ignored</font><br>\n",
    "<font color=blue>In TOF mode, this next cell will <b>combine the images</b> corresponding to that range of TOF</font>"
   ]
  },
  {
   "cell_type": "code",
   "execution_count": 9,
   "id": "4169e252",
   "metadata": {
    "execution": {
     "iopub.execute_input": "2024-10-22T16:29:54.816951Z",
     "iopub.status.busy": "2024-10-22T16:29:54.816740Z",
     "iopub.status.idle": "2024-10-22T16:29:54.819446Z",
     "shell.execute_reply": "2024-10-22T16:29:54.819148Z",
     "shell.execute_reply.started": "2024-10-22T16:29:54.816936Z"
    }
   },
   "outputs": [],
   "source": [
    "o_beam.combine_tof_mode_data()"
   ]
  },
  {
   "cell_type": "markdown",
   "id": "df329504",
   "metadata": {},
   "source": [
    "# Pre-processing\n",
    "\n",
    "* remove dead pixels\n",
    "* remove abnormal very high counts\n",
    "\n",
    "<font color='blue'><b>Instructions</b>: by default, all the pixels found in the first and last bin are considered as **bad** pixels. You have the option to change those settings. </font>"
   ]
  },
  {
   "cell_type": "code",
   "execution_count": null,
   "id": "2b490aff",
   "metadata": {},
   "outputs": [],
   "source": [
    "o_beam.clean_images_settings()"
   ]
  },
  {
   "cell_type": "code",
   "execution_count": 11,
   "id": "66e1f723",
   "metadata": {
    "execution": {
     "iopub.execute_input": "2024-10-22T16:29:56.280396Z",
     "iopub.status.busy": "2024-10-22T16:29:56.280172Z",
     "iopub.status.idle": "2024-10-22T16:29:56.855429Z",
     "shell.execute_reply": "2024-10-22T16:29:56.855101Z",
     "shell.execute_reply.started": "2024-10-22T16:29:56.280379Z"
    }
   },
   "outputs": [],
   "source": [
    "o_beam.clean_images_setup()"
   ]
  },
  {
   "cell_type": "markdown",
   "id": "ca45d69c",
   "metadata": {},
   "source": [
    "Perform the cleaning using the settings define in the previous cell.\n",
    "\n",
    "<font size=1><u>Developer Notes</u>: create the <i>master_3d_data_array_cleaned<i> dictionary."
   ]
  },
  {
   "cell_type": "code",
   "execution_count": 12,
   "id": "694507be",
   "metadata": {
    "execution": {
     "iopub.execute_input": "2024-10-22T16:29:58.470850Z",
     "iopub.status.busy": "2024-10-22T16:29:58.470621Z",
     "iopub.status.idle": "2024-10-22T16:29:58.729238Z",
     "shell.execute_reply": "2024-10-22T16:29:58.728922Z",
     "shell.execute_reply.started": "2024-10-22T16:29:58.470833Z"
    }
   },
   "outputs": [],
   "source": [
    "o_beam.clean_images()"
   ]
  },
  {
   "cell_type": "markdown",
   "id": "f29a8f0d",
   "metadata": {},
   "source": [
    "<hr><hr style=\"border-bottom: dotted 1px;\" />\n",
    "<font color='red' size='5'>OPTIONAL</font>: Export cleaned images\n",
    "\n",
    "If you don't want to export the intermediate cleaned images, just skip the next cell!"
   ]
  },
  {
   "cell_type": "code",
   "execution_count": null,
   "id": "206ac244",
   "metadata": {},
   "outputs": [],
   "source": [
    "o_beam.select_export_folder()"
   ]
  },
  {
   "cell_type": "code",
   "execution_count": null,
   "id": "577b8f4c",
   "metadata": {},
   "outputs": [],
   "source": [
    "o_beam.export_cleaned_images()"
   ]
  },
  {
   "cell_type": "markdown",
   "id": "ea14a6e5-5921-4ddc-97a4-6b5411e14d0d",
   "metadata": {
    "execution": {
     "iopub.execute_input": "2024-09-25T16:48:21.997748Z",
     "iopub.status.busy": "2024-09-25T16:48:21.997353Z",
     "iopub.status.idle": "2024-09-25T16:48:21.999893Z",
     "shell.execute_reply": "2024-09-25T16:48:21.999578Z",
     "shell.execute_reply.started": "2024-09-25T16:48:21.997731Z"
    }
   },
   "source": [
    "<hr style=\"border-bottom: dotted 1px;\" /><hr>\n",
    "\n",
    "# Normalization\n",
    "\n",
    "<font size=1><u>Developer Notes</u>: create the <i>normalized_data</i> 3D data array."
   ]
  },
  {
   "cell_type": "markdown",
   "id": "622bc51f",
   "metadata": {},
   "source": [
    "<font color='blue'><b>Instructions</b>: in order to improve the normalization, you can turn ON/OFF any of the following \n",
    "\n",
    "- <font color=red><b>use proton charge</b></font>: that option will use the proton charge value requested for each runs and open beams and will bring them to the same value by applying a coefficient corector to the data.\n",
    "- <font color=red><b>use acqusition number</b></font>: that option will use the acquisition number (if found) to match them between runs and apply a coefficient corector to the data.\n",
    "- <font color=red><b>use background region of interest (ROI)</b></font>: select a region that does not contain any part of the sample in order to match the counts with the same ROI of the open beam.</font>"
   ]
  },
  {
   "cell_type": "code",
   "execution_count": null,
   "id": "7b613711",
   "metadata": {
    "execution": {
     "iopub.execute_input": "2024-10-22T16:30:02.521083Z",
     "iopub.status.busy": "2024-10-22T16:30:02.520847Z",
     "iopub.status.idle": "2024-10-22T16:30:02.527020Z",
     "shell.execute_reply": "2024-10-22T16:30:02.526731Z",
     "shell.execute_reply.started": "2024-10-22T16:30:02.521065Z"
    }
   },
   "outputs": [],
   "source": [
    "o_beam.normalization_settings()"
   ]
  },
  {
   "cell_type": "markdown",
   "id": "6af1d90a",
   "metadata": {},
   "source": [
    "This next cell will allow you to select the background region within the projections images, or will just be ignored if you not chose to use it.\n",
    "\n",
    "<font color='blue'><b>Instructions</b>: define ROI\n",
    "\n",
    "Make sure you select a region <font color='red'> OUTSIDE</font> of your sample\n",
    "\n",
    "<img src=\"__code/__all/demo_of_roi_selection.gif\" />\n",
    "\n",
    "NB: The next cell will be ignored if you didn't select <b>Use ROI</b>"
   ]
  },
  {
   "cell_type": "code",
   "execution_count": 14,
   "id": "f57796df",
   "metadata": {
    "execution": {
     "iopub.execute_input": "2024-10-22T16:30:08.887148Z",
     "iopub.status.busy": "2024-10-22T16:30:08.886935Z",
     "iopub.status.idle": "2024-10-22T16:30:09.159143Z",
     "shell.execute_reply": "2024-10-22T16:30:09.158825Z",
     "shell.execute_reply.started": "2024-10-22T16:30:08.887133Z"
    }
   },
   "outputs": [],
   "source": [
    "o_beam.normalization_select_roi()"
   ]
  },
  {
   "cell_type": "markdown",
   "id": "c4221eb9",
   "metadata": {},
   "source": [
    "This cell will perform the normalization using any of the settings you define just above."
   ]
  },
  {
   "cell_type": "code",
   "execution_count": 15,
   "id": "48c201d4",
   "metadata": {
    "execution": {
     "iopub.execute_input": "2024-10-22T16:30:27.139103Z",
     "iopub.status.busy": "2024-10-22T16:30:27.138881Z",
     "iopub.status.idle": "2024-10-22T16:30:28.657881Z",
     "shell.execute_reply": "2024-10-22T16:30:28.657336Z",
     "shell.execute_reply.started": "2024-10-22T16:30:27.139089Z"
    }
   },
   "outputs": [],
   "source": [
    "o_beam.normalization()"
   ]
  },
  {
   "cell_type": "markdown",
   "id": "97bf27d7",
   "metadata": {},
   "source": [
    "<hr><hr style=\"border-bottom: dotted 1px;\" />\n",
    "<font color='red' size='5'>OPTIONAL</font>: run it only if you want to visualize the normalized data"
   ]
  },
  {
   "cell_type": "code",
   "execution_count": null,
   "id": "47d0df72",
   "metadata": {
    "execution": {
     "iopub.execute_input": "2024-10-22T16:30:32.638325Z",
     "iopub.status.busy": "2024-10-22T16:30:32.638089Z",
     "iopub.status.idle": "2024-10-22T16:30:32.643128Z",
     "shell.execute_reply": "2024-10-22T16:30:32.642771Z",
     "shell.execute_reply.started": "2024-10-22T16:30:32.638307Z"
    }
   },
   "outputs": [],
   "source": [
    "o_beam.visualization_normalization_settings()"
   ]
  },
  {
   "cell_type": "code",
   "execution_count": null,
   "id": "13d7ca09",
   "metadata": {
    "execution": {
     "iopub.execute_input": "2024-10-22T16:30:34.552233Z",
     "iopub.status.busy": "2024-10-22T16:30:34.551778Z",
     "iopub.status.idle": "2024-10-22T16:30:36.971791Z",
     "shell.execute_reply": "2024-10-22T16:30:36.971284Z",
     "shell.execute_reply.started": "2024-10-22T16:30:34.552200Z"
    }
   },
   "outputs": [],
   "source": [
    "o_beam.visualize_normalization()"
   ]
  },
  {
   "cell_type": "markdown",
   "id": "ba00ac93",
   "metadata": {},
   "source": [
    "<hr><hr style=\"border-bottom: dotted 1px;\" />\n",
    "<font color='red' size='5'>OPTIONAL</font>: run if you want to export the normalized data"
   ]
  },
  {
   "cell_type": "markdown",
   "id": "0e3dcaa4",
   "metadata": {},
   "source": [
    "Select the folder where to export the normalized images"
   ]
  },
  {
   "cell_type": "code",
   "execution_count": null,
   "id": "08cdae4f",
   "metadata": {},
   "outputs": [],
   "source": [
    "o_beam.select_export_normalized_folder()"
   ]
  },
  {
   "cell_type": "markdown",
   "id": "89fa91c6",
   "metadata": {},
   "source": [
    "Run this cell to execute the export of the normalized images"
   ]
  },
  {
   "cell_type": "code",
   "execution_count": null,
   "id": "9c86b702",
   "metadata": {},
   "outputs": [],
   "source": [
    "o_beam.export_normalized_images()"
   ]
  },
  {
   "cell_type": "markdown",
   "id": "e9dc5342",
   "metadata": {},
   "source": [
    "<hr style=\"border-bottom: dotted 1px;\" /><hr>"
   ]
  },
  {
   "cell_type": "markdown",
   "id": "ed3c599d",
   "metadata": {},
   "source": [
    "# Chips correction\n",
    "\n",
    "<font size=1><u>Developer Notes</u>: create the <i>corrected_images<i> 3D data array</font>"
   ]
  },
  {
   "cell_type": "code",
   "execution_count": 16,
   "id": "c0452685-1d91-40e3-acc7-769504e6f0ba",
   "metadata": {
    "execution": {
     "iopub.execute_input": "2024-10-22T16:31:10.532146Z",
     "iopub.status.busy": "2024-10-22T16:31:10.531945Z",
     "iopub.status.idle": "2024-10-22T16:31:10.648508Z",
     "shell.execute_reply": "2024-10-22T16:31:10.647983Z",
     "shell.execute_reply.started": "2024-10-22T16:31:10.532132Z"
    }
   },
   "outputs": [],
   "source": [
    "o_beam.chips_correction()"
   ]
  },
  {
   "cell_type": "markdown",
   "id": "72b51cb9",
   "metadata": {},
   "source": [
    "<hr><hr style=\"border-bottom: dotted 1px;\" />\n",
    "<font color='red' size='5'>OPTIONAL</font>: display images before and after chips correction"
   ]
  },
  {
   "cell_type": "code",
   "execution_count": null,
   "id": "6cb32414",
   "metadata": {
    "execution": {
     "iopub.execute_input": "2024-10-22T16:31:11.836961Z",
     "iopub.status.busy": "2024-10-22T16:31:11.836660Z",
     "iopub.status.idle": "2024-10-22T16:31:12.163274Z",
     "shell.execute_reply": "2024-10-22T16:31:12.162884Z",
     "shell.execute_reply.started": "2024-10-22T16:31:11.836936Z"
    }
   },
   "outputs": [],
   "source": [
    "o_beam.visualize_chips_correction()"
   ]
  },
  {
   "cell_type": "markdown",
   "id": "739a9355",
   "metadata": {},
   "source": [
    "<hr><hr style=\"border-bottom: dotted 1px;\" />\n",
    "<font color='red' size='5'>OPTIONAL</font>: run if you want to remove any stripes causing ring artifacs in the reconstruction"
   ]
  },
  {
   "cell_type": "code",
   "execution_count": null,
   "id": "21f15942",
   "metadata": {},
   "outputs": [],
   "source": []
  },
  {
   "cell_type": "markdown",
   "id": "e5a7f823",
   "metadata": {},
   "source": [
    "## Remove stripes\n",
    "\n",
    "<font size=1><u>Developer Notes</u>: this step will create the 3d array <i>strip_corrected_images</i>"
   ]
  },
  {
   "cell_type": "code",
   "execution_count": null,
   "id": "e6432b5b",
   "metadata": {
    "execution": {
     "iopub.execute_input": "2024-10-22T16:31:22.640321Z",
     "iopub.status.busy": "2024-10-22T16:31:22.640091Z",
     "iopub.status.idle": "2024-10-22T16:31:22.654694Z",
     "shell.execute_reply": "2024-10-22T16:31:22.654295Z",
     "shell.execute_reply.started": "2024-10-22T16:31:22.640302Z"
    }
   },
   "outputs": [],
   "source": [
    "o_beam.select_remove_strips_algorithms()"
   ]
  },
  {
   "cell_type": "code",
   "execution_count": null,
   "id": "081d0e6b",
   "metadata": {
    "execution": {
     "iopub.execute_input": "2024-10-22T16:31:24.085797Z",
     "iopub.status.busy": "2024-10-22T16:31:24.085577Z",
     "iopub.status.idle": "2024-10-22T16:31:24.090485Z",
     "shell.execute_reply": "2024-10-22T16:31:24.090109Z",
     "shell.execute_reply.started": "2024-10-22T16:31:24.085782Z"
    }
   },
   "outputs": [],
   "source": [
    "o_beam.define_settings()"
   ]
  },
  {
   "cell_type": "code",
   "execution_count": 19,
   "id": "75d3d677",
   "metadata": {
    "execution": {
     "iopub.execute_input": "2024-10-22T16:31:25.324692Z",
     "iopub.status.busy": "2024-10-22T16:31:25.324461Z",
     "iopub.status.idle": "2024-10-22T16:31:29.542816Z",
     "shell.execute_reply": "2024-10-22T16:31:29.542354Z",
     "shell.execute_reply.started": "2024-10-22T16:31:25.324676Z"
    }
   },
   "outputs": [],
   "source": [
    "o_beam.remove_strips_and_display()"
   ]
  },
  {
   "cell_type": "markdown",
   "id": "51a27fed-4720-4e52-aa1a-6dbc8995ee46",
   "metadata": {
    "execution": {
     "iopub.execute_input": "2024-09-25T16:48:35.218331Z",
     "iopub.status.busy": "2024-09-25T16:48:35.218025Z",
     "iopub.status.idle": "2024-09-25T16:48:35.220484Z",
     "shell.execute_reply": "2024-09-25T16:48:35.220124Z",
     "shell.execute_reply.started": "2024-09-25T16:48:35.218314Z"
    }
   },
   "source": [
    "<hr><hr style=\"border-bottom: dotted 1px;\" />\n",
    "<font color='red' size='5'>OPTIONAL</font>: run if you want to correct for tilt and center of rotation\n",
    "\n",
    "# Calculate center of rotation and tilt\n",
    "\n",
    "The algorithm will determine the 0 and 180 degrees runs and use those to calculate the <b>center of rotation</b> and the <b>tilt</b>\n",
    "<br><br>\n",
    "\n",
    "<font color='blue'><b>Instructions</b>: first, you need to select an vertical range contaning the sample\n",
    "\n",
    "<font color='blue'>TIPS</font> - Make sure the sample is within the range defined\n",
    "\n",
    "<font size=1 color='white'><u>Developer Notes</u>: this step will create the 3d array <i>corrected_images</i>"
   ]
  },
  {
   "cell_type": "code",
   "execution_count": null,
   "id": "25b6a401",
   "metadata": {
    "execution": {
     "iopub.execute_input": "2024-10-22T16:31:56.260914Z",
     "iopub.status.busy": "2024-10-22T16:31:56.260570Z",
     "iopub.status.idle": "2024-10-22T16:31:56.587829Z",
     "shell.execute_reply": "2024-10-22T16:31:56.587501Z",
     "shell.execute_reply.started": "2024-10-22T16:31:56.260898Z"
    }
   },
   "outputs": [],
   "source": [
    "o_beam.select_sample_roi()"
   ]
  },
  {
   "cell_type": "code",
   "execution_count": null,
   "id": "2cfe6f5b",
   "metadata": {
    "execution": {
     "iopub.execute_input": "2024-10-22T16:32:06.220126Z",
     "iopub.status.busy": "2024-10-22T16:32:06.219913Z",
     "iopub.status.idle": "2024-10-22T16:32:09.091694Z",
     "shell.execute_reply": "2024-10-22T16:32:09.091283Z",
     "shell.execute_reply.started": "2024-10-22T16:32:06.220112Z"
    }
   },
   "outputs": [],
   "source": [
    "o_beam.calculate_center_of_rotation_and_tilt()"
   ]
  },
  {
   "cell_type": "markdown",
   "id": "b1ee7f20",
   "metadata": {},
   "source": [
    "<hr><hr style=\"border-bottom: dotted 1px;\" />\n",
    "<font color='red' size='5'>OPTIONAL</font>: run if you want to review and <font color='blue'>exclude</font> any projections from the reconstruction."
   ]
  },
  {
   "cell_type": "code",
   "execution_count": null,
   "id": "e0ca793f",
   "metadata": {
    "execution": {
     "iopub.execute_input": "2024-10-22T16:32:17.657371Z",
     "iopub.status.busy": "2024-10-22T16:32:17.657027Z",
     "iopub.status.idle": "2024-10-22T16:32:20.250957Z",
     "shell.execute_reply": "2024-10-22T16:32:20.250521Z",
     "shell.execute_reply.started": "2024-10-22T16:32:17.657354Z"
    }
   },
   "outputs": [],
   "source": [
    "o_beam.final_projections_review()"
   ]
  },
  {
   "cell_type": "markdown",
   "id": "735faafb",
   "metadata": {},
   "source": [
    "<hr style=\"border-bottom: dotted 1px;\" /><hr>"
   ]
  },
  {
   "cell_type": "markdown",
   "id": "f79fabc5-69d4-40a9-938d-43250c0cfd38",
   "metadata": {},
   "source": [
    "# Reconstruction\n",
    "\n",
    "The following cells will perform the reconstruction using the svmbir algorithm\n",
    "\n",
    "<font color='blue'><b>Instructions</b>: \n",
    "\n",
    "- select the vertical range of slices you want to use in the reconstruction (the larger the range, the longer it will take to reconstruct the volume). Any slice outside of that range won't be render.\n",
    "- define the reconstruction settings (keeping the <b>default values</b> is a good choice for novice users)</font>\n",
    "\n",
    "The rendered slices will be automatically displayed when it's done!"
   ]
  },
  {
   "cell_type": "code",
   "execution_count": null,
   "id": "dd0e3924",
   "metadata": {},
   "outputs": [],
   "source": [
    "o_beam.svmbir_settings()"
   ]
  },
  {
   "cell_type": "markdown",
   "id": "b2c1f461",
   "metadata": {},
   "source": [
    "<hr><hr style=\"border-bottom: dotted 1px;\" />\n",
    "<font color='red' size='5'>OPTIONAL</font>: run if you want to display the sinograms"
   ]
  },
  {
   "cell_type": "code",
   "execution_count": null,
   "id": "5161e111",
   "metadata": {},
   "outputs": [],
   "source": [
    "o_beam.svmbir_display_sinograms()"
   ]
  },
  {
   "cell_type": "markdown",
   "id": "c486d10c",
   "metadata": {},
   "source": [
    "<hr style=\"border-bottom: dotted 1px;\" /><hr>\n",
    "\n",
    "Execute the reconstruction"
   ]
  },
  {
   "cell_type": "code",
   "execution_count": null,
   "id": "1c9f5972",
   "metadata": {},
   "outputs": [],
   "source": [
    "o_beam.svmbir_run()"
   ]
  },
  {
   "cell_type": "markdown",
   "id": "0315ff1a",
   "metadata": {},
   "source": [
    "# Export the slices\n",
    "\n",
    "<font color='blue'><b>Instructions</b>: select the folder where to export the reconstructed slices"
   ]
  },
  {
   "cell_type": "code",
   "execution_count": null,
   "id": "d2affc67",
   "metadata": {},
   "outputs": [],
   "source": [
    "o_beam.select_export_slices_folder()"
   ]
  },
  {
   "cell_type": "markdown",
   "id": "cbb12003",
   "metadata": {},
   "source": [
    "This next cell will export the slices. "
   ]
  },
  {
   "cell_type": "code",
   "execution_count": null,
   "id": "5a97a799",
   "metadata": {},
   "outputs": [],
   "source": [
    "o_beam.export_slices()"
   ]
  },
  {
   "cell_type": "markdown",
   "id": "c20fb822",
   "metadata": {},
   "source": [
    "<hr><hr style=\"border-bottom: dotted 1px;\" />\n",
    "<font color='red' size='5'>OPTIONAL</font>: export log file"
   ]
  },
  {
   "cell_type": "code",
   "execution_count": null,
   "id": "25c8afd3",
   "metadata": {},
   "outputs": [],
   "source": [
    "o_beam.select_export_extra_files()"
   ]
  },
  {
   "cell_type": "code",
   "execution_count": null,
   "id": "4db82b11",
   "metadata": {},
   "outputs": [],
   "source": [
    "o_beam.export_extra_files()"
   ]
  },
  {
   "cell_type": "code",
   "execution_count": null,
   "id": "58131b7a",
   "metadata": {},
   "outputs": [],
   "source": []
  }
 ],
 "metadata": {
  "kernelspec": {
   "display_name": "hsnt",
   "language": "python",
   "name": "python3"
  },
  "language_info": {
   "codemirror_mode": {
    "name": "ipython",
    "version": 3
   },
   "file_extension": ".py",
   "mimetype": "text/x-python",
   "name": "python",
   "nbconvert_exporter": "python",
   "pygments_lexer": "ipython3",
   "version": "3.9.20"
  }
 },
 "nbformat": 4,
 "nbformat_minor": 5
}
