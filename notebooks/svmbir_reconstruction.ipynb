{
 "cells": [
  {
   "cell_type": "code",
   "execution_count": 1,
   "id": "d537c2cb",
   "metadata": {
    "execution": {
     "iopub.execute_input": "2024-10-22T16:17:31.634467Z",
     "iopub.status.busy": "2024-10-22T16:17:31.634280Z",
     "iopub.status.idle": "2024-10-22T16:17:34.128639Z",
     "shell.execute_reply": "2024-10-22T16:17:34.128174Z",
     "shell.execute_reply.started": "2024-10-22T16:17:31.634453Z"
    }
   },
   "outputs": [
    {
     "data": {
      "text/html": [
       "\n",
       "<style type=\"text/css\">\n",
       ".jupyter-widgets select option {font-family: \"Lucida Console\", Monaco, monospace;}\n",
       ".jupyter-widgets select {width: 98%;}\n",
       "div.output_subarea {padding: 0px;}\n",
       "div.output_subarea > div {margin: 0.4em;}\n",
       "</style>\n"
      ],
      "text/plain": [
       "<IPython.core.display.HTML object>"
      ]
     },
     "metadata": {},
     "output_type": "display_data"
    },
    {
     "data": {
      "text/html": [
       "\n",
       "<style type=\"text/css\">\n",
       ".jupyter-widgets select option {font-family: \"Lucida Console\", Monaco, monospace;}\n",
       "div.output_subarea {padding: 0px;}\n",
       "div.output_subarea > div {margin: 0.4em;}\n",
       "</style>\n"
      ],
      "text/plain": [
       "<IPython.core.display.HTML object>"
      ]
     },
     "metadata": {},
     "output_type": "display_data"
    },
    {
     "data": {
      "text/html": [
       "\n",
       "                   <style>\n",
       "                   .result_label {\n",
       "                      font-style: bold;\n",
       "                      color: red;\n",
       "                      font-size: 18px;\n",
       "                   }\n",
       "                   </style>\n",
       "                   "
      ],
      "text/plain": [
       "<IPython.core.display.HTML object>"
      ]
     },
     "metadata": {},
     "output_type": "display_data"
    },
    {
     "data": {
      "application/vnd.jupyter.widget-view+json": {
       "model_id": "1d5a5b1fe3574f578f2dc7b192b3f38d",
       "version_major": 2,
       "version_minor": 0
      },
      "text/plain": [
       "VBox(children=(HBox(children=(Label(value='Select Instrument', layout=Layout(width='20%')), Select(layout=Layo…"
      ]
     },
     "metadata": {},
     "output_type": "display_data"
    },
    {
     "data": {
      "text/html": [
       "<style>\n",
       "\n",
       "/* The following CSS has been adapted from\n",
       "   http://nbviewer.ipython.org/github/ketch/teaching-numerics-with-notebooks/blob/master/Styling_notebooks.ipynb\n",
       "   by Aron Ahmadia and David Ketcheson and has been reused under CC BY 4.0\n",
       "   */\n",
       "\n",
       "/* main background */\n",
       "#site { \n",
       "    background: #888;\n",
       "    color: red; \n",
       "}\n",
       "\n",
       "div.container {\n",
       "    width: 100% ! important;\n",
       "}\n",
       "\n",
       "div.cell { /* set cell width to about 80 chars */\n",
       "    width: 95%;\n",
       "}\n",
       "\n",
       "div #notebook { /* centre the content */\n",
       "/*    background: #fff; /* white background for content */\n",
       "    background: blue;\n",
       "    width: 100%;\n",
       "    margin: auto;\n",
       "    padding-left: 1em;\n",
       "    padding-right: 1em;\n",
       "    background-image: url(\"tile_background.jpg\");\n",
       "}\n",
       "\n",
       "#notebook li { /* More space between bullet points */\n",
       "    margin-top:0.4em;\n",
       "}\n",
       "\n",
       "/* change background color of running cells */\n",
       "div.cell.code_cell.running {\n",
       "/*    background-color: rgba(164,188,194,.75); */\n",
       "    background-color: green;\n",
       "    border-width: 8px;\n",
       "    border-style: solid;\n",
       "    border-color: #111;\n",
       "}\n",
       "\n",
       "/* Put a solid color box around each cell and its output, visually linking them together */\n",
       "div.cell.code_cell {\n",
       "    background-color: rgba(164,188,194,.25); /* Continuum L Gray with alpha 0.25 */\n",
       "    border-radius: 10px; /* rounded borders */\n",
       "    padding: 1em;\n",
       "    margin-top: 1em;\n",
       "}\n",
       "\n",
       "div.text_cell_render{\n",
       "\tfont-family: Georgia, Times, 'Times New Roman', serif;\n",
       "    line-height: 110%;\n",
       "    font-size: 105%;\n",
       "    width: 95%;\n",
       "    margin-left: auto;\n",
       "    margin-right: auto;\n",
       "}\n",
       "\n",
       "\n",
       "/* Formatting for header cells */\n",
       ".text_cell_render h1 {\n",
       "\tfont-family: Arial, 'Helvetica Neue', Helvetica, sans-serif;\n",
       "    font-weight: 400;\n",
       "    font-size: 30pt;\n",
       "    line-height: 100%;\n",
       "    color: rgb(37,55,70); /* Continuum Blue*/\n",
       "    margin-bottom: 0.1em;\n",
       "    margin-top: 0.1em;\n",
       "    display: block;\n",
       "}\n",
       ".text_cell_render h2 {\n",
       "\tfont-family: Arial, 'Helvetica Neue', Helvetica, sans-serif;\n",
       "    font-weight: 700;\n",
       "    font-size: 22pt;\n",
       "    line-height: 100%;\n",
       "    color: rgb(37,55,70);\n",
       "    margin-bottom: 0.1em;\n",
       "    margin-top: 0.1em;\n",
       "    display: block;\n",
       "}\n",
       "\n",
       ".text_cell_render h3 {\n",
       "\tfont-family: Arial, 'Helvetica Neue', Helvetica, sans-serif;\n",
       "    margin-top:12px;\n",
       "    margin-bottom: 3px;\n",
       "    font-style: italic;\n",
       "    color: rgb(37, 55, 70);\n",
       "}\n",
       "\n",
       ".text_cell_render h4 {\n",
       "\tfont-family: Arial, 'Helvetica Neue', Helvetica, sans-serif;\n",
       "}\n",
       "\n",
       ".text_cell_render h5 {\n",
       "\tfont-family: Arial, 'Helvetica Neue', Helvetica, sans-serif;\n",
       "    font-weight: 300;\n",
       "    font-size: 14pt;\n",
       "    font-style: italic;\n",
       "    margin-bottom: .1em;\n",
       "    margin-top: 0.1em;\n",
       "    display: block;\n",
       "}\n",
       "\n",
       ".text_cell_render h6 {\n",
       "\tfont-family: Arial, 'Helvetica Neue', Helvetica, sans-serif;\n",
       "    font-weight: 300;\n",
       "    font-size: 10pt;\n",
       "    margin-bottom: 1px;\n",
       "    margin-top: 1px;\n",
       "}\n",
       "\n",
       ".CodeMirror{\n",
       "        font-family: \"PT Mono\", fixed;\n",
       "        font-size: 100%;\n",
       "}\n",
       "\n",
       "#notebook_panel { /* main background */\n",
       "    background-image: url(\"tile_background.jpg\");\n",
       "}\n",
       "</style>"
      ],
      "text/plain": [
       "<IPython.core.display.HTML object>"
      ]
     },
     "execution_count": 1,
     "metadata": {},
     "output_type": "execute_result"
    }
   ],
   "source": [
    "# this is using the hsnt kernel conda environment\n",
    "\n",
    "import warnings\n",
    "warnings.filterwarnings('ignore')\n",
    "\n",
    "%matplotlib inline\n",
    "\n",
    "from __code.svmbir_reconstruction import SvmbirReconstruction\n",
    "\n",
    "from __code import system\n",
    "\n",
    "system.System.select_working_dir()\n",
    "from __code.__all import custom_style\n",
    "custom_style.style()"
   ]
  },
  {
   "cell_type": "markdown",
   "id": "b9d745bd",
   "metadata": {},
   "source": [
    "# Input sample folder\n",
    "\n",
    "This folder will contains all the runs (1 run per angle).\n",
    "\n",
    "<font color='blue'><b>Instructions</b>: select folder containing projections</font>"
   ]
  },
  {
   "cell_type": "code",
   "execution_count": 2,
   "id": "4521c25a",
   "metadata": {
    "execution": {
     "iopub.execute_input": "2024-10-22T16:17:36.905040Z",
     "iopub.status.busy": "2024-10-22T16:17:36.904648Z",
     "iopub.status.idle": "2024-10-22T16:17:37.073806Z",
     "shell.execute_reply": "2024-10-22T16:17:37.073421Z",
     "shell.execute_reply.started": "2024-10-22T16:17:36.904997Z"
    }
   },
   "outputs": [
    {
     "name": "stdout",
     "output_type": "stream",
     "text": [
      "Top sample folder selected: /SNS/VENUS/IPTS-33699/shared/autoreduce/mcp/September20_2024_PurpleCar_GoldenRatio_CT_5_0_C_Cd_inBeam_Resonance\n"
     ]
    }
   ],
   "source": [
    "o_beam = SvmbirReconstruction(system=system)\n",
    "o_beam.select_top_sample_folder()"
   ]
  },
  {
   "cell_type": "markdown",
   "id": "5d532080",
   "metadata": {},
   "source": [
    "# Input Open Beam (OB) folder\n",
    "\n",
    "Just like for the sample, this folder contains 1 or more runs of the open beam images\n",
    "\n",
    "<font color='blue'><b>Instructions</b>: select folder containing OB</font>"
   ]
  },
  {
   "cell_type": "code",
   "execution_count": 3,
   "id": "51549f93",
   "metadata": {
    "execution": {
     "iopub.execute_input": "2024-10-22T16:18:13.212360Z",
     "iopub.status.busy": "2024-10-22T16:18:13.212157Z",
     "iopub.status.idle": "2024-10-22T16:18:13.387333Z",
     "shell.execute_reply": "2024-10-22T16:18:13.386980Z",
     "shell.execute_reply.started": "2024-10-22T16:18:13.212346Z"
    }
   },
   "outputs": [
    {
     "name": "stdout",
     "output_type": "stream",
     "text": [
      "Top ob folder selected: /SNS/VENUS/IPTS-33699/shared/autoreduce/mcp/September26_2024_PurpleCar_OpenBean_5_0_C_Cd_inBeam_Resonance\n"
     ]
    }
   ],
   "source": [
    "o_beam.select_top_ob_folder()"
   ]
  },
  {
   "cell_type": "markdown",
   "id": "70d4e198",
   "metadata": {},
   "source": [
    "# Pre-processing the data\n",
    "\n",
    "This step will filter the data using the following criteria\n",
    "\n",
    "* all the runs that do not have any tif images in it will be **rejected**\n",
    "* the proton charge of each run will be retrieved and display in a recap graph. It will be up to the users to **select the proton charge** to use as well as the **acceptance criteria**. This is because the proton charge of each run is always slightly different, this criteria define the range for which 2 runs are considered being acquired with the same proton charge.\n",
    "\n",
    "<img src=\"__code/__all/TutorialProtonChargeSelection.gif\" />\n",
    "\n",
    "<font color='blue'><b>Instructions</b>\n",
    "\n",
    " - Use the sliders to define the **sample proton charge** and **OB proton charge** to use\n",
    " - Use the second slider to define the size of the **acceptance criteria range**\n",
    "\n",
    "<font size=1 color='black'><u>Developer Notes</u>: data are stored in <i>list_of_runs = {DataType.sample: {'Run_1234':\n",
    " {Run.full_path: \"\", Run.proton_charge: \"\", Run.use_it: \"\", Run.angle: \"\"}, ...}</i></font>\n",
    " "
   ]
  },
  {
   "cell_type": "code",
   "execution_count": 4,
   "id": "c6c19340",
   "metadata": {
    "execution": {
     "iopub.execute_input": "2024-10-22T16:18:27.354352Z",
     "iopub.status.busy": "2024-10-22T16:18:27.354088Z",
     "iopub.status.idle": "2024-10-22T16:18:41.689491Z",
     "shell.execute_reply": "2024-10-22T16:18:41.689086Z",
     "shell.execute_reply.started": "2024-10-22T16:18:27.354337Z"
    }
   },
   "outputs": [
    {
     "data": {
      "application/vnd.jupyter.widget-view+json": {
       "model_id": "2f5eb9cbd2d64bc09416af3f771c897d",
       "version_major": 2,
       "version_minor": 0
      },
      "text/plain": [
       "interactive(children=(FloatSlider(value=5.0, description='sample pc', max=6.39261979793, min=-0.95576512851), …"
      ]
     },
     "metadata": {},
     "output_type": "display_data"
    }
   ],
   "source": [
    "o_beam.checking_data()"
   ]
  },
  {
   "cell_type": "markdown",
   "id": "613093e4",
   "metadata": {},
   "source": [
    "This will recap the list of runs that will be used for SAMPLE and OB. \n",
    "\n",
    "<font color='blue'><b>Instructions</b>: Because some runs look like they are ok but still need to be rejected, **Feel free to manually select any run you want to exclude !**</font>\n",
    "\n",
    "Mode of operation:\n",
    "* CMD + click: select more than 1 run\n",
    "* SHIFT + click: select all the runs up to previous click\n",
    "</font>\n",
    "\n",
    "<font size=1><u>Developer Notes</u>: this step will set the <i>Run.use_it</i> parametere of the <i>list_of_runs</i> dictionary. "
   ]
  },
  {
   "cell_type": "code",
   "execution_count": 5,
   "id": "5b1217bc",
   "metadata": {
    "execution": {
     "iopub.execute_input": "2024-10-22T16:18:45.260896Z",
     "iopub.status.busy": "2024-10-22T16:18:45.260662Z",
     "iopub.status.idle": "2024-10-22T16:18:45.522129Z",
     "shell.execute_reply": "2024-10-22T16:18:45.521772Z",
     "shell.execute_reply.started": "2024-10-22T16:18:45.260883Z"
    }
   },
   "outputs": [
    {
     "data": {
      "application/vnd.jupyter.widget-view+json": {
       "model_id": "d272454be50d4a1e85895b0b77ceba0e",
       "version_major": 2,
       "version_minor": 0
      },
      "text/plain": [
       "VBox(children=(HTML(value='<b>Select any run(s) you want to exclude!:'), HBox(children=(VBox(children=(Label(v…"
      ]
     },
     "metadata": {},
     "output_type": "display_data"
    }
   ],
   "source": [
    "o_beam.recap_data()"
   ]
  },
  {
   "cell_type": "markdown",
   "id": "2c8f0113",
   "metadata": {},
   "source": [
    "# TOF mode \n",
    "\n",
    "You have the option between:\n",
    "\n",
    "- <font color='blue'>white beam</font>: where all the images of a given projection will be added, removing the TOF information\n",
    "- <font color='blue'>TOF</font>: you will need to select the range of TOF you want to combine"
   ]
  },
  {
   "cell_type": "code",
   "execution_count": 6,
   "id": "cc6559ee",
   "metadata": {
    "execution": {
     "iopub.execute_input": "2024-10-22T16:18:48.326276Z",
     "iopub.status.busy": "2024-10-22T16:18:48.326057Z",
     "iopub.status.idle": "2024-10-22T16:18:48.330436Z",
     "shell.execute_reply": "2024-10-22T16:18:48.330136Z",
     "shell.execute_reply.started": "2024-10-22T16:18:48.326260Z"
    }
   },
   "outputs": [
    {
     "data": {
      "application/vnd.jupyter.widget-view+json": {
       "model_id": "0a9c628154ac4f9e96f0a6f7e0e6f4da",
       "version_major": 2,
       "version_minor": 0
      },
      "text/plain": [
       "ToggleButtons(index=1, options=('white_beam', 'tof'), value='tof')"
      ]
     },
     "metadata": {},
     "output_type": "display_data"
    }
   ],
   "source": [
    "o_beam.mode_selection()"
   ]
  },
  {
   "cell_type": "markdown",
   "id": "107d1050",
   "metadata": {},
   "source": [
    "# Load data"
   ]
  },
  {
   "cell_type": "markdown",
   "id": "666d5d89",
   "metadata": {},
   "source": [
    "This cell will load the data then will behave differently according to the mode you selected.\n",
    "\n",
    "- <font color=blue><b>White beam</b></font>:\n",
    "This step will add all the counts within a given run, making it feel like the data were acquired in white beam mode, loosing the time-of-flight (TOF) information.\n",
    "\n",
    "- <font color=blue><b>TOF</b></font>: you will need to define the range of TOF to use as well as the instrument settings to use. This will be done in the next 3 cells.\n",
    "\n",
    "This step will also sort the runs by increasing angle value.\n",
    "\n",
    "<font size=1><u>Developer Notes</u>: change the value of <i>Run.use_it</i> for runs rejected and combine runs data in <i>master_3d_data_array = {DataType.sample: [runs, y, x], ...}</font>\n"
   ]
  },
  {
   "cell_type": "code",
   "execution_count": 7,
   "id": "0eee229f",
   "metadata": {
    "execution": {
     "iopub.execute_input": "2024-10-22T16:18:53.107641Z",
     "iopub.status.busy": "2024-10-22T16:18:53.107407Z",
     "iopub.status.idle": "2024-10-22T16:29:35.223093Z",
     "shell.execute_reply": "2024-10-22T16:29:35.222590Z",
     "shell.execute_reply.started": "2024-10-22T16:18:53.107622Z"
    }
   },
   "outputs": [
    {
     "name": "stderr",
     "output_type": "stream",
     "text": [
      "100%|██████████| 4/4 [00:28<00:00,  7.13s/it]\n",
      "100%|██████████| 1/1 [00:07<00:00,  7.61s/it]\n"
     ]
    },
    {
     "data": {
      "application/vnd.jupyter.widget-view+json": {
       "model_id": "ccf17b8f73fd4cf784109d1ac5e20c4f",
       "version_major": 2,
       "version_minor": 0
      },
      "text/plain": [
       "HBox(children=(Label(value='distance source detector (m):', layout=Layout(width='max-contents')), Label(value=…"
      ]
     },
     "metadata": {},
     "output_type": "display_data"
    },
    {
     "data": {
      "application/vnd.jupyter.widget-view+json": {
       "model_id": "7898f5004859426cb6721c9c34dc332c",
       "version_major": 2,
       "version_minor": 0
      },
      "text/plain": [
       "interactive(children=(FloatText(value=9000.0, description='det_offset'), IntSlider(value=100, description='lef…"
      ]
     },
     "metadata": {},
     "output_type": "display_data"
    }
   ],
   "source": [
    "o_beam.load_data()"
   ]
  },
  {
   "cell_type": "markdown",
   "id": "d4fce189",
   "metadata": {},
   "source": [
    "<font color=black>IMPORTANT: If running in <b>white beam</b> mode, this cell will be ignored</font>\n",
    "<br>\n",
    "<font color=blue>In TOF mode, this cell allows you to select the ranges of TOF you want to combine</font>"
   ]
  },
  {
   "cell_type": "code",
   "execution_count": 8,
   "id": "12354103",
   "metadata": {
    "execution": {
     "iopub.execute_input": "2024-10-22T16:29:38.350301Z",
     "iopub.status.busy": "2024-10-22T16:29:38.350086Z",
     "iopub.status.idle": "2024-10-22T16:29:38.353676Z",
     "shell.execute_reply": "2024-10-22T16:29:38.353285Z",
     "shell.execute_reply.started": "2024-10-22T16:29:38.350284Z"
    }
   },
   "outputs": [
    {
     "data": {
      "application/vnd.jupyter.widget-view+json": {
       "model_id": "35b97da36736437da3cdbe7306a8433b",
       "version_major": 2,
       "version_minor": 0
      },
      "text/plain": [
       "interactive(children=(IntSlider(value=0, description='left_tof', max=2701), IntSlider(value=2701, description=…"
      ]
     },
     "metadata": {},
     "output_type": "display_data"
    }
   ],
   "source": [
    "o_beam.select_tof_ranges()"
   ]
  },
  {
   "cell_type": "markdown",
   "id": "fc378d38",
   "metadata": {},
   "source": [
    "<font color=black>IMPORTANT: If running in <b>white beam</b> mode, this cell will be ignored</font><br>\n",
    "<font color=blue>In TOF mode, this next cell will <b>combine the images</b> corresponding to that range of TOF</font>"
   ]
  },
  {
   "cell_type": "code",
   "execution_count": 9,
   "id": "4169e252",
   "metadata": {
    "execution": {
     "iopub.execute_input": "2024-10-22T16:29:54.816951Z",
     "iopub.status.busy": "2024-10-22T16:29:54.816740Z",
     "iopub.status.idle": "2024-10-22T16:29:54.819446Z",
     "shell.execute_reply": "2024-10-22T16:29:54.819148Z",
     "shell.execute_reply.started": "2024-10-22T16:29:54.816936Z"
    }
   },
   "outputs": [],
   "source": [
    "o_beam.combine_tof_mode_data()"
   ]
  },
  {
   "cell_type": "markdown",
   "id": "df329504",
   "metadata": {},
   "source": [
    "# Pre-processing\n",
    "\n",
    "* remove dead pixels\n",
    "* remove abnormal very high counts\n",
    "\n",
    "<font color='blue'><b>Instructions</b>: by default, all the pixels found in the first and last bin are considered as **bad** pixels. You have the option to change those settings. </font>"
   ]
  },
  {
   "cell_type": "code",
   "execution_count": 10,
   "id": "2b490aff",
   "metadata": {},
   "outputs": [
    {
     "data": {
      "application/vnd.jupyter.widget-view+json": {
       "model_id": "a13d14ab5e494b59b3e31bd92c5a94e9",
       "version_major": 2,
       "version_minor": 0
      },
      "text/plain": [
       "VBox(children=(Checkbox(value=False, description='Histogram'), Checkbox(value=False, description='Threshold'))…"
      ]
     },
     "metadata": {},
     "output_type": "display_data"
    }
   ],
   "source": [
    "o_beam.clean_images_settings()"
   ]
  },
  {
   "cell_type": "code",
   "execution_count": 11,
   "id": "66e1f723",
   "metadata": {
    "execution": {
     "iopub.execute_input": "2024-10-22T16:29:56.280396Z",
     "iopub.status.busy": "2024-10-22T16:29:56.280172Z",
     "iopub.status.idle": "2024-10-22T16:29:56.855429Z",
     "shell.execute_reply": "2024-10-22T16:29:56.855101Z",
     "shell.execute_reply.started": "2024-10-22T16:29:56.280379Z"
    }
   },
   "outputs": [],
   "source": [
    "o_beam.clean_images_setup()"
   ]
  },
  {
   "cell_type": "markdown",
   "id": "ca45d69c",
   "metadata": {},
   "source": [
    "Perform the cleaning using the settings define in the previous cell.\n",
    "\n",
    "<font size=1><u>Developer Notes</u>: create the <i>master_3d_data_array_cleaned<i> dictionary."
   ]
  },
  {
   "cell_type": "code",
   "execution_count": 12,
   "id": "694507be",
   "metadata": {
    "execution": {
     "iopub.execute_input": "2024-10-22T16:29:58.470850Z",
     "iopub.status.busy": "2024-10-22T16:29:58.470621Z",
     "iopub.status.idle": "2024-10-22T16:29:58.729238Z",
     "shell.execute_reply": "2024-10-22T16:29:58.728922Z",
     "shell.execute_reply.started": "2024-10-22T16:29:58.470833Z"
    }
   },
   "outputs": [],
   "source": [
    "o_beam.clean_images()"
   ]
  },
  {
   "cell_type": "markdown",
   "id": "f29a8f0d",
   "metadata": {},
   "source": [
    "<hr><hr style=\"border-bottom: dotted 1px;\" />\n",
    "<font color='red' size='5'>OPTIONAL</font>: Export cleaned images\n",
    "\n",
    "If you don't want to export the intermediate cleaned images, just skip the next cell!"
   ]
  },
  {
   "cell_type": "code",
   "execution_count": null,
   "id": "206ac244",
   "metadata": {},
   "outputs": [],
   "source": [
    "o_beam.select_export_folder()"
   ]
  },
  {
   "cell_type": "code",
   "execution_count": null,
   "id": "577b8f4c",
   "metadata": {},
   "outputs": [],
   "source": [
    "o_beam.export_cleaned_images()"
   ]
  },
  {
   "cell_type": "markdown",
   "id": "ea14a6e5-5921-4ddc-97a4-6b5411e14d0d",
   "metadata": {
    "execution": {
     "iopub.execute_input": "2024-09-25T16:48:21.997748Z",
     "iopub.status.busy": "2024-09-25T16:48:21.997353Z",
     "iopub.status.idle": "2024-09-25T16:48:21.999893Z",
     "shell.execute_reply": "2024-09-25T16:48:21.999578Z",
     "shell.execute_reply.started": "2024-09-25T16:48:21.997731Z"
    }
   },
   "source": [
    "<hr style=\"border-bottom: dotted 1px;\" /><hr>\n",
    "\n",
    "# Normalization\n",
    "\n",
    "<font size=1><u>Developer Notes</u>: create the <i>normalized_data</i> 3D data array."
   ]
  },
  {
   "cell_type": "markdown",
   "id": "622bc51f",
   "metadata": {},
   "source": [
    "<font color='blue'><b>Instructions</b>: in order to improve the normalization, you can turn ON/OFF any of the following \n",
    "\n",
    "- <font color=red><b>use proton charge</b></font>: that option will use the proton charge value requested for each runs and open beams and will bring them to the same value by applying a coefficient corector to the data.\n",
    "- <font color=red><b>use acqusition number</b></font>: that option will use the acquisition number (if found) to match them between runs and apply a coefficient corector to the data.\n",
    "- <font color=red><b>use background region of interest (ROI)</b></font>: select a region that does not contain any part of the sample in order to match the counts with the same ROI of the open beam.</font>"
   ]
  },
  {
   "cell_type": "code",
   "execution_count": 13,
   "id": "7b613711",
   "metadata": {
    "execution": {
     "iopub.execute_input": "2024-10-22T16:30:02.521083Z",
     "iopub.status.busy": "2024-10-22T16:30:02.520847Z",
     "iopub.status.idle": "2024-10-22T16:30:02.527020Z",
     "shell.execute_reply": "2024-10-22T16:30:02.526731Z",
     "shell.execute_reply.started": "2024-10-22T16:30:02.521065Z"
    }
   },
   "outputs": [
    {
     "data": {
      "application/vnd.jupyter.widget-view+json": {
       "model_id": "9eb99a6aefb94374b8ba840e2e79cd49",
       "version_major": 2,
       "version_minor": 0
      },
      "text/plain": [
       "VBox(children=(Checkbox(value=False, description='Use proton charge'), Checkbox(value=False, description='Use …"
      ]
     },
     "metadata": {},
     "output_type": "display_data"
    }
   ],
   "source": [
    "o_beam.normalization_settings()"
   ]
  },
  {
   "cell_type": "markdown",
   "id": "6af1d90a",
   "metadata": {},
   "source": [
    "This next cell will allow you to select the background region within the projections images, or will just be ignored if you not chose to use it.\n",
    "\n",
    "<font color='blue'><b>Instructions</b>: define ROI\n",
    "\n",
    "Make sure you select a region <font color='red'> OUTSIDE</font> of your sample\n",
    "\n",
    "<img src=\"__code/__all/demo_of_roi_selection.gif\" />\n",
    "\n",
    "NB: The next cell will be ignored if you didn't select <b>Use ROI</b>"
   ]
  },
  {
   "cell_type": "code",
   "execution_count": 14,
   "id": "f57796df",
   "metadata": {
    "execution": {
     "iopub.execute_input": "2024-10-22T16:30:08.887148Z",
     "iopub.status.busy": "2024-10-22T16:30:08.886935Z",
     "iopub.status.idle": "2024-10-22T16:30:09.159143Z",
     "shell.execute_reply": "2024-10-22T16:30:09.158825Z",
     "shell.execute_reply.started": "2024-10-22T16:30:08.887133Z"
    }
   },
   "outputs": [],
   "source": [
    "o_beam.normalization_select_roi()"
   ]
  },
  {
   "cell_type": "markdown",
   "id": "c4221eb9",
   "metadata": {},
   "source": [
    "This cell will perform the normalization using any of the settings you define just above."
   ]
  },
  {
   "cell_type": "code",
   "execution_count": 15,
   "id": "48c201d4",
   "metadata": {
    "execution": {
     "iopub.execute_input": "2024-10-22T16:30:27.139103Z",
     "iopub.status.busy": "2024-10-22T16:30:27.138881Z",
     "iopub.status.idle": "2024-10-22T16:30:28.657881Z",
     "shell.execute_reply": "2024-10-22T16:30:28.657336Z",
     "shell.execute_reply.started": "2024-10-22T16:30:27.139089Z"
    }
   },
   "outputs": [],
   "source": [
    "o_beam.normalization()"
   ]
  },
  {
   "cell_type": "markdown",
   "id": "97bf27d7",
   "metadata": {},
   "source": [
    "<hr><hr style=\"border-bottom: dotted 1px;\" />\n",
    "<font color='red' size='5'>OPTIONAL</font>: run it only if you want to visualize the normalized data"
   ]
  },
  {
   "cell_type": "code",
   "execution_count": null,
   "id": "47d0df72",
   "metadata": {
    "execution": {
     "iopub.execute_input": "2024-10-22T16:30:32.638325Z",
     "iopub.status.busy": "2024-10-22T16:30:32.638089Z",
     "iopub.status.idle": "2024-10-22T16:30:32.643128Z",
     "shell.execute_reply": "2024-10-22T16:30:32.642771Z",
     "shell.execute_reply.started": "2024-10-22T16:30:32.638307Z"
    }
   },
   "outputs": [],
   "source": [
    "o_beam.visualization_normalization_settings()"
   ]
  },
  {
   "cell_type": "code",
   "execution_count": null,
   "id": "13d7ca09",
   "metadata": {
    "execution": {
     "iopub.execute_input": "2024-10-22T16:30:34.552233Z",
     "iopub.status.busy": "2024-10-22T16:30:34.551778Z",
     "iopub.status.idle": "2024-10-22T16:30:36.971791Z",
     "shell.execute_reply": "2024-10-22T16:30:36.971284Z",
     "shell.execute_reply.started": "2024-10-22T16:30:34.552200Z"
    }
   },
   "outputs": [],
   "source": [
    "o_beam.visualize_normalization()"
   ]
  },
  {
   "cell_type": "markdown",
   "id": "ba00ac93",
   "metadata": {},
   "source": [
    "<hr><hr style=\"border-bottom: dotted 1px;\" />\n",
    "<font color='red' size='5'>OPTIONAL</font>: run if you want to export the normalized data"
   ]
  },
  {
   "cell_type": "markdown",
   "id": "0e3dcaa4",
   "metadata": {},
   "source": [
    "Select the folder where to export the normalized images"
   ]
  },
  {
   "cell_type": "code",
   "execution_count": null,
   "id": "08cdae4f",
   "metadata": {},
   "outputs": [],
   "source": [
    "o_beam.select_export_normalized_folder()"
   ]
  },
  {
   "cell_type": "markdown",
   "id": "89fa91c6",
   "metadata": {},
   "source": [
    "Run this cell to execute the export of the normalized images"
   ]
  },
  {
   "cell_type": "code",
   "execution_count": null,
   "id": "9c86b702",
   "metadata": {},
   "outputs": [],
   "source": [
    "o_beam.export_normalized_images()"
   ]
  },
  {
   "cell_type": "markdown",
   "id": "e9dc5342",
   "metadata": {},
   "source": [
    "<hr style=\"border-bottom: dotted 1px;\" /><hr>"
   ]
  },
  {
   "cell_type": "markdown",
   "id": "ed3c599d",
   "metadata": {},
   "source": [
    "# Chips correction\n",
    "\n",
    "<font size=1><u>Developer Notes</u>: create the <i>corrected_images<i> 3D data array</font>"
   ]
  },
  {
   "cell_type": "code",
   "execution_count": 16,
   "id": "c0452685-1d91-40e3-acc7-769504e6f0ba",
   "metadata": {
    "execution": {
     "iopub.execute_input": "2024-10-22T16:31:10.532146Z",
     "iopub.status.busy": "2024-10-22T16:31:10.531945Z",
     "iopub.status.idle": "2024-10-22T16:31:10.648508Z",
     "shell.execute_reply": "2024-10-22T16:31:10.647983Z",
     "shell.execute_reply.started": "2024-10-22T16:31:10.532132Z"
    }
   },
   "outputs": [],
   "source": [
    "o_beam.chips_correction()"
   ]
  },
  {
   "cell_type": "markdown",
   "id": "72b51cb9",
   "metadata": {},
   "source": [
    "<hr><hr style=\"border-bottom: dotted 1px;\" />\n",
    "<font color='red' size='5'>OPTIONAL</font>: display images before and after chips correction"
   ]
  },
  {
   "cell_type": "code",
   "execution_count": null,
   "id": "6cb32414",
   "metadata": {
    "execution": {
     "iopub.execute_input": "2024-10-22T16:31:11.836961Z",
     "iopub.status.busy": "2024-10-22T16:31:11.836660Z",
     "iopub.status.idle": "2024-10-22T16:31:12.163274Z",
     "shell.execute_reply": "2024-10-22T16:31:12.162884Z",
     "shell.execute_reply.started": "2024-10-22T16:31:11.836936Z"
    }
   },
   "outputs": [],
   "source": [
    "o_beam.visualize_chips_correction()"
   ]
  },
  {
   "cell_type": "markdown",
   "id": "739a9355",
   "metadata": {},
   "source": [
    "<hr><hr style=\"border-bottom: dotted 1px;\" />\n",
    "<font color='red' size='5'>OPTIONAL</font>: run if you want to remove any stripes causing ring artifacs in the reconstruction"
   ]
  },
  {
   "cell_type": "markdown",
   "id": "e5a7f823",
   "metadata": {},
   "source": [
    "## Remove stripes\n",
    "\n",
    "<font size=1><u>Developer Notes</u>: this step will create the 3d array <i>strip_corrected_images</i>"
   ]
  },
  {
   "cell_type": "code",
   "execution_count": 17,
   "id": "e6432b5b",
   "metadata": {
    "execution": {
     "iopub.execute_input": "2024-10-22T16:31:22.640321Z",
     "iopub.status.busy": "2024-10-22T16:31:22.640091Z",
     "iopub.status.idle": "2024-10-22T16:31:22.654694Z",
     "shell.execute_reply": "2024-10-22T16:31:22.654295Z",
     "shell.execute_reply.started": "2024-10-22T16:31:22.640302Z"
    }
   },
   "outputs": [
    {
     "data": {
      "application/vnd.jupyter.widget-view+json": {
       "model_id": "597120c431b846ae9a80601fd99f5136",
       "version_major": 2,
       "version_minor": 0
      },
      "text/plain": [
       "HTML(value='<font size=4><b>Select the algorithms to use (CTRL + CLICK to select more than one)</b></font>')"
      ]
     },
     "metadata": {},
     "output_type": "display_data"
    },
    {
     "data": {
      "application/vnd.jupyter.widget-view+json": {
       "model_id": "9697bd9addf749db8d72435c2e65ac3a",
       "version_major": 2,
       "version_minor": 0
      },
      "text/plain": [
       "HBox(children=(VBox(children=(HTML(value='<b>List of algorithms available</b>'), SelectMultiple(layout=Layout(…"
      ]
     },
     "metadata": {},
     "output_type": "display_data"
    },
    {
     "data": {
      "application/vnd.jupyter.widget-view+json": {
       "model_id": "144451f3d0324825be68b2836a8c0740",
       "version_major": 2,
       "version_minor": 0
      },
      "text/plain": [
       "Button(button_style='info', description='Algorithms documentation ...', layout=Layout(width='max-content'), st…"
      ]
     },
     "metadata": {},
     "output_type": "display_data"
    }
   ],
   "source": [
    "o_beam.select_remove_strips_algorithms()"
   ]
  },
  {
   "cell_type": "code",
   "execution_count": 18,
   "id": "081d0e6b",
   "metadata": {
    "execution": {
     "iopub.execute_input": "2024-10-22T16:31:24.085797Z",
     "iopub.status.busy": "2024-10-22T16:31:24.085577Z",
     "iopub.status.idle": "2024-10-22T16:31:24.090485Z",
     "shell.execute_reply": "2024-10-22T16:31:24.090109Z",
     "shell.execute_reply.started": "2024-10-22T16:31:24.085782Z"
    }
   },
   "outputs": [
    {
     "data": {
      "application/vnd.jupyter.widget-view+json": {
       "model_id": "dc2477dcc87e47d3a56a841f5611ad51",
       "version_major": 2,
       "version_minor": 0
      },
      "text/plain": [
       "Accordion(children=(VBox(children=(FloatText(value=3.0, description='snr'), IntText(value=61, description='la_…"
      ]
     },
     "metadata": {},
     "output_type": "display_data"
    }
   ],
   "source": [
    "o_beam.define_settings()"
   ]
  },
  {
   "cell_type": "code",
   "execution_count": 25,
   "id": "75d3d677",
   "metadata": {
    "execution": {
     "iopub.execute_input": "2024-10-22T16:31:25.324692Z",
     "iopub.status.busy": "2024-10-22T16:31:25.324461Z",
     "iopub.status.idle": "2024-10-22T16:31:29.542816Z",
     "shell.execute_reply": "2024-10-22T16:31:29.542354Z",
     "shell.execute_reply.started": "2024-10-22T16:31:25.324676Z"
    }
   },
   "outputs": [
    {
     "name": "stderr",
     "output_type": "stream",
     "text": [
      "100%|██████████| 1/1 [00:01<00:00,  1.88s/it]\n"
     ]
    },
    {
     "data": {
      "text/html": [
       "<font color=green><b>List of algos that worked:</b></font>"
      ],
      "text/plain": [
       "<IPython.core.display.HTML object>"
      ]
     },
     "metadata": {},
     "output_type": "display_data"
    },
    {
     "data": {
      "text/html": [
       "<font color=green> * remove_all_stripe</font>"
      ],
      "text/plain": [
       "<IPython.core.display.HTML object>"
      ]
     },
     "metadata": {},
     "output_type": "display_data"
    },
    {
     "data": {
      "application/vnd.jupyter.widget-view+json": {
       "model_id": "bbbba7f3e18f42f0bd3dde7a2efa27ae",
       "version_major": 2,
       "version_minor": 0
      },
      "text/plain": [
       "interactive(children=(IntSlider(value=0, description='image_index', max=3), IntSlider(value=0, description='sl…"
      ]
     },
     "metadata": {},
     "output_type": "display_data"
    }
   ],
   "source": [
    "o_beam.remove_strips_and_display()"
   ]
  },
  {
   "cell_type": "markdown",
   "id": "51a27fed-4720-4e52-aa1a-6dbc8995ee46",
   "metadata": {
    "execution": {
     "iopub.execute_input": "2024-09-25T16:48:35.218331Z",
     "iopub.status.busy": "2024-09-25T16:48:35.218025Z",
     "iopub.status.idle": "2024-09-25T16:48:35.220484Z",
     "shell.execute_reply": "2024-09-25T16:48:35.220124Z",
     "shell.execute_reply.started": "2024-09-25T16:48:35.218314Z"
    }
   },
   "source": [
    "<hr><hr style=\"border-bottom: dotted 1px;\" />\n",
    "<font color='red' size='5'>OPTIONAL</font>: run if you want to correct for tilt and center of rotation\n",
    "\n",
    "# Calculate center of rotation and tilt\n",
    "\n",
    "The algorithm will determine the 0 and 180 degrees runs and use those to calculate the <b>center of rotation</b> and the <b>tilt</b>\n",
    "<br><br>\n",
    "\n",
    "<font color='blue'><b>Instructions</b>: first, you need to select an vertical range contaning the sample\n",
    "\n",
    "<font color='blue'>TIPS</font> - Make sure the sample is within the range defined\n",
    "\n",
    "<font size=1 color='white'><u>Developer Notes</u>: this step will create the 3d array <i>corrected_images</i>"
   ]
  },
  {
   "cell_type": "code",
   "execution_count": 27,
   "id": "25b6a401",
   "metadata": {
    "execution": {
     "iopub.execute_input": "2024-10-22T16:31:56.260914Z",
     "iopub.status.busy": "2024-10-22T16:31:56.260570Z",
     "iopub.status.idle": "2024-10-22T16:31:56.587829Z",
     "shell.execute_reply": "2024-10-22T16:31:56.587501Z",
     "shell.execute_reply.started": "2024-10-22T16:31:56.260898Z"
    }
   },
   "outputs": [
    {
     "data": {
      "application/vnd.jupyter.widget-view+json": {
       "model_id": "b5bb99faf36046e585b88ee2714a6fe7",
       "version_major": 2,
       "version_minor": 0
      },
      "text/plain": [
       "interactive(children=(IntSlider(value=0, description='y_top', max=511), IntSlider(value=511, description='y_bo…"
      ]
     },
     "metadata": {},
     "output_type": "display_data"
    }
   ],
   "source": [
    "o_beam.select_sample_roi()"
   ]
  },
  {
   "cell_type": "code",
   "execution_count": null,
   "id": "2cfe6f5b",
   "metadata": {
    "execution": {
     "iopub.execute_input": "2024-10-22T16:32:06.220126Z",
     "iopub.status.busy": "2024-10-22T16:32:06.219913Z",
     "iopub.status.idle": "2024-10-22T16:32:09.091694Z",
     "shell.execute_reply": "2024-10-22T16:32:09.091283Z",
     "shell.execute_reply.started": "2024-10-22T16:32:06.220112Z"
    }
   },
   "outputs": [],
   "source": [
    "o_beam.calculate_center_of_rotation_and_tilt()"
   ]
  },
  {
   "cell_type": "markdown",
   "id": "b1ee7f20",
   "metadata": {},
   "source": [
    "<hr><hr style=\"border-bottom: dotted 1px;\" />\n",
    "<font color='red' size='5'>OPTIONAL</font>: run if you want to review and <font color='blue'>exclude</font> any projections from the reconstruction."
   ]
  },
  {
   "cell_type": "code",
   "execution_count": null,
   "id": "e0ca793f",
   "metadata": {
    "execution": {
     "iopub.execute_input": "2024-10-22T16:32:17.657371Z",
     "iopub.status.busy": "2024-10-22T16:32:17.657027Z",
     "iopub.status.idle": "2024-10-22T16:32:20.250957Z",
     "shell.execute_reply": "2024-10-22T16:32:20.250521Z",
     "shell.execute_reply.started": "2024-10-22T16:32:17.657354Z"
    }
   },
   "outputs": [],
   "source": [
    "o_beam.final_projections_review()"
   ]
  },
  {
   "cell_type": "markdown",
   "id": "735faafb",
   "metadata": {},
   "source": [
    "<hr style=\"border-bottom: dotted 1px;\" /><hr>"
   ]
  },
  {
   "cell_type": "markdown",
   "id": "f79fabc5-69d4-40a9-938d-43250c0cfd38",
   "metadata": {},
   "source": [
    "# Reconstruction\n",
    "\n",
    "The following cells will perform the reconstruction using the svmbir algorithm\n",
    "\n",
    "<font color='blue'><b>Instructions</b>: \n",
    "\n",
    "- select the vertical range of slices you want to use in the reconstruction (the larger the range, the longer it will take to reconstruct the volume). Any slice outside of that range won't be render.\n",
    "- define the reconstruction settings (keeping the <b>default values</b> is a good choice for novice users)</font>\n",
    "\n",
    "The rendered slices will be automatically displayed when it's done!"
   ]
  },
  {
   "cell_type": "code",
   "execution_count": 28,
   "id": "dd0e3924",
   "metadata": {},
   "outputs": [
    {
     "data": {
      "application/vnd.jupyter.widget-view+json": {
       "model_id": "e47f78a33db24bfea3c0bec8ff16d28f",
       "version_major": 2,
       "version_minor": 0
      },
      "text/plain": [
       "HTML(value='<font size=5>Select range of slices to reconstruct</font')"
      ]
     },
     "metadata": {},
     "output_type": "display_data"
    },
    {
     "data": {
      "application/vnd.jupyter.widget-view+json": {
       "model_id": "b0940343b4014881a398a905aa9ef492",
       "version_major": 2,
       "version_minor": 0
      },
      "text/plain": [
       "interactive(children=(IntSlider(value=0, description='image_index', max=3), IntSlider(value=0, description='to…"
      ]
     },
     "metadata": {},
     "output_type": "display_data"
    },
    {
     "data": {
      "application/vnd.jupyter.widget-view+json": {
       "model_id": "7e3b0c3589f443058005bcd785cef56f",
       "version_major": 2,
       "version_minor": 0
      },
      "text/plain": [
       "HTML(value='<hr>')"
      ]
     },
     "metadata": {},
     "output_type": "display_data"
    },
    {
     "data": {
      "application/vnd.jupyter.widget-view+json": {
       "model_id": "2af7032c7f134d07b1d3c05a3302214d",
       "version_major": 2,
       "version_minor": 0
      },
      "text/plain": [
       "HTML(value='<font size=5>Define reconstruction settings</font')"
      ]
     },
     "metadata": {},
     "output_type": "display_data"
    },
    {
     "data": {
      "application/vnd.jupyter.widget-view+json": {
       "model_id": "dd041e564efd430491a055e560a250ef",
       "version_major": 2,
       "version_minor": 0
      },
      "text/plain": [
       "VBox(children=(FloatSlider(value=0.0, description='sharpness', max=1.0), FloatSlider(value=30.0, description='…"
      ]
     },
     "metadata": {},
     "output_type": "display_data"
    }
   ],
   "source": [
    "o_beam.svmbir_settings()"
   ]
  },
  {
   "cell_type": "markdown",
   "id": "b2c1f461",
   "metadata": {},
   "source": [
    "<hr><hr style=\"border-bottom: dotted 1px;\" />\n",
    "<font color='red' size='5'>OPTIONAL</font>: run if you want to display the sinograms"
   ]
  },
  {
   "cell_type": "code",
   "execution_count": null,
   "id": "5161e111",
   "metadata": {},
   "outputs": [],
   "source": [
    "o_beam.svmbir_display_sinograms()"
   ]
  },
  {
   "cell_type": "markdown",
   "id": "c486d10c",
   "metadata": {},
   "source": [
    "<hr style=\"border-bottom: dotted 1px;\" /><hr>\n",
    "\n",
    "Execute the reconstruction"
   ]
  },
  {
   "cell_type": "code",
   "execution_count": null,
   "id": "1c9f5972",
   "metadata": {},
   "outputs": [],
   "source": [
    "o_beam.svmbir_run()"
   ]
  },
  {
   "cell_type": "markdown",
   "id": "0315ff1a",
   "metadata": {},
   "source": [
    "# Export the slices\n",
    "\n",
    "<font color='blue'><b>Instructions</b>: select the folder where to export the reconstructed slices"
   ]
  },
  {
   "cell_type": "code",
   "execution_count": null,
   "id": "d2affc67",
   "metadata": {},
   "outputs": [],
   "source": [
    "o_beam.select_export_slices_folder()"
   ]
  },
  {
   "cell_type": "markdown",
   "id": "cbb12003",
   "metadata": {},
   "source": [
    "This next cell will export the slices. "
   ]
  },
  {
   "cell_type": "code",
   "execution_count": null,
   "id": "5a97a799",
   "metadata": {},
   "outputs": [],
   "source": [
    "o_beam.export_slices()"
   ]
  },
  {
   "cell_type": "markdown",
   "id": "c20fb822",
   "metadata": {},
   "source": [
    "<hr><hr style=\"border-bottom: dotted 1px;\" />\n",
    "<font color='red' size='5'>OPTIONAL</font>: export log file"
   ]
  },
  {
   "cell_type": "code",
   "execution_count": null,
   "id": "25c8afd3",
   "metadata": {},
   "outputs": [],
   "source": [
    "o_beam.select_export_extra_files()"
   ]
  },
  {
   "cell_type": "code",
   "execution_count": null,
   "id": "4db82b11",
   "metadata": {},
   "outputs": [],
   "source": [
    "o_beam.export_extra_files()"
   ]
  },
  {
   "cell_type": "code",
   "execution_count": null,
   "id": "58131b7a",
   "metadata": {},
   "outputs": [],
   "source": []
  }
 ],
 "metadata": {
  "kernelspec": {
   "display_name": "hsnt",
   "language": "python",
   "name": "python3"
  },
  "language_info": {
   "codemirror_mode": {
    "name": "ipython",
    "version": 3
   },
   "file_extension": ".py",
   "mimetype": "text/x-python",
   "name": "python",
   "nbconvert_exporter": "python",
   "pygments_lexer": "ipython3",
   "version": "3.9.20"
  }
 },
 "nbformat": 4,
 "nbformat_minor": 5
}
