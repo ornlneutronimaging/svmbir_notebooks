{
 "cells": [
  {
   "cell_type": "code",
   "execution_count": 2,
   "id": "d537c2cb",
   "metadata": {
    "execution": {
     "iopub.execute_input": "2024-09-26T21:26:30.516782Z",
     "iopub.status.busy": "2024-09-26T21:26:30.516367Z",
     "iopub.status.idle": "2024-09-26T21:26:32.717495Z",
     "shell.execute_reply": "2024-09-26T21:26:32.717089Z",
     "shell.execute_reply.started": "2024-09-26T21:26:30.516760Z"
    }
   },
   "outputs": [
    {
     "data": {
      "text/html": [
       "\n",
       "                   <style>\n",
       "                   .result_label {\n",
       "                      font-style: bold;\n",
       "                      color: red;\n",
       "                      font-size: 18px;\n",
       "                   }\n",
       "                   </style>\n",
       "                   "
      ],
      "text/plain": [
       "<IPython.core.display.HTML object>"
      ]
     },
     "metadata": {},
     "output_type": "display_data"
    },
    {
     "data": {
      "application/vnd.jupyter.widget-view+json": {
       "model_id": "eaf4879d101344139470ddc36456183b",
       "version_major": 2,
       "version_minor": 0
      },
      "text/plain": [
       "VBox(children=(HBox(children=(Label(value='Select Instrument', layout=Layout(width='20%')), Select(layout=Layo…"
      ]
     },
     "metadata": {},
     "output_type": "display_data"
    },
    {
     "data": {
      "text/html": [
       "<style>\n",
       "\n",
       "/* The following CSS has been adapted from\n",
       "   http://nbviewer.ipython.org/github/ketch/teaching-numerics-with-notebooks/blob/master/Styling_notebooks.ipynb\n",
       "   by Aron Ahmadia and David Ketcheson and has been reused under CC BY 4.0\n",
       "   */\n",
       "\n",
       "/* main background */\n",
       "#site { \n",
       "    background: #888;\n",
       "    color: red; \n",
       "}\n",
       "\n",
       "div.container {\n",
       "    width: 100% ! important;\n",
       "}\n",
       "\n",
       "div.cell { /* set cell width to about 80 chars */\n",
       "    width: 95%;\n",
       "}\n",
       "\n",
       "div #notebook { /* centre the content */\n",
       "/*    background: #fff; /* white background for content */\n",
       "    background: blue;\n",
       "    width: 100%;\n",
       "    margin: auto;\n",
       "    padding-left: 1em;\n",
       "    padding-right: 1em;\n",
       "    background-image: url(\"tile_background.jpg\");\n",
       "}\n",
       "\n",
       "#notebook li { /* More space between bullet points */\n",
       "    margin-top:0.4em;\n",
       "}\n",
       "\n",
       "/* change background color of running cells */\n",
       "div.cell.code_cell.running {\n",
       "/*    background-color: rgba(164,188,194,.75); */\n",
       "    background-color: green;\n",
       "    border-width: 8px;\n",
       "    border-style: solid;\n",
       "    border-color: #111;\n",
       "}\n",
       "\n",
       "/* Put a solid color box around each cell and its output, visually linking them together */\n",
       "div.cell.code_cell {\n",
       "    background-color: rgba(164,188,194,.25); /* Continuum L Gray with alpha 0.25 */\n",
       "    border-radius: 10px; /* rounded borders */\n",
       "    padding: 1em;\n",
       "    margin-top: 1em;\n",
       "}\n",
       "\n",
       "div.text_cell_render{\n",
       "\tfont-family: Georgia, Times, 'Times New Roman', serif;\n",
       "    line-height: 110%;\n",
       "    font-size: 105%;\n",
       "    width: 95%;\n",
       "    margin-left: auto;\n",
       "    margin-right: auto;\n",
       "}\n",
       "\n",
       "\n",
       "/* Formatting for header cells */\n",
       ".text_cell_render h1 {\n",
       "\tfont-family: Arial, 'Helvetica Neue', Helvetica, sans-serif;\n",
       "    font-weight: 400;\n",
       "    font-size: 30pt;\n",
       "    line-height: 100%;\n",
       "    color: rgb(37,55,70); /* Continuum Blue*/\n",
       "    margin-bottom: 0.1em;\n",
       "    margin-top: 0.1em;\n",
       "    display: block;\n",
       "}\n",
       ".text_cell_render h2 {\n",
       "\tfont-family: Arial, 'Helvetica Neue', Helvetica, sans-serif;\n",
       "    font-weight: 700;\n",
       "    font-size: 22pt;\n",
       "    line-height: 100%;\n",
       "    color: rgb(37,55,70);\n",
       "    margin-bottom: 0.1em;\n",
       "    margin-top: 0.1em;\n",
       "    display: block;\n",
       "}\n",
       "\n",
       ".text_cell_render h3 {\n",
       "\tfont-family: Arial, 'Helvetica Neue', Helvetica, sans-serif;\n",
       "    margin-top:12px;\n",
       "    margin-bottom: 3px;\n",
       "    font-style: italic;\n",
       "    color: rgb(37, 55, 70);\n",
       "}\n",
       "\n",
       ".text_cell_render h4 {\n",
       "\tfont-family: Arial, 'Helvetica Neue', Helvetica, sans-serif;\n",
       "}\n",
       "\n",
       ".text_cell_render h5 {\n",
       "\tfont-family: Arial, 'Helvetica Neue', Helvetica, sans-serif;\n",
       "    font-weight: 300;\n",
       "    font-size: 14pt;\n",
       "    font-style: italic;\n",
       "    margin-bottom: .1em;\n",
       "    margin-top: 0.1em;\n",
       "    display: block;\n",
       "}\n",
       "\n",
       ".text_cell_render h6 {\n",
       "\tfont-family: Arial, 'Helvetica Neue', Helvetica, sans-serif;\n",
       "    font-weight: 300;\n",
       "    font-size: 10pt;\n",
       "    margin-bottom: 1px;\n",
       "    margin-top: 1px;\n",
       "}\n",
       "\n",
       ".CodeMirror{\n",
       "        font-family: \"PT Mono\", fixed;\n",
       "        font-size: 100%;\n",
       "}\n",
       "\n",
       "#notebook_panel { /* main background */\n",
       "    background-image: url(\"tile_background.jpg\");\n",
       "}\n",
       "</style>"
      ],
      "text/plain": [
       "<IPython.core.display.HTML object>"
      ]
     },
     "execution_count": 2,
     "metadata": {},
     "output_type": "execute_result"
    }
   ],
   "source": [
    "# this is using the hsnt kernel conda environment\n",
    "\n",
    "import warnings\n",
    "warnings.filterwarnings('ignore')\n",
    "\n",
    "%matplotlib inline\n",
    "\n",
    "from __code.svmbir_reconstruction import SvmbirReconstruction\n",
    "\n",
    "from __code import system\n",
    "\n",
    "system.System.select_working_dir()\n",
    "from __code.__all import custom_style\n",
    "custom_style.style()"
   ]
  },
  {
   "cell_type": "markdown",
   "id": "b9d745bd",
   "metadata": {},
   "source": [
    "# Input sample folder\n",
    "\n",
    "This folder will contains all the runs (1 run per angle).\n",
    "\n",
    "<font color='blue'><b>Instructions</b>: select folder containing projections</font>"
   ]
  },
  {
   "cell_type": "code",
   "execution_count": 3,
   "id": "4521c25a",
   "metadata": {
    "execution": {
     "iopub.execute_input": "2024-09-26T21:26:35.901974Z",
     "iopub.status.busy": "2024-09-26T21:26:35.901647Z",
     "iopub.status.idle": "2024-09-26T21:26:35.906304Z",
     "shell.execute_reply": "2024-09-26T21:26:35.905929Z",
     "shell.execute_reply.started": "2024-09-26T21:26:35.901955Z"
    }
   },
   "outputs": [
    {
     "name": "stdout",
     "output_type": "stream",
     "text": [
      "Top sample folder selected: /SNS/VENUS/IPTS-33699/shared/autoreduce/mcp/September20_2024_PurpleCar_GoldenRatio_CT_5_0_C_Cd_inBeam_Resonance\n"
     ]
    }
   ],
   "source": [
    "o_beam = SvmbirReconstruction(system=system)\n",
    "o_beam.select_top_sample_folder()"
   ]
  },
  {
   "cell_type": "markdown",
   "id": "5d532080",
   "metadata": {},
   "source": [
    "# Input Open Beam (OB) folder\n",
    "\n",
    "Just like for the sample, this folder contains 1 or more runs of the open beam images\n",
    "\n",
    "<font color='blue'><b>Instructions</b>: select folder containing OB</font>"
   ]
  },
  {
   "cell_type": "code",
   "execution_count": 4,
   "id": "51549f93",
   "metadata": {
    "execution": {
     "iopub.execute_input": "2024-09-26T21:26:36.282364Z",
     "iopub.status.busy": "2024-09-26T21:26:36.281911Z",
     "iopub.status.idle": "2024-09-26T21:26:36.285442Z",
     "shell.execute_reply": "2024-09-26T21:26:36.285064Z",
     "shell.execute_reply.started": "2024-09-26T21:26:36.282345Z"
    }
   },
   "outputs": [
    {
     "name": "stdout",
     "output_type": "stream",
     "text": [
      "Top ob folder selected: /SNS/VENUS/IPTS-33699/shared/autoreduce/mcp/September26_2024_PurpleCar_OpenBean_5_0_C_Cd_inBeam_Resonance\n"
     ]
    }
   ],
   "source": [
    "o_beam.select_top_ob_folder()"
   ]
  },
  {
   "cell_type": "markdown",
   "id": "70d4e198",
   "metadata": {},
   "source": [
    "# Pre-processing the data\n",
    "\n",
    "This step will filter the data using the following criteria\n",
    "\n",
    "* all the runs that do not have any tif images in it will be **rejected**\n",
    "* the proton charge of each run will be retrieved and display in a recap graph. It will be up to the users to **select the proton charge** to use as well as the **acceptance criteria**. This is because the proton charge of each run is always slightly different, this criteria define the range for which 2 runs are considered being acquired with the same proton charge.\n",
    "\n",
    "<img src=\"__code/__all/TutorialProtonChargeSelection.gif\" />\n",
    "\n",
    "<font color='blue'><b>Instructions</b>\n",
    "\n",
    " - Use the sliders to define the **sample proton charge** and **OB proton charge** to use\n",
    " - Use the second slider to define the size of the **acceptance criteria range**\n",
    "\n",
    "<font size=1 color='white'><u>Developer Notes</u>: data are stored in <i>list_of_runs = {DataType.sample: {'Run_1234':\n",
    " {Run.full_path: \"\", Run.proton_charge: \"\", Run.use_it: \"\", Run.angle: \"\"}, ...}</i></font>\n",
    " "
   ]
  },
  {
   "cell_type": "code",
   "execution_count": 5,
   "id": "c6c19340",
   "metadata": {
    "execution": {
     "iopub.execute_input": "2024-09-26T21:26:37.521119Z",
     "iopub.status.busy": "2024-09-26T21:26:37.520762Z",
     "iopub.status.idle": "2024-09-26T21:26:42.113056Z",
     "shell.execute_reply": "2024-09-26T21:26:42.112692Z",
     "shell.execute_reply.started": "2024-09-26T21:26:37.521103Z"
    }
   },
   "outputs": [
    {
     "data": {
      "application/vnd.jupyter.widget-view+json": {
       "model_id": "cfc5a7062cf94fc998d1a97b08ac5804",
       "version_major": 2,
       "version_minor": 0
      },
      "text/plain": [
       "interactive(children=(FloatSlider(value=5.0, description='sample pc', max=6.39261979793, min=-0.95576512851), …"
      ]
     },
     "metadata": {},
     "output_type": "display_data"
    }
   ],
   "source": [
    "o_beam.checking_data()"
   ]
  },
  {
   "cell_type": "markdown",
   "id": "613093e4",
   "metadata": {},
   "source": [
    "This will recap the list of runs that will be used for SAMPLE and OB. \n",
    "\n",
    "<font color='blue'><b>Instructions</b>: Because some runs look like they are ok but still need to be rejected, **Feel free to manually select any run you want to exclude !**</font>\n",
    "\n",
    "<font size=1 color='white'><u>Developer Notes</u>: this step will set the <i>Run.use_it</i> parametere of the <i>list_of_runs> dictionary. "
   ]
  },
  {
   "cell_type": "code",
   "execution_count": 6,
   "id": "5b1217bc",
   "metadata": {
    "execution": {
     "iopub.execute_input": "2024-09-26T21:26:59.437447Z",
     "iopub.status.busy": "2024-09-26T21:26:59.437123Z",
     "iopub.status.idle": "2024-09-26T21:26:59.451448Z",
     "shell.execute_reply": "2024-09-26T21:26:59.451028Z",
     "shell.execute_reply.started": "2024-09-26T21:26:59.437432Z"
    }
   },
   "outputs": [
    {
     "data": {
      "application/vnd.jupyter.widget-view+json": {
       "model_id": "0f1c0be46a4c43c791a414ea0b7fca6a",
       "version_major": 2,
       "version_minor": 0
      },
      "text/plain": [
       "VBox(children=(HTML(value='<b>Select any run(s) you want to exclude!:'), HBox(children=(VBox(children=(Label(v…"
      ]
     },
     "metadata": {},
     "output_type": "display_data"
    }
   ],
   "source": [
    "o_beam.recap_data()"
   ]
  },
  {
   "cell_type": "markdown",
   "id": "2c8f0113",
   "metadata": {},
   "source": [
    "# TOF mode \n",
    "\n",
    "You have the option between:\n",
    "\n",
    "- <font color='blue'>white beam</font>: where all the images of a given projection will be added, removing the TOF information\n",
    "- <font color='blue'>TOF</font>: you will need to select the range of TOF you want to combine"
   ]
  },
  {
   "cell_type": "code",
   "execution_count": 7,
   "id": "cc6559ee",
   "metadata": {},
   "outputs": [
    {
     "data": {
      "application/vnd.jupyter.widget-view+json": {
       "model_id": "fbc2a9c26562463d845c6a6fd1def005",
       "version_major": 2,
       "version_minor": 0
      },
      "text/plain": [
       "ToggleButtons(index=1, options=('white_beam', 'tof'), value='tof')"
      ]
     },
     "metadata": {},
     "output_type": "display_data"
    }
   ],
   "source": [
    "o_beam.mode_selection()"
   ]
  },
  {
   "cell_type": "code",
   "execution_count": 9,
   "id": "89e3cadc",
   "metadata": {},
   "outputs": [
    {
     "name": "stderr",
     "output_type": "stream",
     "text": [
      "0it [00:00, ?it/s]\n",
      "100%|██████████| 1/1 [00:07<00:00,  7.28s/it]\n"
     ]
    },
    {
     "ename": "IndexError",
     "evalue": "index 0 is out of bounds for axis 0 with size 0",
     "output_type": "error",
     "traceback": [
      "\u001b[0;31m---------------------------------------------------------------------------\u001b[0m",
      "\u001b[0;31mIndexError\u001b[0m                                Traceback (most recent call last)",
      "Cell \u001b[0;32mIn[9], line 1\u001b[0m\n\u001b[0;32m----> 1\u001b[0m \u001b[43mo_beam\u001b[49m\u001b[38;5;241;43m.\u001b[39;49m\u001b[43mload_data\u001b[49m\u001b[43m(\u001b[49m\u001b[43m)\u001b[49m\n",
      "File \u001b[0;32m/SNS/snfs1/instruments/VENUS/shared/software/git/svmbir_notebooks/notebooks/__code/svmbir_reconstruction.py:155\u001b[0m, in \u001b[0;36mSvmbirReconstruction.load_data\u001b[0;34m(self)\u001b[0m\n\u001b[1;32m    154\u001b[0m \u001b[38;5;28;01mdef\u001b[39;00m \u001b[38;5;21mload_data\u001b[39m(\u001b[38;5;28mself\u001b[39m):\n\u001b[0;32m--> 155\u001b[0m     \u001b[38;5;28;43mself\u001b[39;49m\u001b[38;5;241;43m.\u001b[39;49m\u001b[43mo_mode\u001b[49m\u001b[38;5;241;43m.\u001b[39;49m\u001b[43mload\u001b[49m\u001b[43m(\u001b[49m\u001b[43m)\u001b[49m\n",
      "File \u001b[0;32m/SNS/snfs1/instruments/VENUS/shared/software/git/svmbir_notebooks/notebooks/__code/workflow/mode_selection.py:35\u001b[0m, in \u001b[0;36mModeSelection.load\u001b[0;34m(self)\u001b[0m\n\u001b[1;32m     33\u001b[0m combine_mode \u001b[38;5;241m=\u001b[39m (\u001b[38;5;28mself\u001b[39m\u001b[38;5;241m.\u001b[39mmode_selection_ui\u001b[38;5;241m.\u001b[39mvalue \u001b[38;5;241m==\u001b[39m OperatingMode\u001b[38;5;241m.\u001b[39mwhite_beam)\n\u001b[1;32m     34\u001b[0m o_combine \u001b[38;5;241m=\u001b[39m Load(parent\u001b[38;5;241m=\u001b[39m\u001b[38;5;28mself\u001b[39m\u001b[38;5;241m.\u001b[39mparent)\n\u001b[0;32m---> 35\u001b[0m \u001b[43mo_combine\u001b[49m\u001b[38;5;241;43m.\u001b[39;49m\u001b[43mload_data\u001b[49m\u001b[43m(\u001b[49m\u001b[43mcombine\u001b[49m\u001b[38;5;241;43m=\u001b[39;49m\u001b[43mcombine_mode\u001b[49m\u001b[43m)\u001b[49m\n\u001b[1;32m     37\u001b[0m \u001b[38;5;28;01mif\u001b[39;00m \u001b[38;5;129;01mnot\u001b[39;00m combine_mode:\n\u001b[1;32m     38\u001b[0m     \u001b[38;5;28;01mpass\u001b[39;00m\n",
      "File \u001b[0;32m/SNS/snfs1/instruments/VENUS/shared/software/git/svmbir_notebooks/notebooks/__code/workflow/load.py:88\u001b[0m, in \u001b[0;36mLoad.load_data\u001b[0;34m(self, combine)\u001b[0m\n\u001b[1;32m     85\u001b[0m         logging\u001b[38;5;241m.\u001b[39minfo(\u001b[38;5;124mf\u001b[39m\u001b[38;5;124m\"\u001b[39m\u001b[38;5;130;01m\\t\u001b[39;00m\u001b[38;5;130;01m\\t\u001b[39;00m\u001b[38;5;124m loading done!\u001b[39m\u001b[38;5;124m\"\u001b[39m)\n\u001b[1;32m     86\u001b[0m     \u001b[38;5;28mself\u001b[39m\u001b[38;5;241m.\u001b[39mparent\u001b[38;5;241m.\u001b[39mmaster_3d_data_array[_data_type] \u001b[38;5;241m=\u001b[39m np\u001b[38;5;241m.\u001b[39marray(_master_data)\n\u001b[0;32m---> 88\u001b[0m height, width \u001b[38;5;241m=\u001b[39m np\u001b[38;5;241m.\u001b[39mshape(\u001b[38;5;28;43mself\u001b[39;49m\u001b[38;5;241;43m.\u001b[39;49m\u001b[43mparent\u001b[49m\u001b[38;5;241;43m.\u001b[39;49m\u001b[43mmaster_3d_data_array\u001b[49m\u001b[43m[\u001b[49m\u001b[43mDataType\u001b[49m\u001b[38;5;241;43m.\u001b[39;49m\u001b[43msample\u001b[49m\u001b[43m]\u001b[49m\u001b[43m[\u001b[49m\u001b[38;5;241;43m0\u001b[39;49m\u001b[43m]\u001b[49m)\n\u001b[1;32m     89\u001b[0m \u001b[38;5;28mself\u001b[39m\u001b[38;5;241m.\u001b[39mparent\u001b[38;5;241m.\u001b[39mimage_size \u001b[38;5;241m=\u001b[39m {\u001b[38;5;124m'\u001b[39m\u001b[38;5;124mheight\u001b[39m\u001b[38;5;124m'\u001b[39m: height,\n\u001b[1;32m     90\u001b[0m                           \u001b[38;5;124m'\u001b[39m\u001b[38;5;124mwidth\u001b[39m\u001b[38;5;124m'\u001b[39m: width}\n",
      "\u001b[0;31mIndexError\u001b[0m: index 0 is out of bounds for axis 0 with size 0"
     ]
    }
   ],
   "source": [
    "o_beam.load_data()"
   ]
  },
  {
   "cell_type": "markdown",
   "id": "107d1050",
   "metadata": {},
   "source": [
    "# Load data"
   ]
  },
  {
   "cell_type": "markdown",
   "id": "666d5d89",
   "metadata": {},
   "source": [
    "This cell will load the data then will behave differently according to the mode you selected.\n",
    "\n",
    "- If you selected <font color=blue>White beam</font>, for each run (projection) the images will be added. \n",
    "- If you selected <font color=blue>TOF</font>, you will need to define the range of TOF to use as well as the instrument settings to use.\n"
   ]
  },
  {
   "cell_type": "code",
   "execution_count": null,
   "id": "0eee229f",
   "metadata": {},
   "outputs": [],
   "source": [
    "o_beam.load_data()"
   ]
  },
  {
   "cell_type": "code",
   "execution_count": null,
   "id": "59563f12",
   "metadata": {},
   "outputs": [],
   "source": [
    "# display sample on one side and "
   ]
  },
  {
   "cell_type": "code",
   "execution_count": null,
   "id": "9535a2fe",
   "metadata": {},
   "outputs": [],
   "source": []
  },
  {
   "cell_type": "markdown",
   "id": "7fcce04d-80f0-4ab3-8fe0-12eb5087c883",
   "metadata": {
    "execution": {
     "iopub.execute_input": "2024-09-25T16:47:49.544284Z",
     "iopub.status.busy": "2024-09-25T16:47:49.543892Z",
     "iopub.status.idle": "2024-09-25T16:47:49.546943Z",
     "shell.execute_reply": "2024-09-25T16:47:49.546597Z",
     "shell.execute_reply.started": "2024-09-25T16:47:49.544268Z"
    }
   },
   "source": [
    "## Combine all the images within each run\n",
    "\n",
    "This step will add all the counts within a given run, making it feel like the data were acquired in white beam mode, loosing the time-of-flight (TOF) information. This step will also sort the runs by increasing angle value.\n",
    "\n",
    "<font size=1><u>Developer Notes</u>: change the value of <i>Run.use_it</i> for runs rejected and combine runs data in <i>master_3d_data_array = {DataType.sample: [runs, y, x], ...}</font>"
   ]
  },
  {
   "cell_type": "code",
   "execution_count": null,
   "id": "fc86b247",
   "metadata": {},
   "outputs": [],
   "source": [
    "o_white_beam.combine_images()"
   ]
  },
  {
   "cell_type": "markdown",
   "id": "df329504",
   "metadata": {},
   "source": [
    "# Pre-processing\n",
    "\n",
    "* remove dead pixels\n",
    "* remove abnormal very high counts\n",
    "\n",
    "<font color='blue'><b>Instructions</b>: by default, all the pixels found in the first and last bin are considered as **bad** pixels. You have the option to change those settings. </font>"
   ]
  },
  {
   "cell_type": "code",
   "execution_count": null,
   "id": "66e1f723",
   "metadata": {},
   "outputs": [],
   "source": [
    "o_white_beam.clean_images_setup()"
   ]
  },
  {
   "cell_type": "markdown",
   "id": "ca45d69c",
   "metadata": {},
   "source": [
    "Perform the cleaning using the settings define in the previous cell.\n",
    "\n",
    "<font size=1><u>Developer Notes</u>: create the <i>master_3d_data_array_cleaned<i> dictionary."
   ]
  },
  {
   "cell_type": "code",
   "execution_count": null,
   "id": "694507be",
   "metadata": {},
   "outputs": [],
   "source": [
    "o_white_beam.clean_images()"
   ]
  },
  {
   "cell_type": "markdown",
   "id": "f29a8f0d",
   "metadata": {},
   "source": [
    "<hr><hr style=\"border-bottom: dotted 1px;\" />\n",
    "<font color='red' size='5'>OPTIONAL</font>: Export cleaned images\n",
    "\n",
    "If you don't want to export the intermediate cleaned images, just skip the next cell!"
   ]
  },
  {
   "cell_type": "code",
   "execution_count": null,
   "id": "206ac244",
   "metadata": {},
   "outputs": [],
   "source": [
    "o_white_beam.select_export_folder()"
   ]
  },
  {
   "cell_type": "code",
   "execution_count": null,
   "id": "577b8f4c",
   "metadata": {},
   "outputs": [],
   "source": [
    "o_white_beam.export_cleaned_images()"
   ]
  },
  {
   "cell_type": "markdown",
   "id": "ea14a6e5-5921-4ddc-97a4-6b5411e14d0d",
   "metadata": {
    "execution": {
     "iopub.execute_input": "2024-09-25T16:48:21.997748Z",
     "iopub.status.busy": "2024-09-25T16:48:21.997353Z",
     "iopub.status.idle": "2024-09-25T16:48:21.999893Z",
     "shell.execute_reply": "2024-09-25T16:48:21.999578Z",
     "shell.execute_reply.started": "2024-09-25T16:48:21.997731Z"
    }
   },
   "source": [
    "<hr style=\"border-bottom: dotted 1px;\" /><hr>\n",
    "\n",
    "# Normalization\n",
    "\n",
    "<font size=1><u>Developer Notes</u>: create the <i>normalized_data</i> 3D data array."
   ]
  },
  {
   "cell_type": "markdown",
   "id": "622bc51f",
   "metadata": {},
   "source": [
    "<font color='blue'><b>Instructions</b>: in order to improve the normalization, you can turn ON/OFF any of the following \n",
    "\n",
    "- <font color=red><b>use proton charge</b></font>: that option will use the proton charge value requested for each runs and open beams and will bring them to the same value by applying a coefficient corector to the data.\n",
    "- <font color=red><b>use acqusition number</b></font>: that option will use the acquisition number (if found) to match them between runs and apply a coefficient corector to the data.\n",
    "- <font color=red><b>use background region of interest (ROI)</b></font>: select a region that does not contain any part of the sample in order to match the counts with the same ROI of the open beam.</font>"
   ]
  },
  {
   "cell_type": "code",
   "execution_count": null,
   "id": "7b613711",
   "metadata": {},
   "outputs": [],
   "source": [
    "o_white_beam.normalization_settings()"
   ]
  },
  {
   "cell_type": "markdown",
   "id": "6af1d90a",
   "metadata": {},
   "source": [
    "This next cell will allow you to select the background region within the projections images, or will just be ignored if you not chose to use it.\n",
    "\n",
    "<font color='blue'><b>Instructions</b>: define ROI\n",
    "\n",
    "Make sure you select a region <font color='red'> OUTSIDE</font> of your sample\n",
    "\n",
    "<img src=\"__code/__all/demo_of_roi_selection.gif\" />"
   ]
  },
  {
   "cell_type": "code",
   "execution_count": null,
   "id": "f57796df",
   "metadata": {},
   "outputs": [],
   "source": [
    "o_white_beam.normalization_select_roi()"
   ]
  },
  {
   "cell_type": "markdown",
   "id": "c4221eb9",
   "metadata": {},
   "source": [
    "This cell will perform the normalization using any of the settings you define just above."
   ]
  },
  {
   "cell_type": "code",
   "execution_count": 11,
   "id": "48c201d4",
   "metadata": {},
   "outputs": [],
   "source": [
    "o_white_beam.normalization()"
   ]
  },
  {
   "cell_type": "markdown",
   "id": "97bf27d7",
   "metadata": {},
   "source": [
    "<hr><hr style=\"border-bottom: dotted 1px;\" />\n",
    "<font color='red' size='5'>OPTIONAL</font>: run it only if you want to visualize the normalized data"
   ]
  },
  {
   "cell_type": "code",
   "execution_count": null,
   "id": "47d0df72",
   "metadata": {},
   "outputs": [],
   "source": [
    "o_white_beam.visualization_normalization_settings()"
   ]
  },
  {
   "cell_type": "code",
   "execution_count": null,
   "id": "13d7ca09",
   "metadata": {},
   "outputs": [],
   "source": [
    "o_white_beam.visualize_normalization()"
   ]
  },
  {
   "cell_type": "markdown",
   "id": "ba00ac93",
   "metadata": {},
   "source": [
    "<hr><hr style=\"border-bottom: dotted 1px;\" />\n",
    "<font color='red' size='5'>OPTIONAL</font>: run if you want to export the normalized data"
   ]
  },
  {
   "cell_type": "markdown",
   "id": "0e3dcaa4",
   "metadata": {},
   "source": [
    "Select the folder where to export the normalized images"
   ]
  },
  {
   "cell_type": "code",
   "execution_count": null,
   "id": "08cdae4f",
   "metadata": {},
   "outputs": [],
   "source": [
    "o_white_beam.select_export_normalized_folder()"
   ]
  },
  {
   "cell_type": "markdown",
   "id": "89fa91c6",
   "metadata": {},
   "source": [
    "Run this cell to execute the export of the normalized images"
   ]
  },
  {
   "cell_type": "code",
   "execution_count": null,
   "id": "9c86b702",
   "metadata": {},
   "outputs": [],
   "source": [
    "o_white_beam.export_normalized_images()"
   ]
  },
  {
   "cell_type": "markdown",
   "id": "e9dc5342",
   "metadata": {},
   "source": [
    "<hr style=\"border-bottom: dotted 1px;\" /><hr>"
   ]
  },
  {
   "cell_type": "markdown",
   "id": "ed3c599d",
   "metadata": {},
   "source": [
    "# Chips correction\n",
    "\n",
    "<font size=1><u>Developer Notes</u>: create the <i>corrected_images<i> 3D data array</font>"
   ]
  },
  {
   "cell_type": "code",
   "execution_count": 14,
   "id": "c0452685-1d91-40e3-acc7-769504e6f0ba",
   "metadata": {
    "execution": {
     "iopub.execute_input": "2024-09-25T16:48:27.512397Z",
     "iopub.status.busy": "2024-09-25T16:48:27.512050Z",
     "iopub.status.idle": "2024-09-25T16:48:27.514536Z",
     "shell.execute_reply": "2024-09-25T16:48:27.514251Z",
     "shell.execute_reply.started": "2024-09-25T16:48:27.512381Z"
    }
   },
   "outputs": [],
   "source": [
    "o_white_beam.chips_correction()"
   ]
  },
  {
   "cell_type": "markdown",
   "id": "72b51cb9",
   "metadata": {},
   "source": [
    "<hr><hr style=\"border-bottom: dotted 1px;\" />\n",
    "<font color='red' size='5'>OPTIONAL</font>: display images before and after chips correction"
   ]
  },
  {
   "cell_type": "code",
   "execution_count": null,
   "id": "6cb32414",
   "metadata": {},
   "outputs": [],
   "source": [
    "o_white_beam.visualize_chips_correction()"
   ]
  },
  {
   "cell_type": "markdown",
   "id": "739a9355",
   "metadata": {},
   "source": [
    "<hr><hr style=\"border-bottom: dotted 1px;\" />\n",
    "<font color='red' size='5'>OPTIONAL</font>: run if you want to remove any stripes causing ring artifacs in the reconstruction"
   ]
  },
  {
   "cell_type": "markdown",
   "id": "e5a7f823",
   "metadata": {},
   "source": [
    "## Remove stripes\n",
    "\n",
    "<font size=1><u>Developer Notes</u>: this step will create the 3d array <i>strip_corrected_images</i>"
   ]
  },
  {
   "cell_type": "code",
   "execution_count": null,
   "id": "e6432b5b",
   "metadata": {},
   "outputs": [],
   "source": [
    "o_white_beam.select_remove_strips_algorithms()"
   ]
  },
  {
   "cell_type": "code",
   "execution_count": null,
   "id": "081d0e6b",
   "metadata": {},
   "outputs": [],
   "source": [
    "o_white_beam.define_settings()"
   ]
  },
  {
   "cell_type": "code",
   "execution_count": null,
   "id": "75d3d677",
   "metadata": {},
   "outputs": [],
   "source": [
    "o_white_beam.remove_strips_and_display()"
   ]
  },
  {
   "cell_type": "markdown",
   "id": "51a27fed-4720-4e52-aa1a-6dbc8995ee46",
   "metadata": {
    "execution": {
     "iopub.execute_input": "2024-09-25T16:48:35.218331Z",
     "iopub.status.busy": "2024-09-25T16:48:35.218025Z",
     "iopub.status.idle": "2024-09-25T16:48:35.220484Z",
     "shell.execute_reply": "2024-09-25T16:48:35.220124Z",
     "shell.execute_reply.started": "2024-09-25T16:48:35.218314Z"
    }
   },
   "source": [
    "<hr><hr style=\"border-bottom: dotted 1px;\" />\n",
    "<font color='red' size='5'>OPTIONAL</font>: run if you want to correct for tilt and center of rotation\n",
    "\n",
    "# Calculate center of rotation and tilt\n",
    "\n",
    "The algorithm will determine the 0 and 180 degrees runs and use those to calculate the <b>center of rotation</b> and the <b>tilt</b>\n",
    "<br><br>\n",
    "\n",
    "<font color='blue'><b>Instructions</b>: first, you need to select an vertical range contaning the sample\n",
    "\n",
    "<font color='blue'>TIPS</font> - Make sure the sample is within the range defined\n",
    "\n",
    "<font size=1 color='white'><u>Developer Notes</u>: this step will create the 3d array <i>corrected_images</i>"
   ]
  },
  {
   "cell_type": "code",
   "execution_count": null,
   "id": "25b6a401",
   "metadata": {},
   "outputs": [],
   "source": [
    "o_white_beam.select_sample_roi()"
   ]
  },
  {
   "cell_type": "code",
   "execution_count": null,
   "id": "2cfe6f5b",
   "metadata": {},
   "outputs": [],
   "source": [
    "o_white_beam.calculate_center_of_rotation_and_tilt()"
   ]
  },
  {
   "cell_type": "markdown",
   "id": "b1ee7f20",
   "metadata": {},
   "source": [
    "<hr><hr style=\"border-bottom: dotted 1px;\" />\n",
    "<font color='red' size='5'>OPTIONAL</font>: run if you want to review and <font color='blue'>exclude</font> any projections from the reconstruction."
   ]
  },
  {
   "cell_type": "code",
   "execution_count": null,
   "id": "e0ca793f",
   "metadata": {},
   "outputs": [],
   "source": [
    "o_white_beam.final_projections_review()"
   ]
  },
  {
   "cell_type": "markdown",
   "id": "735faafb",
   "metadata": {},
   "source": [
    "<hr style=\"border-bottom: dotted 1px;\" /><hr>"
   ]
  },
  {
   "cell_type": "markdown",
   "id": "f79fabc5-69d4-40a9-938d-43250c0cfd38",
   "metadata": {},
   "source": [
    "# Reconstruction\n",
    "\n",
    "The following cells will perform the reconstruction using the svmbir algorithm\n",
    "\n",
    "<font color='blue'><b>Instructions</b>: \n",
    "\n",
    "- select the vertical range of slices you want to use in the reconstruction (the larger the range, the longer it will take to reconstruct the volume). Any slice outside of that range won't be render.\n",
    "- define the reconstruction settings (keeping the <b>default values</b> is a good choice for novice users)</font>\n",
    "\n",
    "The rendered slices will be automatically displayed when it's done!"
   ]
  },
  {
   "cell_type": "code",
   "execution_count": null,
   "id": "dd0e3924",
   "metadata": {},
   "outputs": [],
   "source": [
    "o_white_beam.svmbir_settings()"
   ]
  },
  {
   "cell_type": "markdown",
   "id": "b2c1f461",
   "metadata": {},
   "source": [
    "<hr><hr style=\"border-bottom: dotted 1px;\" />\n",
    "<font color='red' size='5'>OPTIONAL</font>: run if you want to display the sinograms"
   ]
  },
  {
   "cell_type": "code",
   "execution_count": null,
   "id": "5161e111",
   "metadata": {},
   "outputs": [],
   "source": [
    "o_white_beam.svmbir_display_sinograms()"
   ]
  },
  {
   "cell_type": "markdown",
   "id": "c486d10c",
   "metadata": {},
   "source": [
    "<hr style=\"border-bottom: dotted 1px;\" /><hr>\n",
    "\n",
    "Execute the reconstruction"
   ]
  },
  {
   "cell_type": "code",
   "execution_count": null,
   "id": "1c9f5972",
   "metadata": {},
   "outputs": [],
   "source": [
    "o_white_beam.svmbir_run()"
   ]
  },
  {
   "cell_type": "markdown",
   "id": "0315ff1a",
   "metadata": {},
   "source": [
    "# Export the slices\n",
    "\n",
    "<font color='blue'><b>Instructions</b>: select the folder where to export the reconstructed slices"
   ]
  },
  {
   "cell_type": "code",
   "execution_count": null,
   "id": "d2affc67",
   "metadata": {},
   "outputs": [],
   "source": [
    "o_white_beam.select_export_slices_folder()"
   ]
  },
  {
   "cell_type": "markdown",
   "id": "cbb12003",
   "metadata": {},
   "source": [
    "This next cell will export the slices. "
   ]
  },
  {
   "cell_type": "code",
   "execution_count": null,
   "id": "5a97a799",
   "metadata": {},
   "outputs": [],
   "source": [
    "o_white_beam.export_slices()"
   ]
  },
  {
   "cell_type": "markdown",
   "id": "c20fb822",
   "metadata": {},
   "source": [
    "<hr><hr style=\"border-bottom: dotted 1px;\" />\n",
    "<font color='red' size='5'>OPTIONAL</font>: export log file"
   ]
  },
  {
   "cell_type": "code",
   "execution_count": null,
   "id": "25c8afd3",
   "metadata": {},
   "outputs": [],
   "source": [
    "o_white_beam.select_export_extra_files()"
   ]
  },
  {
   "cell_type": "code",
   "execution_count": null,
   "id": "4db82b11",
   "metadata": {},
   "outputs": [],
   "source": [
    "o_white_beam.export_extra_files()"
   ]
  },
  {
   "cell_type": "code",
   "execution_count": null,
   "id": "1d8d542e",
   "metadata": {},
   "outputs": [],
   "source": []
  }
 ],
 "metadata": {
  "kernelspec": {
   "display_name": "Python 3 (ipykernel)",
   "language": "python",
   "name": "python3"
  },
  "language_info": {
   "codemirror_mode": {
    "name": "ipython",
    "version": 3
   },
   "file_extension": ".py",
   "mimetype": "text/x-python",
   "name": "python",
   "nbconvert_exporter": "python",
   "pygments_lexer": "ipython3",
   "version": "3.9.20"
  }
 },
 "nbformat": 4,
 "nbformat_minor": 5
}
