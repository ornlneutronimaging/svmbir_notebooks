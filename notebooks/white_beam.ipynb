{
 "cells": [
  {
   "cell_type": "code",
   "execution_count": 1,
   "id": "d537c2cb",
   "metadata": {
    "execution": {
     "iopub.execute_input": "2024-09-26T21:26:30.516782Z",
     "iopub.status.busy": "2024-09-26T21:26:30.516367Z",
     "iopub.status.idle": "2024-09-26T21:26:32.717495Z",
     "shell.execute_reply": "2024-09-26T21:26:32.717089Z",
     "shell.execute_reply.started": "2024-09-26T21:26:30.516760Z"
    }
   },
   "outputs": [
    {
     "data": {
      "text/html": [
       "\n",
       "<style type=\"text/css\">\n",
       ".jupyter-widgets select option {font-family: \"Lucida Console\", Monaco, monospace;}\n",
       ".jupyter-widgets select {width: 98%;}\n",
       "div.output_subarea {padding: 0px;}\n",
       "div.output_subarea > div {margin: 0.4em;}\n",
       "</style>\n"
      ],
      "text/plain": [
       "<IPython.core.display.HTML object>"
      ]
     },
     "metadata": {},
     "output_type": "display_data"
    },
    {
     "data": {
      "text/html": [
       "\n",
       "<style type=\"text/css\">\n",
       ".jupyter-widgets select option {font-family: \"Lucida Console\", Monaco, monospace;}\n",
       "div.output_subarea {padding: 0px;}\n",
       "div.output_subarea > div {margin: 0.4em;}\n",
       "</style>\n"
      ],
      "text/plain": [
       "<IPython.core.display.HTML object>"
      ]
     },
     "metadata": {},
     "output_type": "display_data"
    },
    {
     "data": {
      "text/html": [
       "\n",
       "                   <style>\n",
       "                   .result_label {\n",
       "                      font-style: bold;\n",
       "                      color: red;\n",
       "                      font-size: 18px;\n",
       "                   }\n",
       "                   </style>\n",
       "                   "
      ],
      "text/plain": [
       "<IPython.core.display.HTML object>"
      ]
     },
     "metadata": {},
     "output_type": "display_data"
    },
    {
     "data": {
      "application/vnd.jupyter.widget-view+json": {
       "model_id": "28378506ade247d6b3164a49f53b219c",
       "version_major": 2,
       "version_minor": 0
      },
      "text/plain": [
       "VBox(children=(HBox(children=(Label(value='Select Instrument', layout=Layout(width='20%')), Select(layout=Layo…"
      ]
     },
     "metadata": {},
     "output_type": "display_data"
    },
    {
     "data": {
      "text/html": [
       "<style>\n",
       "\n",
       "/* The following CSS has been adapted from\n",
       "   http://nbviewer.ipython.org/github/ketch/teaching-numerics-with-notebooks/blob/master/Styling_notebooks.ipynb\n",
       "   by Aron Ahmadia and David Ketcheson and has been reused under CC BY 4.0\n",
       "   */\n",
       "\n",
       "/* main background */\n",
       "#site { \n",
       "    background: #888;\n",
       "    color: #red; \n",
       "}\n",
       "\n",
       "div.container {\n",
       "    width: 100% ! important;\n",
       "}\n",
       "\n",
       "div.cell { /* set cell width to about 80 chars */\n",
       "    width: 95%;\n",
       "}\n",
       "\n",
       "div #notebook { /* centre the content */\n",
       "/*    background: #fff; /* white background for content */\n",
       "    background: blue;\n",
       "    width: 100%;\n",
       "    margin: auto;\n",
       "    padding-left: 1em;\n",
       "    padding-right: 1em;\n",
       "    background-image: url(\"tile_background.jpg\");\n",
       "}\n",
       "\n",
       "#notebook li { /* More space between bullet points */\n",
       "    margin-top:0.4em;\n",
       "}\n",
       "\n",
       "/* change background color of running cells */\n",
       "div.cell.code_cell.running {\n",
       "/*    background-color: rgba(164,188,194,.75); */\n",
       "    background-color: green;\n",
       "    border-width: 8px\n",
       "    border-style: solid\n",
       "    border-color: #111;\n",
       "}\n",
       "\n",
       "/* Put a solid color box around each cell and its output, visually linking them together */\n",
       "div.cell.code_cell {\n",
       "    background-color: rgba(164,188,194,.25); /* Continuum L Gray with alpha 0.25 */\n",
       "    border-radius: 10px; /* rounded borders */\n",
       "    padding: 1em;\n",
       "    margin-top: 1em;\n",
       "}\n",
       "\n",
       "div.text_cell_render{\n",
       "\tfont-family: Georgia, Times, 'Times New Roman', serif;\n",
       "    line-height: 110%;\n",
       "    font-size: 105%;\n",
       "    width: 95%;\n",
       "    margin-left: auto;\n",
       "    margin-right: auto;\n",
       "}\n",
       "\n",
       "\n",
       "/* Formatting for header cells */\n",
       ".text_cell_render h1 {\n",
       "\tfont-family: Arial, 'Helvetica Neue', Helvetica, sans-serif;\n",
       "    font-weight: 400;\n",
       "    font-size: 30pt;\n",
       "    line-height: 100%;\n",
       "    color: rgb(37,55,70); /* Continuum Blue*/\n",
       "    margin-bottom: 0.1em;\n",
       "    margin-top: 0.1em;\n",
       "    display: block;\n",
       "}\n",
       ".text_cell_render h2 {\n",
       "\tfont-family: Arial, 'Helvetica Neue', Helvetica, sans-serif;\n",
       "    font-weight: 700;\n",
       "    font-size: 22pt;\n",
       "    line-height: 100%;\n",
       "    color: rgb(37,55,70);\n",
       "    margin-bottom: 0.1em;\n",
       "    margin-top: 0.1em;\n",
       "    display: block;\n",
       "}\n",
       "\n",
       ".text_cell_render h3 {\n",
       "\tfont-family: Arial, 'Helvetica Neue', Helvetica, sans-serif;\n",
       "    margin-top:12px;\n",
       "    margin-bottom: 3px;\n",
       "    font-style: italic;\n",
       "    color: rgb(37, 55, 70);\n",
       "}\n",
       "\n",
       ".text_cell_render h4 {\n",
       "\tfont-family: Arial, 'Helvetica Neue', Helvetica, sans-serif;\n",
       "}\n",
       "\n",
       ".text_cell_render h5 {\n",
       "\tfont-family: Arial, 'Helvetica Neue', Helvetica, sans-serif;\n",
       "    font-weight: 300;\n",
       "    font-size: 14pt;\n",
       "    font-style: italic;\n",
       "    margin-bottom: .1em;\n",
       "    margin-top: 0.1em;\n",
       "    display: block;\n",
       "}\n",
       "\n",
       ".text_cell_render h6 {\n",
       "\tfont-family: Arial, 'Helvetica Neue', Helvetica, sans-serif;\n",
       "    font-weight: 300;\n",
       "    font-size: 10pt;\n",
       "    margin-bottom: 1px;\n",
       "    margin-top: 1px;\n",
       "}\n",
       "\n",
       ".CodeMirror{\n",
       "        font-family: \"PT Mono\", fixed;\n",
       "        font-size: 100%;\n",
       "}\n",
       "\n",
       "#notebook_panel { /* main background */\n",
       "    background-image: url(\"tile_background.jpg\");\n",
       "}\n",
       "\n",
       "\n",
       "\n",
       "\n",
       "</style>\n"
      ],
      "text/plain": [
       "<IPython.core.display.HTML object>"
      ]
     },
     "execution_count": 1,
     "metadata": {},
     "output_type": "execute_result"
    }
   ],
   "source": [
    "# this is using the hsnt kernel conda environment\n",
    "\n",
    "import warnings\n",
    "warnings.filterwarnings('ignore')\n",
    "\n",
    "%matplotlib inline\n",
    "\n",
    "from __code.white_beam import WhiteBeam\n",
    "\n",
    "from __code import system\n",
    "system.System.select_working_dir()\n",
    "from __code.__all import custom_style\n",
    "custom_style.style()"
   ]
  },
  {
   "cell_type": "markdown",
   "id": "b9d745bd",
   "metadata": {},
   "source": [
    "# Select top sample folder\n",
    "\n",
    "This folder will contains all the runs (1 run per angle)."
   ]
  },
  {
   "cell_type": "code",
   "execution_count": 2,
   "id": "4521c25a",
   "metadata": {
    "execution": {
     "iopub.execute_input": "2024-09-26T21:26:35.901974Z",
     "iopub.status.busy": "2024-09-26T21:26:35.901647Z",
     "iopub.status.idle": "2024-09-26T21:26:35.906304Z",
     "shell.execute_reply": "2024-09-26T21:26:35.905929Z",
     "shell.execute_reply.started": "2024-09-26T21:26:35.901955Z"
    }
   },
   "outputs": [
    {
     "name": "stdout",
     "output_type": "stream",
     "text": [
      "Top sample folder selected: /SNS/VENUS/IPTS-33699/shared/autoreduce/mcp/September20_2024_PurpleCar_GoldenRatio_CT_5_0_C_Cd_inBeam_Resonance\n"
     ]
    }
   ],
   "source": [
    "o_white_beam = WhiteBeam(system=system)\n",
    "o_white_beam.select_top_sample_folder()"
   ]
  },
  {
   "cell_type": "markdown",
   "id": "5d532080",
   "metadata": {},
   "source": [
    "# Select top OB folder\n",
    "\n",
    "Just like for the sample, this folder contains 1 or more runs of the open beam images"
   ]
  },
  {
   "cell_type": "code",
   "execution_count": 3,
   "id": "51549f93",
   "metadata": {
    "execution": {
     "iopub.execute_input": "2024-09-26T21:26:36.282364Z",
     "iopub.status.busy": "2024-09-26T21:26:36.281911Z",
     "iopub.status.idle": "2024-09-26T21:26:36.285442Z",
     "shell.execute_reply": "2024-09-26T21:26:36.285064Z",
     "shell.execute_reply.started": "2024-09-26T21:26:36.282345Z"
    }
   },
   "outputs": [
    {
     "name": "stdout",
     "output_type": "stream",
     "text": [
      "Top ob folder selected: /SNS/VENUS/IPTS-33699/shared/autoreduce/mcp/September26_2024_PurpleCar_OpenBean_5_0_C_Cd_inBeam_Resonance\n"
     ]
    }
   ],
   "source": [
    "o_white_beam.select_top_ob_folder()"
   ]
  },
  {
   "cell_type": "markdown",
   "id": "70d4e198",
   "metadata": {},
   "source": [
    "# Pre-processing the data\n",
    "\n",
    "This step will filter the data using the following criteria\n",
    "\n",
    "* all the runs that do not have any tif images in it will be **rejected**\n",
    "* the proton charge of each run will be retrieved and display in a recap graph. It will be up to the users to **select the proton charge** to use as well as the **acceptance criteria**. This is because the proton charge of each run is always slightly different, this criteria define the range within 2 runs are considered being acquired with the same proton charge.\n",
    "\n",
    "_Instruction_\n",
    "\n",
    " - Use the sliders to define the **sample proton charge** and **OB proton charge** to use\n",
    " - Use the second slider to define the size of the **acceptance criteria range**\n",
    " "
   ]
  },
  {
   "cell_type": "code",
   "execution_count": 4,
   "id": "c6c19340",
   "metadata": {
    "execution": {
     "iopub.execute_input": "2024-09-26T21:26:37.521119Z",
     "iopub.status.busy": "2024-09-26T21:26:37.520762Z",
     "iopub.status.idle": "2024-09-26T21:26:42.113056Z",
     "shell.execute_reply": "2024-09-26T21:26:42.112692Z",
     "shell.execute_reply.started": "2024-09-26T21:26:37.521103Z"
    }
   },
   "outputs": [
    {
     "data": {
      "application/vnd.jupyter.widget-view+json": {
       "model_id": "326df8327ce14ca8b13f37c5ac52e183",
       "version_major": 2,
       "version_minor": 0
      },
      "text/plain": [
       "interactive(children=(FloatSlider(value=5.0, description='sample pc', max=6.39261979793, min=-0.95576512851), …"
      ]
     },
     "metadata": {},
     "output_type": "display_data"
    }
   ],
   "source": [
    "o_white_beam.checking_data()"
   ]
  },
  {
   "cell_type": "markdown",
   "id": "613093e4",
   "metadata": {},
   "source": [
    "This will recap the list of runs that will be used for SAMPLE and OB. \n",
    "\n",
    "Because some runs look like they are ok but still need to be rejected, **Feel free to manually select any run you want to exclude !**"
   ]
  },
  {
   "cell_type": "code",
   "execution_count": 5,
   "id": "5b1217bc",
   "metadata": {
    "execution": {
     "iopub.execute_input": "2024-09-26T21:26:59.437447Z",
     "iopub.status.busy": "2024-09-26T21:26:59.437123Z",
     "iopub.status.idle": "2024-09-26T21:26:59.451448Z",
     "shell.execute_reply": "2024-09-26T21:26:59.451028Z",
     "shell.execute_reply.started": "2024-09-26T21:26:59.437432Z"
    }
   },
   "outputs": [
    {
     "data": {
      "application/vnd.jupyter.widget-view+json": {
       "model_id": "eb3f0c7f726f4b0caed9d4cbd17068e6",
       "version_major": 2,
       "version_minor": 0
      },
      "text/plain": [
       "VBox(children=(HTML(value='<b>Select any run(s) you want to exclude!:'), HBox(children=(VBox(children=(Label(v…"
      ]
     },
     "metadata": {},
     "output_type": "display_data"
    }
   ],
   "source": [
    "o_white_beam.recap_data()"
   ]
  },
  {
   "cell_type": "markdown",
   "id": "7fcce04d-80f0-4ab3-8fe0-12eb5087c883",
   "metadata": {
    "execution": {
     "iopub.execute_input": "2024-09-25T16:47:49.544284Z",
     "iopub.status.busy": "2024-09-25T16:47:49.543892Z",
     "iopub.status.idle": "2024-09-25T16:47:49.546943Z",
     "shell.execute_reply": "2024-09-25T16:47:49.546597Z",
     "shell.execute_reply.started": "2024-09-25T16:47:49.544268Z"
    }
   },
   "source": [
    "## combine all the images within each run\n",
    "\n",
    "This step will add all the counts within a given run, making it feel like the data were acquired in white beam mode, loosing the time-of-flight (TOF) information"
   ]
  },
  {
   "cell_type": "code",
   "execution_count": 6,
   "id": "fc86b247",
   "metadata": {},
   "outputs": [
    {
     "name": "stderr",
     "output_type": "stream",
     "text": [
      "100%|██████████| 3/3 [00:21<00:00,  7.32s/it]\n",
      "100%|██████████| 1/1 [00:07<00:00,  7.59s/it]\n"
     ]
    }
   ],
   "source": [
    "o_white_beam.combine_images()"
   ]
  },
  {
   "cell_type": "markdown",
   "id": "df329504",
   "metadata": {},
   "source": [
    "# Pre-processing\n",
    "\n",
    "* remove dead pixels\n",
    "* remove abnormal very high counts\n",
    "\n",
    "By default, all the pixels found in the first and last bin are considered as **bad** pixels. You have the option to change those settings. "
   ]
  },
  {
   "cell_type": "code",
   "execution_count": 7,
   "id": "66e1f723",
   "metadata": {},
   "outputs": [
    {
     "data": {
      "application/vnd.jupyter.widget-view+json": {
       "model_id": "c531865291874dee92b7a47a01b49731",
       "version_major": 2,
       "version_minor": 0
      },
      "text/plain": [
       "interactive(children=(IntSlider(value=10, continuous_update=False, description='Nbr bins', max=1000, min=10), …"
      ]
     },
     "metadata": {},
     "output_type": "display_data"
    }
   ],
   "source": [
    "o_white_beam.clean_images_setup()"
   ]
  },
  {
   "cell_type": "markdown",
   "id": "ca45d69c",
   "metadata": {},
   "source": [
    "Perform the cleaning using the settings define in the previous cell."
   ]
  },
  {
   "cell_type": "code",
   "execution_count": 8,
   "id": "694507be",
   "metadata": {},
   "outputs": [
    {
     "name": "stderr",
     "output_type": "stream",
     "text": [
      "100%|██████████| 3/3 [00:00<00:00, 45.50it/s]\n",
      "100%|██████████| 1/1 [00:00<00:00, 382.83it/s]\n"
     ]
    }
   ],
   "source": [
    "o_white_beam.clean_images()"
   ]
  },
  {
   "cell_type": "markdown",
   "id": "f29a8f0d",
   "metadata": {},
   "source": [
    "Export cleaned images (OPTIONAL)\n",
    "\n",
    "If you don't want to export the intermediate cleaned images, just skip the next cell!"
   ]
  },
  {
   "cell_type": "code",
   "execution_count": 9,
   "id": "206ac244",
   "metadata": {},
   "outputs": [
    {
     "name": "stdout",
     "output_type": "stream",
     "text": [
      "Top cleaned images folder selected: /SNS/VENUS/IPTS-33699/shared/processed_data/jean_test\n"
     ]
    }
   ],
   "source": [
    "o_white_beam.select_export_folder()"
   ]
  },
  {
   "cell_type": "code",
   "execution_count": null,
   "id": "577b8f4c",
   "metadata": {},
   "outputs": [],
   "source": [
    "o_white_beam.export_cleaned_images()"
   ]
  },
  {
   "cell_type": "markdown",
   "id": "ea14a6e5-5921-4ddc-97a4-6b5411e14d0d",
   "metadata": {
    "execution": {
     "iopub.execute_input": "2024-09-25T16:48:21.997748Z",
     "iopub.status.busy": "2024-09-25T16:48:21.997353Z",
     "iopub.status.idle": "2024-09-25T16:48:21.999893Z",
     "shell.execute_reply": "2024-09-25T16:48:21.999578Z",
     "shell.execute_reply.started": "2024-09-25T16:48:21.997731Z"
    }
   },
   "source": [
    "# normalization"
   ]
  },
  {
   "cell_type": "code",
   "execution_count": 10,
   "id": "48c201d4",
   "metadata": {},
   "outputs": [],
   "source": [
    "o_white_beam.normalization()"
   ]
  },
  {
   "cell_type": "code",
   "execution_count": 12,
   "id": "c0452685-1d91-40e3-acc7-769504e6f0ba",
   "metadata": {
    "execution": {
     "iopub.execute_input": "2024-09-25T16:48:27.512397Z",
     "iopub.status.busy": "2024-09-25T16:48:27.512050Z",
     "iopub.status.idle": "2024-09-25T16:48:27.514536Z",
     "shell.execute_reply": "2024-09-25T16:48:27.514251Z",
     "shell.execute_reply.started": "2024-09-25T16:48:27.512381Z"
    }
   },
   "outputs": [],
   "source": [
    "# chips correction"
   ]
  },
  {
   "cell_type": "code",
   "execution_count": 13,
   "id": "51a27fed-4720-4e52-aa1a-6dbc8995ee46",
   "metadata": {
    "execution": {
     "iopub.execute_input": "2024-09-25T16:48:35.218331Z",
     "iopub.status.busy": "2024-09-25T16:48:35.218025Z",
     "iopub.status.idle": "2024-09-25T16:48:35.220484Z",
     "shell.execute_reply": "2024-09-25T16:48:35.220124Z",
     "shell.execute_reply.started": "2024-09-25T16:48:35.218314Z"
    }
   },
   "outputs": [],
   "source": [
    "# calculate center of rotation"
   ]
  },
  {
   "cell_type": "code",
   "execution_count": 14,
   "id": "662e413c-4321-4e09-8034-49eba14a3a2a",
   "metadata": {
    "execution": {
     "iopub.execute_input": "2024-09-25T16:48:49.583267Z",
     "iopub.status.busy": "2024-09-25T16:48:49.582914Z",
     "iopub.status.idle": "2024-09-25T16:48:49.585380Z",
     "shell.execute_reply": "2024-09-25T16:48:49.585067Z",
     "shell.execute_reply.started": "2024-09-25T16:48:49.583249Z"
    }
   },
   "outputs": [],
   "source": [
    "# calculate tilt correction and apply it"
   ]
  },
  {
   "cell_type": "code",
   "execution_count": 15,
   "id": "f79fabc5-69d4-40a9-938d-43250c0cfd38",
   "metadata": {},
   "outputs": [],
   "source": [
    "# launch svmbir"
   ]
  }
 ],
 "metadata": {
  "kernelspec": {
   "display_name": "Python 3 (ipykernel)",
   "language": "python",
   "name": "python3"
  },
  "language_info": {
   "codemirror_mode": {
    "name": "ipython",
    "version": 3
   },
   "file_extension": ".py",
   "mimetype": "text/x-python",
   "name": "python",
   "nbconvert_exporter": "python",
   "pygments_lexer": "ipython3",
   "version": "3.9.20"
  }
 },
 "nbformat": 4,
 "nbformat_minor": 5
}
