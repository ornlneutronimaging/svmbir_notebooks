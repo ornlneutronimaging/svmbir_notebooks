{
 "cells": [
  {
   "cell_type": "code",
   "execution_count": null,
   "id": "d537c2cb",
   "metadata": {},
   "outputs": [],
   "source": [
    "import warnings\n",
    "warnings.filterwarnings('ignore')\n",
    "\n",
    "import matplotlib.pyplot as plt\n",
    "%matplotlib notebook\n",
    "\n",
    "from __code.white_beam import WhiteBeam\n",
    "\n",
    "from __code import system\n",
    "system.System.select_working_dir()\n",
    "from __code.__all import custom_style\n",
    "custom_style.style()"
   ]
  },
  {
   "cell_type": "markdown",
   "id": "b9d745bd",
   "metadata": {},
   "source": [
    "# Select top sample folder (containing all the runs)"
   ]
  },
  {
   "cell_type": "code",
   "execution_count": null,
   "id": "4521c25a",
   "metadata": {},
   "outputs": [],
   "source": [
    "o_white_beam = WhiteBeam(top_sample_dir=system.System.get_working_dir())\n",
    "o_white_beam.select_top_sample_folder()"
   ]
  },
  {
   "cell_type": "code",
   "execution_count": null,
   "id": "59800ffc-6f06-42c8-b167-3c690760cf3d",
   "metadata": {},
   "outputs": [],
   "source": [
    "# Select top folder of data to reconstruct\n",
    "## program will load and automatically make a list of good runs and bad runs  "
   ]
  },
  {
   "cell_type": "markdown",
   "id": "5d532080",
   "metadata": {},
   "source": [
    "# Select top OB folder (containing all the OB runs)"
   ]
  },
  {
   "cell_type": "code",
   "execution_count": null,
   "id": "51549f93",
   "metadata": {},
   "outputs": [],
   "source": [
    "o_white_beam.select_top_ob_folder()"
   ]
  },
  {
   "cell_type": "markdown",
   "id": "70d4e198",
   "metadata": {},
   "source": [
    "# Pre-processing the data\n",
    "\n",
    " - looking at proton charge requested\n",
    " - looking at empty runs\n",
    " - looking at uncompatible runs (wrong proton charge, missing bins)"
   ]
  },
  {
   "cell_type": "code",
   "execution_count": null,
   "id": "c6c19340",
   "metadata": {},
   "outputs": [],
   "source": []
  },
  {
   "cell_type": "code",
   "execution_count": null,
   "id": "7fcce04d-80f0-4ab3-8fe0-12eb5087c883",
   "metadata": {
    "execution": {
     "iopub.execute_input": "2024-09-25T16:47:49.544284Z",
     "iopub.status.busy": "2024-09-25T16:47:49.543892Z",
     "iopub.status.idle": "2024-09-25T16:47:49.546943Z",
     "shell.execute_reply": "2024-09-25T16:47:49.546597Z",
     "shell.execute_reply.started": "2024-09-25T16:47:49.544268Z"
    }
   },
   "outputs": [],
   "source": [
    "# combine all the images within each run"
   ]
  },
  {
   "cell_type": "code",
   "execution_count": null,
   "id": "2404e682-1ac0-46ad-b0e0-54f62f468959",
   "metadata": {
    "execution": {
     "iopub.execute_input": "2024-09-25T16:48:09.816150Z",
     "iopub.status.busy": "2024-09-25T16:48:09.815470Z",
     "iopub.status.idle": "2024-09-25T16:48:09.817866Z",
     "shell.execute_reply": "2024-09-25T16:48:09.817597Z",
     "shell.execute_reply.started": "2024-09-25T16:48:09.816133Z"
    }
   },
   "outputs": [],
   "source": [
    "# pre-processing\n",
    "## remove \"dead\" pixels\n",
    "## remove abnormal high counts"
   ]
  },
  {
   "cell_type": "code",
   "execution_count": null,
   "id": "ea14a6e5-5921-4ddc-97a4-6b5411e14d0d",
   "metadata": {
    "execution": {
     "iopub.execute_input": "2024-09-25T16:48:21.997748Z",
     "iopub.status.busy": "2024-09-25T16:48:21.997353Z",
     "iopub.status.idle": "2024-09-25T16:48:21.999893Z",
     "shell.execute_reply": "2024-09-25T16:48:21.999578Z",
     "shell.execute_reply.started": "2024-09-25T16:48:21.997731Z"
    }
   },
   "outputs": [],
   "source": [
    "# normalization"
   ]
  },
  {
   "cell_type": "code",
   "execution_count": null,
   "id": "c0452685-1d91-40e3-acc7-769504e6f0ba",
   "metadata": {
    "execution": {
     "iopub.execute_input": "2024-09-25T16:48:27.512397Z",
     "iopub.status.busy": "2024-09-25T16:48:27.512050Z",
     "iopub.status.idle": "2024-09-25T16:48:27.514536Z",
     "shell.execute_reply": "2024-09-25T16:48:27.514251Z",
     "shell.execute_reply.started": "2024-09-25T16:48:27.512381Z"
    }
   },
   "outputs": [],
   "source": [
    "# chips correction"
   ]
  },
  {
   "cell_type": "code",
   "execution_count": null,
   "id": "51a27fed-4720-4e52-aa1a-6dbc8995ee46",
   "metadata": {
    "execution": {
     "iopub.execute_input": "2024-09-25T16:48:35.218331Z",
     "iopub.status.busy": "2024-09-25T16:48:35.218025Z",
     "iopub.status.idle": "2024-09-25T16:48:35.220484Z",
     "shell.execute_reply": "2024-09-25T16:48:35.220124Z",
     "shell.execute_reply.started": "2024-09-25T16:48:35.218314Z"
    }
   },
   "outputs": [],
   "source": [
    "# calculate center of rotation"
   ]
  },
  {
   "cell_type": "code",
   "execution_count": null,
   "id": "662e413c-4321-4e09-8034-49eba14a3a2a",
   "metadata": {
    "execution": {
     "iopub.execute_input": "2024-09-25T16:48:49.583267Z",
     "iopub.status.busy": "2024-09-25T16:48:49.582914Z",
     "iopub.status.idle": "2024-09-25T16:48:49.585380Z",
     "shell.execute_reply": "2024-09-25T16:48:49.585067Z",
     "shell.execute_reply.started": "2024-09-25T16:48:49.583249Z"
    }
   },
   "outputs": [],
   "source": [
    "# calculate tilt correction and apply it"
   ]
  },
  {
   "cell_type": "code",
   "execution_count": null,
   "id": "f79fabc5-69d4-40a9-938d-43250c0cfd38",
   "metadata": {},
   "outputs": [],
   "source": [
    "# launch svmbir"
   ]
  }
 ],
 "metadata": {
  "kernelspec": {
   "display_name": "Python 3 (ipykernel)",
   "language": "python",
   "name": "python3"
  },
  "language_info": {
   "codemirror_mode": {
    "name": "ipython",
    "version": 3
   },
   "file_extension": ".py",
   "mimetype": "text/x-python",
   "name": "python",
   "nbconvert_exporter": "python",
   "pygments_lexer": "ipython3",
   "version": "3.9.20"
  }
 },
 "nbformat": 4,
 "nbformat_minor": 5
}
