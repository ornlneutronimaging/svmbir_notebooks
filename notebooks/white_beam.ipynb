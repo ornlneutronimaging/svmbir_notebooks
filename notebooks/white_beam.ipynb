{
 "cells": [
  {
   "cell_type": "code",
   "execution_count": null,
   "id": "d537c2cb",
   "metadata": {
    "execution": {
     "iopub.execute_input": "2024-09-26T21:26:30.516782Z",
     "iopub.status.busy": "2024-09-26T21:26:30.516367Z",
     "iopub.status.idle": "2024-09-26T21:26:32.717495Z",
     "shell.execute_reply": "2024-09-26T21:26:32.717089Z",
     "shell.execute_reply.started": "2024-09-26T21:26:30.516760Z"
    }
   },
   "outputs": [],
   "source": [
    "# this is using the hsnt kernel conda environment\n",
    "\n",
    "import warnings\n",
    "warnings.filterwarnings('ignore')\n",
    "\n",
    "%matplotlib inline\n",
    "\n",
    "from __code.white_beam import WhiteBeam\n",
    "\n",
    "from __code import system\n",
    "\n",
    "system.System.select_working_dir()\n",
    "from __code.__all import custom_style\n",
    "custom_style.style()"
   ]
  },
  {
   "cell_type": "markdown",
   "id": "b9d745bd",
   "metadata": {},
   "source": [
    "# Select top sample folder\n",
    "\n",
    "This folder will contains all the runs (1 run per angle)."
   ]
  },
  {
   "cell_type": "code",
   "execution_count": null,
   "id": "4521c25a",
   "metadata": {
    "execution": {
     "iopub.execute_input": "2024-09-26T21:26:35.901974Z",
     "iopub.status.busy": "2024-09-26T21:26:35.901647Z",
     "iopub.status.idle": "2024-09-26T21:26:35.906304Z",
     "shell.execute_reply": "2024-09-26T21:26:35.905929Z",
     "shell.execute_reply.started": "2024-09-26T21:26:35.901955Z"
    }
   },
   "outputs": [],
   "source": [
    "o_white_beam = WhiteBeam(system=system)\n",
    "o_white_beam.select_top_sample_folder()"
   ]
  },
  {
   "cell_type": "markdown",
   "id": "5d532080",
   "metadata": {},
   "source": [
    "# Select top OB folder\n",
    "\n",
    "Just like for the sample, this folder contains 1 or more runs of the open beam images"
   ]
  },
  {
   "cell_type": "code",
   "execution_count": null,
   "id": "51549f93",
   "metadata": {
    "execution": {
     "iopub.execute_input": "2024-09-26T21:26:36.282364Z",
     "iopub.status.busy": "2024-09-26T21:26:36.281911Z",
     "iopub.status.idle": "2024-09-26T21:26:36.285442Z",
     "shell.execute_reply": "2024-09-26T21:26:36.285064Z",
     "shell.execute_reply.started": "2024-09-26T21:26:36.282345Z"
    }
   },
   "outputs": [],
   "source": [
    "o_white_beam.select_top_ob_folder()"
   ]
  },
  {
   "cell_type": "markdown",
   "id": "70d4e198",
   "metadata": {},
   "source": [
    "# Pre-processing the data\n",
    "\n",
    "This step will filter the data using the following criteria\n",
    "\n",
    "* all the runs that do not have any tif images in it will be **rejected**\n",
    "* the proton charge of each run will be retrieved and display in a recap graph. It will be up to the users to **select the proton charge** to use as well as the **acceptance criteria**. This is because the proton charge of each run is always slightly different, this criteria define the range for which 2 runs are considered being acquired with the same proton charge.\n",
    "\n",
    "<u><b>Instructions</u></b>\n",
    "\n",
    " - Use the sliders to define the **sample proton charge** and **OB proton charge** to use\n",
    " - Use the second slider to define the size of the **acceptance criteria range**\n",
    "\n",
    "<font size=1><u>Developer Notes</u>: data are stored in <i>list_of_runs = {DataType.sample: {'Run_1234':\n",
    " {Run.full_path: \"\", Run.proton_charge: \"\", Run.use_it: \"\", Run.angle: \"\"}, ...}</i></font>\n",
    " "
   ]
  },
  {
   "cell_type": "code",
   "execution_count": null,
   "id": "c6c19340",
   "metadata": {
    "execution": {
     "iopub.execute_input": "2024-09-26T21:26:37.521119Z",
     "iopub.status.busy": "2024-09-26T21:26:37.520762Z",
     "iopub.status.idle": "2024-09-26T21:26:42.113056Z",
     "shell.execute_reply": "2024-09-26T21:26:42.112692Z",
     "shell.execute_reply.started": "2024-09-26T21:26:37.521103Z"
    }
   },
   "outputs": [],
   "source": [
    "o_white_beam.checking_data()"
   ]
  },
  {
   "cell_type": "markdown",
   "id": "613093e4",
   "metadata": {},
   "source": [
    "This will recap the list of runs that will be used for SAMPLE and OB. \n",
    "\n",
    "Because some runs look like they are ok but still need to be rejected, **Feel free to manually select any run you want to exclude !**\n",
    "\n",
    "<font size=1><u>Developer Notes</u>: this step will set the <i>Run.use_it</i> parametere of the <i>list_of_runs> dictionary. "
   ]
  },
  {
   "cell_type": "code",
   "execution_count": null,
   "id": "5b1217bc",
   "metadata": {
    "execution": {
     "iopub.execute_input": "2024-09-26T21:26:59.437447Z",
     "iopub.status.busy": "2024-09-26T21:26:59.437123Z",
     "iopub.status.idle": "2024-09-26T21:26:59.451448Z",
     "shell.execute_reply": "2024-09-26T21:26:59.451028Z",
     "shell.execute_reply.started": "2024-09-26T21:26:59.437432Z"
    }
   },
   "outputs": [],
   "source": [
    "o_white_beam.recap_data()"
   ]
  },
  {
   "cell_type": "markdown",
   "id": "7fcce04d-80f0-4ab3-8fe0-12eb5087c883",
   "metadata": {
    "execution": {
     "iopub.execute_input": "2024-09-25T16:47:49.544284Z",
     "iopub.status.busy": "2024-09-25T16:47:49.543892Z",
     "iopub.status.idle": "2024-09-25T16:47:49.546943Z",
     "shell.execute_reply": "2024-09-25T16:47:49.546597Z",
     "shell.execute_reply.started": "2024-09-25T16:47:49.544268Z"
    }
   },
   "source": [
    "## Combine all the images within each run\n",
    "\n",
    "This step will add all the counts within a given run, making it feel like the data were acquired in white beam mode, loosing the time-of-flight (TOF) information\n",
    "\n",
    "<font size=1><u>Developer Notes</u>: change the value of <i>Run.use_it</i> for runs rejected and combine runs data in <i>master_3d_data_array = {DataType.sample: [runs, y, x], ...}</font>"
   ]
  },
  {
   "cell_type": "code",
   "execution_count": null,
   "id": "fc86b247",
   "metadata": {},
   "outputs": [],
   "source": [
    "o_white_beam.combine_images()"
   ]
  },
  {
   "cell_type": "markdown",
   "id": "df329504",
   "metadata": {},
   "source": [
    "# Pre-processing\n",
    "\n",
    "* remove dead pixels\n",
    "* remove abnormal very high counts\n",
    "\n",
    "By default, all the pixels found in the first and last bin are considered as **bad** pixels. You have the option to change those settings. "
   ]
  },
  {
   "cell_type": "code",
   "execution_count": null,
   "id": "66e1f723",
   "metadata": {},
   "outputs": [],
   "source": [
    "o_white_beam.clean_images_setup()"
   ]
  },
  {
   "cell_type": "markdown",
   "id": "ca45d69c",
   "metadata": {},
   "source": [
    "Perform the cleaning using the settings define in the previous cell.\n",
    "\n",
    "<font size=1><u>Developer Notes</u>: create the <i>master_3d_data_array_cleaned<i> dictionary."
   ]
  },
  {
   "cell_type": "code",
   "execution_count": null,
   "id": "694507be",
   "metadata": {},
   "outputs": [],
   "source": [
    "o_white_beam.clean_images()"
   ]
  },
  {
   "cell_type": "markdown",
   "id": "f29a8f0d",
   "metadata": {},
   "source": [
    "<hr><hr style=\"border-bottom: dotted 1px;\" />\n",
    "<font color='blue' size='5'>OPTIONAL</font>: Export cleaned images\n",
    "\n",
    "If you don't want to export the intermediate cleaned images, just skip the next cell!"
   ]
  },
  {
   "cell_type": "code",
   "execution_count": null,
   "id": "206ac244",
   "metadata": {},
   "outputs": [],
   "source": [
    "o_white_beam.select_export_folder()"
   ]
  },
  {
   "cell_type": "code",
   "execution_count": null,
   "id": "577b8f4c",
   "metadata": {},
   "outputs": [],
   "source": [
    "o_white_beam.export_cleaned_images()"
   ]
  },
  {
   "cell_type": "markdown",
   "id": "ea14a6e5-5921-4ddc-97a4-6b5411e14d0d",
   "metadata": {
    "execution": {
     "iopub.execute_input": "2024-09-25T16:48:21.997748Z",
     "iopub.status.busy": "2024-09-25T16:48:21.997353Z",
     "iopub.status.idle": "2024-09-25T16:48:21.999893Z",
     "shell.execute_reply": "2024-09-25T16:48:21.999578Z",
     "shell.execute_reply.started": "2024-09-25T16:48:21.997731Z"
    }
   },
   "source": [
    "<hr style=\"border-bottom: dotted 1px;\" /><hr>\n",
    "\n",
    "# Normalization\n",
    "\n",
    "<font size=1><u>Developer Notes</u>: create the <i>normalized_data</i> 3D data array."
   ]
  },
  {
   "cell_type": "code",
   "execution_count": 9,
   "id": "48c201d4",
   "metadata": {},
   "outputs": [],
   "source": [
    "o_white_beam.normalization()"
   ]
  },
  {
   "cell_type": "markdown",
   "id": "97bf27d7",
   "metadata": {},
   "source": [
    "<hr><hr style=\"border-bottom: dotted 1px;\" />\n",
    "<font color='blue' size='5'>OPTIONAL</font>: run it only if you want to visualize the normalized data"
   ]
  },
  {
   "cell_type": "code",
   "execution_count": null,
   "id": "13d7ca09",
   "metadata": {},
   "outputs": [],
   "source": [
    "o_white_beam.visualize_normalization()"
   ]
  },
  {
   "cell_type": "markdown",
   "id": "ba00ac93",
   "metadata": {},
   "source": [
    "<hr><hr style=\"border-bottom: dotted 1px;\" />\n",
    "<font color='blue' size='5'>OPTIONAL</font>: run if you want to export the normalized data"
   ]
  },
  {
   "cell_type": "markdown",
   "id": "0e3dcaa4",
   "metadata": {},
   "source": [
    "Select the folder where to export the normalized images"
   ]
  },
  {
   "cell_type": "code",
   "execution_count": null,
   "id": "08cdae4f",
   "metadata": {},
   "outputs": [],
   "source": [
    "o_white_beam.select_export_normalized_folder()"
   ]
  },
  {
   "cell_type": "markdown",
   "id": "8b0ca417",
   "metadata": {},
   "source": []
  },
  {
   "cell_type": "markdown",
   "id": "89fa91c6",
   "metadata": {},
   "source": [
    "Run this cell to execute the export of the normalized images"
   ]
  },
  {
   "cell_type": "code",
   "execution_count": null,
   "id": "9c86b702",
   "metadata": {},
   "outputs": [],
   "source": [
    "o_white_beam.export_normalized_images()"
   ]
  },
  {
   "cell_type": "markdown",
   "id": "e9dc5342",
   "metadata": {},
   "source": [
    "<hr style=\"border-bottom: dotted 1px;\" /><hr>"
   ]
  },
  {
   "cell_type": "markdown",
   "id": "ed3c599d",
   "metadata": {},
   "source": [
    "# Chips correction\n",
    "\n",
    "<font size=1><u>Developer Notes</u>: create the <i>corrected_images<i> 3D data array</font>"
   ]
  },
  {
   "cell_type": "code",
   "execution_count": 10,
   "id": "c0452685-1d91-40e3-acc7-769504e6f0ba",
   "metadata": {
    "execution": {
     "iopub.execute_input": "2024-09-25T16:48:27.512397Z",
     "iopub.status.busy": "2024-09-25T16:48:27.512050Z",
     "iopub.status.idle": "2024-09-25T16:48:27.514536Z",
     "shell.execute_reply": "2024-09-25T16:48:27.514251Z",
     "shell.execute_reply.started": "2024-09-25T16:48:27.512381Z"
    }
   },
   "outputs": [],
   "source": [
    "o_white_beam.chips_correction()"
   ]
  },
  {
   "cell_type": "markdown",
   "id": "72b51cb9",
   "metadata": {},
   "source": [
    "<hr><hr style=\"border-bottom: dotted 1px;\" />\n",
    "<font color='blue' size='5'>OPTIONAL</font>: display images before and after chips correction"
   ]
  },
  {
   "cell_type": "code",
   "execution_count": null,
   "id": "6cb32414",
   "metadata": {},
   "outputs": [],
   "source": [
    "o_white_beam.visualize_chips_correction()"
   ]
  },
  {
   "cell_type": "markdown",
   "id": "739a9355",
   "metadata": {},
   "source": [
    "<hr><hr style=\"border-bottom: dotted 1px;\" />\n",
    "<font color='blue' size='5'>OPTIONAL</font>: run if you want to remove any stripes causing ring artifacs in the reconstruction"
   ]
  },
  {
   "cell_type": "markdown",
   "id": "e5a7f823",
   "metadata": {},
   "source": [
    "# Remove stripes\n",
    "\n",
    "<font size=1><u>Developer Notes</u>: this step will create the 3d array <i>strip_corrected_images</i>"
   ]
  },
  {
   "cell_type": "code",
   "execution_count": null,
   "id": "e6432b5b",
   "metadata": {},
   "outputs": [],
   "source": [
    "o_white_beam.select_remove_strips_algorithms()"
   ]
  },
  {
   "cell_type": "code",
   "execution_count": null,
   "id": "081d0e6b",
   "metadata": {},
   "outputs": [],
   "source": [
    "o_white_beam.define_settings()"
   ]
  },
  {
   "cell_type": "code",
   "execution_count": null,
   "id": "75d3d677",
   "metadata": {},
   "outputs": [],
   "source": [
    "o_white_beam.remove_strips_and_display()"
   ]
  },
  {
   "cell_type": "markdown",
   "id": "7673c82e",
   "metadata": {},
   "source": [
    "<hr style=\"border-bottom: dotted 1px;\" /><hr>"
   ]
  },
  {
   "cell_type": "markdown",
   "id": "51a27fed-4720-4e52-aa1a-6dbc8995ee46",
   "metadata": {
    "execution": {
     "iopub.execute_input": "2024-09-25T16:48:35.218331Z",
     "iopub.status.busy": "2024-09-25T16:48:35.218025Z",
     "iopub.status.idle": "2024-09-25T16:48:35.220484Z",
     "shell.execute_reply": "2024-09-25T16:48:35.220124Z",
     "shell.execute_reply.started": "2024-09-25T16:48:35.218314Z"
    }
   },
   "source": [
    "# Calculate center of rotation and tilt\n",
    "\n",
    "The algorithm will determine the 0 and 180 degrees runs and use those to calculate the <b>center of rotation</b> and the <b>tilt</b>\n",
    "<br><br>\n",
    "\n",
    "First, you need to select an vertical range contaning the sample\n",
    "\n",
    "<font color='yellow'>Tips</font> - part of the sample <b>MUST</b> be within the range"
   ]
  },
  {
   "cell_type": "code",
   "execution_count": null,
   "id": "25b6a401",
   "metadata": {},
   "outputs": [],
   "source": [
    "o_white_beam.select_sample_roi()"
   ]
  },
  {
   "cell_type": "code",
   "execution_count": null,
   "id": "2cfe6f5b",
   "metadata": {},
   "outputs": [],
   "source": [
    "o_white_beam.calculate_center_of_rotation_and_tilt()"
   ]
  },
  {
   "cell_type": "code",
   "execution_count": 15,
   "id": "f79fabc5-69d4-40a9-938d-43250c0cfd38",
   "metadata": {},
   "outputs": [],
   "source": [
    "# launch svmbir"
   ]
  }
 ],
 "metadata": {
  "kernelspec": {
   "display_name": "Python 3 (ipykernel)",
   "language": "python",
   "name": "python3"
  },
  "language_info": {
   "codemirror_mode": {
    "name": "ipython",
    "version": 3
   },
   "file_extension": ".py",
   "mimetype": "text/x-python",
   "name": "python",
   "nbconvert_exporter": "python",
   "pygments_lexer": "ipython3",
   "version": "3.9.20"
  }
 },
 "nbformat": 4,
 "nbformat_minor": 5
}
