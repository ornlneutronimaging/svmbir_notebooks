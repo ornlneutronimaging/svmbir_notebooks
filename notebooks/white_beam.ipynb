{
 "cells": [
  {
   "cell_type": "code",
   "execution_count": 1,
   "id": "c803b788",
   "metadata": {},
   "outputs": [],
   "source": [
    "import warnings\n",
    "warnings.filterwarnings('ignore')\n",
    "\n",
    "import matplotlib.pyplot as plt\n",
    "%matplotlib notebook\n",
    "\n",
    "from __code.white_beam import WhiteBeam\n",
    "\n",
    "from __code import system\n",
    "system.System.select_working_dir()\n",
    "from __code.__all import custom_style\n",
    "custom_style.style()"
   ]
  },
  {
   "cell_type": "markdown",
   "id": "b9d745bd",
   "metadata": {},
   "source": [
    "# Select top sample folder (containing all the runs)"
   ]
  },
  {
   "cell_type": "code",
   "execution_count": null,
   "id": "4521c25a",
   "metadata": {},
   "outputs": [],
   "source": [
    "o_white_beam = WhiteBeam(top_sample_dir=system.System.get_working_dir())\n",
    "o_white_beam.select_top_sample_folder()"
   ]
  },
  {
   "cell_type": "code",
   "execution_count": null,
   "id": "59800ffc-6f06-42c8-b167-3c690760cf3d",
   "metadata": {},
   "outputs": [],
   "source": [
    "# Select top folder of data to reconstruct\n",
    "## program will load and automatically make a list of good runs and bad runs  "
   ]
  },
  {
   "cell_type": "markdown",
   "id": "5d532080",
   "metadata": {},
   "source": [
    "# Select top OB folder (containing all the OB runs)"
   ]
  },
  {
   "cell_type": "code",
   "execution_count": null,
   "id": "51549f93",
   "metadata": {},
   "outputs": [],
   "source": [
    "o_white_beam.select_top_ob_folder()"
   ]
  },
  {
   "cell_type": "markdown",
   "id": "70d4e198",
   "metadata": {},
   "source": [
    "# Pre-processing the data\n",
    "\n",
    " - looking at proton charge requested\n",
    " - looking at empty runs\n",
    " - looking at uncompatible runs (wrong proton charge, missing bins)"
   ]
  },
  {
   "cell_type": "code",
   "execution_count": null,
   "id": "c6c19340",
   "metadata": {},
   "outputs": [],
   "source": []
  },
  {
   "cell_type": "code",
   "execution_count": null,
   "id": "7fcce04d-80f0-4ab3-8fe0-12eb5087c883",
   "metadata": {
    "execution": {
     "iopub.execute_input": "2024-09-25T16:47:49.544284Z",
     "iopub.status.busy": "2024-09-25T16:47:49.543892Z",
     "iopub.status.idle": "2024-09-25T16:47:49.546943Z",
     "shell.execute_reply": "2024-09-25T16:47:49.546597Z",
     "shell.execute_reply.started": "2024-09-25T16:47:49.544268Z"
    }
   },
   "outputs": [],
   "source": [
    "import numpy as np\n",
    "from skimage.io import imread\n",
    "from tqdm import tqdm\n",
    "import glob, os, dxchange\n",
    "import matplotlib.pyplot as plt\n",
    "import pandas as pd\n"
   ]
  }
 ],
 "metadata": {
  "kernelspec": {
   "display_name": "Python 3 (ipykernel)",
   "language": "python",
   "name": "python3"
  },
  "language_info": {
   "codemirror_mode": {
    "name": "ipython",
    "version": 3
   },
   "file_extension": ".py",
   "mimetype": "text/x-python",
   "name": "python",
   "nbconvert_exporter": "python",
   "pygments_lexer": "ipython3",
   "version": "3.9.20"
  }
 },
 "nbformat": 4,
 "nbformat_minor": 5
}
