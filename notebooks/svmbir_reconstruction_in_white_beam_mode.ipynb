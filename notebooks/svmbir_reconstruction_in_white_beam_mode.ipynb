{
 "cells": [
  {
   "cell_type": "code",
   "execution_count": null,
   "id": "d537c2cb",
   "metadata": {
    "execution": {
     "iopub.execute_input": "2024-09-26T21:26:30.516782Z",
     "iopub.status.busy": "2024-09-26T21:26:30.516367Z",
     "iopub.status.idle": "2024-09-26T21:26:32.717495Z",
     "shell.execute_reply": "2024-09-26T21:26:32.717089Z",
     "shell.execute_reply.started": "2024-09-26T21:26:30.516760Z"
    }
   },
   "outputs": [],
   "source": [
    "# this is using the hsnt kernel conda environment\n",
    "\n",
    "import warnings\n",
    "warnings.filterwarnings('ignore')\n",
    "\n",
    "%matplotlib inline\n",
    "\n",
    "from __code.svmbir_reconstruction_in_white_beam_mode import SvmbirReconstruction\n",
    "\n",
    "\n",
    "from __code import system\n",
    "\n",
    "system.System.select_working_dir(facility='HFIR', instrument='CG1D', ipts='IPTS-32720')\n",
    "from __code.__all import custom_style\n",
    "custom_style.style()"
   ]
  },
  {
   "cell_type": "markdown",
   "id": "b9d745bd",
   "metadata": {},
   "source": [
    "# Input sample folder\n",
    "\n",
    "This folder will contains all the images (1 image per angle)\n",
    "\n",
    "<font color='blue'><b>Instructions</b>: select folder containing projections</font>"
   ]
  },
  {
   "cell_type": "code",
   "execution_count": null,
   "id": "4521c25a",
   "metadata": {
    "execution": {
     "iopub.execute_input": "2024-09-26T21:26:35.901974Z",
     "iopub.status.busy": "2024-09-26T21:26:35.901647Z",
     "iopub.status.idle": "2024-09-26T21:26:35.906304Z",
     "shell.execute_reply": "2024-09-26T21:26:35.905929Z",
     "shell.execute_reply.started": "2024-09-26T21:26:35.901955Z"
    }
   },
   "outputs": [],
   "source": [
    "o_white_beam = SvmbirReconstruction(system=system)\n",
    "o_white_beam.select_top_sample_folder()"
   ]
  },
  {
   "cell_type": "markdown",
   "id": "5d532080",
   "metadata": {},
   "source": [
    "# Input Open Beam (OB) folder\n",
    "\n",
    "Select the images to use as OB\n",
    "\n",
    "<font color='blue'><b>Instructions</b>: select individual images</font>"
   ]
  },
  {
   "cell_type": "code",
   "execution_count": null,
   "id": "51549f93",
   "metadata": {
    "execution": {
     "iopub.execute_input": "2024-09-26T21:26:36.282364Z",
     "iopub.status.busy": "2024-09-26T21:26:36.281911Z",
     "iopub.status.idle": "2024-09-26T21:26:36.285442Z",
     "shell.execute_reply": "2024-09-26T21:26:36.285064Z",
     "shell.execute_reply.started": "2024-09-26T21:26:36.282345Z"
    }
   },
   "outputs": [],
   "source": [
    "o_white_beam.select_ob_images()"
   ]
  },
  {
   "cell_type": "markdown",
   "id": "de5a18df",
   "metadata": {},
   "source": [
    "# Input Dark Current (DC) folder\n",
    "\n",
    "Select the images to use as DC\n",
    "\n",
    "<font color='blue'><b>Instructions</b>: select individual images</font>"
   ]
  },
  {
   "cell_type": "code",
   "execution_count": null,
   "id": "6cea9407",
   "metadata": {},
   "outputs": [],
   "source": [
    "o_white_beam.select_dc_images()"
   ]
  },
  {
   "cell_type": "markdown",
   "id": "107d1050",
   "metadata": {},
   "source": [
    "# Load data"
   ]
  },
  {
   "cell_type": "markdown",
   "id": "666d5d89",
   "metadata": {},
   "source": [
    "This cell will load the data.\n",
    "\n",
    "- <font color=blue><b>White beam</b></font>:\n",
    "This step will add all the counts within a given run, making it feel like the data were acquired in white beam mode, loosing the time-of-flight (TOF) information.\n",
    "\n",
    "This step will also sort the runs by increasing angle value."
   ]
  },
  {
   "cell_type": "code",
   "execution_count": null,
   "id": "0eee229f",
   "metadata": {},
   "outputs": [],
   "source": [
    "o_white_beam.load_data()"
   ]
  },
  {
   "cell_type": "markdown",
   "id": "c45e1943",
   "metadata": {},
   "source": [
    "<hr><hr style=\"border-bottom: dotted 1px;\" />\n",
    "<font color='red' size='5'>OPTIONAL</font>: visualize data loaded"
   ]
  },
  {
   "cell_type": "code",
   "execution_count": null,
   "id": "7214a9cb",
   "metadata": {},
   "outputs": [],
   "source": [
    "o_white_beam.visualize_raw_data()"
   ]
  },
  {
   "cell_type": "markdown",
   "id": "1d97e3d0",
   "metadata": {},
   "source": [
    "<hr><hr style=\"border-bottom: dotted 1px;\" />\n",
    "<font color='red' size='5'>OPTIONAL</font>: Remove outliers"
   ]
  },
  {
   "cell_type": "markdown",
   "id": "df329504",
   "metadata": {},
   "source": [
    "# Pre-processing - remove outliers\n",
    "\n",
    "Two algorithms are provided:\n",
    "\n",
    "* using histogram (remove dead pixels, abnormal very high counts)\n",
    "* using thresholding (remove high intensity bright spots)\n",
    "\n",
    "<font color='blue'><b>Instructions</b>: select the algorithms you want to use."
   ]
  },
  {
   "cell_type": "code",
   "execution_count": null,
   "id": "d6952c84",
   "metadata": {},
   "outputs": [],
   "source": [
    "o_white_beam.clean_images_settings()"
   ]
  },
  {
   "cell_type": "markdown",
   "id": "0b4bdb84",
   "metadata": {},
   "source": [
    "The next cell will be ignored if you didn't select <b>histogram</b>. \n",
    "\n",
    "<font color='blue'><b>Instructions</b>: if using the <b>histogram</b> algorithm, by default, all the pixels found in the first and last bin are considered as **bad** pixels. You have the option to change those settings. </font>"
   ]
  },
  {
   "cell_type": "code",
   "execution_count": null,
   "id": "66e1f723",
   "metadata": {},
   "outputs": [],
   "source": [
    "o_white_beam.clean_images_setup()"
   ]
  },
  {
   "cell_type": "code",
   "execution_count": null,
   "id": "694507be",
   "metadata": {},
   "outputs": [],
   "source": [
    "o_white_beam.clean_images()"
   ]
  },
  {
   "cell_type": "markdown",
   "id": "ea14a6e5-5921-4ddc-97a4-6b5411e14d0d",
   "metadata": {
    "execution": {
     "iopub.execute_input": "2024-09-25T16:48:21.997748Z",
     "iopub.status.busy": "2024-09-25T16:48:21.997353Z",
     "iopub.status.idle": "2024-09-25T16:48:21.999893Z",
     "shell.execute_reply": "2024-09-25T16:48:21.999578Z",
     "shell.execute_reply.started": "2024-09-25T16:48:21.997731Z"
    }
   },
   "source": [
    "<hr style=\"border-bottom: dotted 1px;\" /><hr>\n",
    "\n",
    "# Normalization\n"
   ]
  },
  {
   "cell_type": "markdown",
   "id": "622bc51f",
   "metadata": {},
   "source": [
    "<font color='blue'><b>Instructions</b>: in order to improve the normalization, you can turn ON/OFF any of the following \n",
    "\n",
    "- <font color=red><b>use proton charge</b></font>: that option will use the proton charge value requested for each runs and open beams and will bring them to the same value by applying a coefficient corector to the data.\n",
    "- <font color=red><b>use background region of interest (ROI)</b></font>: select a region that does not contain any part of the sample in order to match the counts with the same ROI of the open beam.</font>"
   ]
  },
  {
   "cell_type": "code",
   "execution_count": null,
   "id": "7b613711",
   "metadata": {},
   "outputs": [],
   "source": [
    "o_white_beam.normalization_settings()"
   ]
  },
  {
   "cell_type": "markdown",
   "id": "6af1d90a",
   "metadata": {},
   "source": [
    "This next cell will allow you to select the background region within the projections images, or will just be ignored if you not chose to use it.\n",
    "\n",
    "<font color='blue'><b>Instructions</b>: define ROI\n",
    "\n",
    "Make sure you select a region <font color='red'> OUTSIDE</font> of your sample\n",
    "\n",
    "<img src=\"__code/__all/demo_of_roi_selection.gif\" />\n",
    "\n",
    "NB: The next cell will be ignored if you didn't select <b>Use ROI</b>"
   ]
  },
  {
   "cell_type": "code",
   "execution_count": null,
   "id": "f57796df",
   "metadata": {},
   "outputs": [],
   "source": [
    "o_white_beam.normalization_select_roi()"
   ]
  },
  {
   "cell_type": "markdown",
   "id": "c4221eb9",
   "metadata": {},
   "source": [
    "This cell will perform the normalization using any of the settings you define just above."
   ]
  },
  {
   "cell_type": "code",
   "execution_count": null,
   "id": "48c201d4",
   "metadata": {},
   "outputs": [],
   "source": [
    "o_white_beam.normalization()"
   ]
  },
  {
   "cell_type": "markdown",
   "id": "97bf27d7",
   "metadata": {},
   "source": [
    "<hr><hr style=\"border-bottom: dotted 1px;\" />\n",
    "<font color='red' size='5'>OPTIONAL</font>: run it only if you want to visualize the normalized data"
   ]
  },
  {
   "cell_type": "code",
   "execution_count": null,
   "id": "47d0df72",
   "metadata": {},
   "outputs": [],
   "source": [
    "o_white_beam.visualization_normalization_settings()"
   ]
  },
  {
   "cell_type": "code",
   "execution_count": null,
   "id": "13d7ca09",
   "metadata": {},
   "outputs": [],
   "source": [
    "o_white_beam.visualize_normalization()"
   ]
  },
  {
   "cell_type": "markdown",
   "id": "148220ee",
   "metadata": {},
   "source": [
    "<hr><hr style=\"border-bottom: dotted 1px;\" />\n",
    "<font color='red' size='5'>OPTIONAL</font>: run if you want to rotate the data\n",
    "\n",
    "<font color='blue'>The reconstruction algorithm will ONLY work if the rotation axis is VERTICAL</font>!\n",
    "\n",
    "select the angle to use"
   ]
  },
  {
   "cell_type": "code",
   "execution_count": null,
   "id": "fb6ea64c",
   "metadata": {},
   "outputs": [],
   "source": [
    "o_white_beam.rotate_data_settings()"
   ]
  },
  {
   "cell_type": "markdown",
   "id": "2e94264c",
   "metadata": {},
   "source": [
    "Run to perform the transformation by the angle specified"
   ]
  },
  {
   "cell_type": "code",
   "execution_count": null,
   "id": "465287f8",
   "metadata": {},
   "outputs": [],
   "source": [
    "o_white_beam.apply_rotation()"
   ]
  },
  {
   "cell_type": "markdown",
   "id": "a5a7c6cc",
   "metadata": {},
   "source": [
    "Vizualize the images after rotation"
   ]
  },
  {
   "cell_type": "code",
   "execution_count": null,
   "id": "94d9eb0a",
   "metadata": {},
   "outputs": [],
   "source": [
    "o_white_beam.visualize_after_rotation()"
   ]
  },
  {
   "cell_type": "markdown",
   "id": "ba00ac93",
   "metadata": {},
   "source": [
    "<hr><hr style=\"border-bottom: dotted 1px;\" />\n",
    "<font color='red' size='5'>OPTIONAL</font>: run if you want to export the normalized data"
   ]
  },
  {
   "cell_type": "markdown",
   "id": "0e3dcaa4",
   "metadata": {},
   "source": [
    "Select the folder where to export the normalized images"
   ]
  },
  {
   "cell_type": "code",
   "execution_count": null,
   "id": "08cdae4f",
   "metadata": {},
   "outputs": [],
   "source": [
    "o_white_beam.select_export_normalized_folder()"
   ]
  },
  {
   "cell_type": "markdown",
   "id": "89fa91c6",
   "metadata": {},
   "source": [
    "Run this cell to execute the export of the normalized images"
   ]
  },
  {
   "cell_type": "code",
   "execution_count": null,
   "id": "9c86b702",
   "metadata": {},
   "outputs": [],
   "source": [
    "o_white_beam.export_normalized_images()"
   ]
  },
  {
   "cell_type": "markdown",
   "id": "739a9355",
   "metadata": {},
   "source": [
    "<hr><hr style=\"border-bottom: dotted 1px;\" />\n",
    "<font color='red' size='5'>OPTIONAL</font>: run if you want to remove any stripes causing ring artifacs in the reconstruction"
   ]
  },
  {
   "cell_type": "markdown",
   "id": "e5a7f823",
   "metadata": {},
   "source": [
    "## Remove stripes\n",
    "\n",
    "<font size=1><u>Developer Notes</u>: this step will create the 3d array <i>strip_corrected_images</i>"
   ]
  },
  {
   "cell_type": "code",
   "execution_count": null,
   "id": "e6432b5b",
   "metadata": {},
   "outputs": [],
   "source": [
    "o_white_beam.select_remove_strips_algorithms()"
   ]
  },
  {
   "cell_type": "code",
   "execution_count": null,
   "id": "081d0e6b",
   "metadata": {},
   "outputs": [],
   "source": [
    "o_white_beam.define_settings()"
   ]
  },
  {
   "cell_type": "code",
   "execution_count": null,
   "id": "75d3d677",
   "metadata": {},
   "outputs": [],
   "source": [
    "o_white_beam.remove_strips_and_display()"
   ]
  },
  {
   "cell_type": "markdown",
   "id": "51a27fed-4720-4e52-aa1a-6dbc8995ee46",
   "metadata": {
    "execution": {
     "iopub.execute_input": "2024-09-25T16:48:35.218331Z",
     "iopub.status.busy": "2024-09-25T16:48:35.218025Z",
     "iopub.status.idle": "2024-09-25T16:48:35.220484Z",
     "shell.execute_reply": "2024-09-25T16:48:35.220124Z",
     "shell.execute_reply.started": "2024-09-25T16:48:35.218314Z"
    }
   },
   "source": [
    "<hr><hr style=\"border-bottom: dotted 1px;\" />\n",
    "<font color='red' size='5'>OPTIONAL</font>: run if you want to correct for tilt and center of rotation\n",
    "\n",
    "# Calculate center of rotation and tilt\n",
    "\n",
    "The algorithm will determine the 0 and 180 degrees runs and use those to calculate the <b>center of rotation</b> and the <b>tilt</b>\n",
    "<br><br>\n",
    "\n",
    "<font color='blue'><b>Instructions</b>: first, you need to select an vertical range contaning the sample\n",
    "\n",
    "<font color='blue'>TIPS</font> - Make sure the sample is within the range defined\n",
    "\n",
    "<font size=1 color='black'><u>Developer Notes</u>: this step will create the 3d array <i>corrected_images</i>"
   ]
  },
  {
   "cell_type": "code",
   "execution_count": null,
   "id": "25b6a401",
   "metadata": {},
   "outputs": [],
   "source": [
    "o_white_beam.select_sample_roi()"
   ]
  },
  {
   "cell_type": "markdown",
   "id": "a8ea1bdf",
   "metadata": {},
   "source": [
    "Select the mode you want to use to calculate the **center of rotation** and the **tilt**\n",
    "\n",
    "* automatic mode will use the [neutompy](https://neutompy-toolbox.readthedocs.io/en/latest/index.html) library\n",
    "* manual mode will let you figure out the tilt and the center of rotation"
   ]
  },
  {
   "cell_type": "code",
   "execution_count": null,
   "id": "c4da2027",
   "metadata": {},
   "outputs": [],
   "source": [
    "o_white_beam.center_of_rotation_and_tilt_settings()"
   ]
  },
  {
   "cell_type": "markdown",
   "id": "639f1975",
   "metadata": {},
   "source": [
    "<font color='blue'><b><u>Instructions</u></b>: \n",
    "\n",
    "<b>Manual</b> mode:  \n",
    "\n",
    "* select the images you want to display at the same time using **CMD + click**\n",
    "* **position the blue** vertical dashed line at the center of rotation\n",
    "* **rotate** the sample in order to determine the tilt correction to apply\n",
    "\n",
    "<b>Automatic</b> mode:  \n",
    "\n",
    "* **tilt** and **center of rotation** will be automaticaly calculated and apply"
   ]
  },
  {
   "cell_type": "code",
   "execution_count": null,
   "id": "08fcde76",
   "metadata": {},
   "outputs": [],
   "source": [
    "o_white_beam.perform_center_of_rotation_and_tilt()"
   ]
  },
  {
   "cell_type": "markdown",
   "id": "b1ee7f20",
   "metadata": {},
   "source": [
    "<hr><hr style=\"border-bottom: dotted 1px;\" />\n",
    "<font color='red' size='5'>OPTIONAL</font>: run if you want to review and <font color='blue'>exclude</font> any projections from the reconstruction."
   ]
  },
  {
   "cell_type": "code",
   "execution_count": null,
   "id": "e0ca793f",
   "metadata": {},
   "outputs": [],
   "source": [
    "o_white_beam.final_projections_review()"
   ]
  },
  {
   "cell_type": "markdown",
   "id": "f2850bcc",
   "metadata": {},
   "source": [
    "<hr><hr style=\"border-bottom: dotted 1px;\" />\n",
    "<font color='red' size='5'>OPTIONAL</font>: run if you want to crop the data"
   ]
  },
  {
   "cell_type": "code",
   "execution_count": null,
   "id": "21e025c3",
   "metadata": {},
   "outputs": [],
   "source": [
    "o_white_beam.crop_settings()"
   ]
  },
  {
   "cell_type": "markdown",
   "id": "1d46b30d",
   "metadata": {},
   "source": [
    "execute the cropping"
   ]
  },
  {
   "cell_type": "code",
   "execution_count": null,
   "id": "8d48d4ab",
   "metadata": {},
   "outputs": [],
   "source": [
    "o_white_beam.crop()"
   ]
  },
  {
   "cell_type": "markdown",
   "id": "735faafb",
   "metadata": {},
   "source": [
    "<hr style=\"border-bottom: dotted 1px;\" /><hr>"
   ]
  },
  {
   "cell_type": "markdown",
   "id": "f79fabc5-69d4-40a9-938d-43250c0cfd38",
   "metadata": {},
   "source": [
    "# Reconstruction\n",
    "\n",
    "The following cells will perform the reconstruction using the svmbir algorithm\n",
    "\n",
    "<font color='blue'><b>Instructions</b>: \n",
    "\n",
    "- select the vertical range of slices you want to use in the reconstruction (the larger the range, the longer it will take to reconstruct the volume). Any slice outside of that range won't be render.\n",
    "- define the reconstruction settings (keeping the <b>default values</b> is a good choice for novice users)</font>\n",
    "\n",
    "The rendered slices will be automatically displayed when it's done!"
   ]
  },
  {
   "cell_type": "code",
   "execution_count": null,
   "id": "dd0e3924",
   "metadata": {},
   "outputs": [],
   "source": [
    "o_white_beam.svmbir_settings()"
   ]
  },
  {
   "cell_type": "markdown",
   "id": "b2c1f461",
   "metadata": {},
   "source": [
    "<hr><hr style=\"border-bottom: dotted 1px;\" />\n",
    "<font color='red' size='5'>OPTIONAL</font>: run if you want to display the sinograms"
   ]
  },
  {
   "cell_type": "code",
   "execution_count": null,
   "id": "5161e111",
   "metadata": {},
   "outputs": [],
   "source": [
    "o_white_beam.svmbir_display_sinograms()"
   ]
  },
  {
   "cell_type": "markdown",
   "id": "c486d10c",
   "metadata": {},
   "source": [
    "<hr style=\"border-bottom: dotted 1px;\" /><hr>\n",
    "\n",
    "Execute the reconstruction"
   ]
  },
  {
   "cell_type": "code",
   "execution_count": null,
   "id": "1c9f5972",
   "metadata": {},
   "outputs": [],
   "source": [
    "o_white_beam.svmbir_run()"
   ]
  },
  {
   "cell_type": "markdown",
   "id": "0315ff1a",
   "metadata": {},
   "source": [
    "# Export the slices\n",
    "\n",
    "<font color='blue'><b>Instructions</b>: select the folder where to export the reconstructed slices"
   ]
  },
  {
   "cell_type": "code",
   "execution_count": null,
   "id": "d2affc67",
   "metadata": {},
   "outputs": [],
   "source": [
    "o_white_beam.select_export_slices_folder()"
   ]
  },
  {
   "cell_type": "markdown",
   "id": "cbb12003",
   "metadata": {},
   "source": [
    "This next cell will export the slices. "
   ]
  },
  {
   "cell_type": "code",
   "execution_count": null,
   "id": "5a97a799",
   "metadata": {},
   "outputs": [],
   "source": [
    "o_white_beam.export_slices()"
   ]
  },
  {
   "cell_type": "markdown",
   "id": "c20fb822",
   "metadata": {},
   "source": [
    "<hr><hr style=\"border-bottom: dotted 1px;\" />\n",
    "<font color='red' size='5'>OPTIONAL</font>: export log file"
   ]
  },
  {
   "cell_type": "code",
   "execution_count": null,
   "id": "25c8afd3",
   "metadata": {},
   "outputs": [],
   "source": [
    "o_white_beam.select_export_extra_files()"
   ]
  },
  {
   "cell_type": "code",
   "execution_count": null,
   "id": "4db82b11",
   "metadata": {},
   "outputs": [],
   "source": [
    "o_white_beam.export_extra_files()"
   ]
  }
 ],
 "metadata": {
  "kernelspec": {
   "display_name": "hsnt",
   "language": "python",
   "name": "python3"
  },
  "language_info": {
   "codemirror_mode": {
    "name": "ipython",
    "version": 3
   },
   "file_extension": ".py",
   "mimetype": "text/x-python",
   "name": "python",
   "nbconvert_exporter": "python",
   "pygments_lexer": "ipython3",
   "version": "3.9.20"
  }
 },
 "nbformat": 4,
 "nbformat_minor": 5
}
