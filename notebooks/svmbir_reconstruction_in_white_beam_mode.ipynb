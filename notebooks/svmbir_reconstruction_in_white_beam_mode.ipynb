{
 "cells": [
  {
   "cell_type": "code",
   "execution_count": 1,
   "id": "d537c2cb",
   "metadata": {
    "execution": {
     "iopub.execute_input": "2024-09-26T21:26:30.516782Z",
     "iopub.status.busy": "2024-09-26T21:26:30.516367Z",
     "iopub.status.idle": "2024-09-26T21:26:32.717495Z",
     "shell.execute_reply": "2024-09-26T21:26:32.717089Z",
     "shell.execute_reply.started": "2024-09-26T21:26:30.516760Z"
    }
   },
   "outputs": [
    {
     "data": {
      "text/html": [
       "\n",
       "<style type=\"text/css\">\n",
       ".jupyter-widgets select option {font-family: \"Lucida Console\", Monaco, monospace;}\n",
       ".jupyter-widgets select {width: 98%;}\n",
       "div.output_subarea {padding: 0px;}\n",
       "div.output_subarea > div {margin: 0.4em;}\n",
       "</style>\n"
      ],
      "text/plain": [
       "<IPython.core.display.HTML object>"
      ]
     },
     "metadata": {},
     "output_type": "display_data"
    },
    {
     "data": {
      "text/html": [
       "\n",
       "<style type=\"text/css\">\n",
       ".jupyter-widgets select option {font-family: \"Lucida Console\", Monaco, monospace;}\n",
       "div.output_subarea {padding: 0px;}\n",
       "div.output_subarea > div {margin: 0.4em;}\n",
       "</style>\n"
      ],
      "text/plain": [
       "<IPython.core.display.HTML object>"
      ]
     },
     "metadata": {},
     "output_type": "display_data"
    },
    {
     "data": {
      "text/html": [
       "\n",
       "                   <style>\n",
       "                   .result_label {\n",
       "                      font-style: bold;\n",
       "                      color: red;\n",
       "                      font-size: 18px;\n",
       "                   }\n",
       "                   </style>\n",
       "                   "
      ],
      "text/plain": [
       "<IPython.core.display.HTML object>"
      ]
     },
     "metadata": {},
     "output_type": "display_data"
    },
    {
     "data": {
      "application/vnd.jupyter.widget-view+json": {
       "model_id": "6debdda46d1546198a1183eb46afd833",
       "version_major": 2,
       "version_minor": 0
      },
      "text/plain": [
       "VBox(children=(HBox(children=(Label(value='Select Instrument', layout=Layout(width='20%')), Select(index=2, la…"
      ]
     },
     "metadata": {},
     "output_type": "display_data"
    },
    {
     "data": {
      "text/html": [
       "<style>\n",
       "\n",
       "/* The following CSS has been adapted from\n",
       "   http://nbviewer.ipython.org/github/ketch/teaching-numerics-with-notebooks/blob/master/Styling_notebooks.ipynb\n",
       "   by Aron Ahmadia and David Ketcheson and has been reused under CC BY 4.0\n",
       "   */\n",
       "\n",
       "/* main background */\n",
       "#site { \n",
       "    background: #888;\n",
       "    color: red; \n",
       "}\n",
       "\n",
       "div.container {\n",
       "    width: 100% ! important;\n",
       "}\n",
       "\n",
       "div.cell { /* set cell width to about 80 chars */\n",
       "    width: 95%;\n",
       "}\n",
       "\n",
       "div #notebook { /* centre the content */\n",
       "/*    background: #fff; /* white background for content */\n",
       "    background: blue;\n",
       "    width: 100%;\n",
       "    margin: auto;\n",
       "    padding-left: 1em;\n",
       "    padding-right: 1em;\n",
       "    background-image: url(\"tile_background.jpg\");\n",
       "}\n",
       "\n",
       "#notebook li { /* More space between bullet points */\n",
       "    margin-top:0.4em;\n",
       "}\n",
       "\n",
       "/* change background color of running cells */\n",
       "div.cell.code_cell.running {\n",
       "/*    background-color: rgba(164,188,194,.75); */\n",
       "    background-color: green;\n",
       "    border-width: 8px;\n",
       "    border-style: solid;\n",
       "    border-color: #111;\n",
       "}\n",
       "\n",
       "/* Put a solid color box around each cell and its output, visually linking them together */\n",
       "div.cell.code_cell {\n",
       "    background-color: rgba(164,188,194,.25); /* Continuum L Gray with alpha 0.25 */\n",
       "    border-radius: 10px; /* rounded borders */\n",
       "    padding: 1em;\n",
       "    margin-top: 1em;\n",
       "}\n",
       "\n",
       "div.text_cell_render{\n",
       "\tfont-family: Georgia, Times, 'Times New Roman', serif;\n",
       "    line-height: 110%;\n",
       "    font-size: 105%;\n",
       "    width: 95%;\n",
       "    margin-left: auto;\n",
       "    margin-right: auto;\n",
       "}\n",
       "\n",
       "\n",
       "/* Formatting for header cells */\n",
       ".text_cell_render h1 {\n",
       "\tfont-family: Arial, 'Helvetica Neue', Helvetica, sans-serif;\n",
       "    font-weight: 400;\n",
       "    font-size: 30pt;\n",
       "    line-height: 100%;\n",
       "    color: rgb(37,55,70); /* Continuum Blue*/\n",
       "    margin-bottom: 0.1em;\n",
       "    margin-top: 0.1em;\n",
       "    display: block;\n",
       "}\n",
       ".text_cell_render h2 {\n",
       "\tfont-family: Arial, 'Helvetica Neue', Helvetica, sans-serif;\n",
       "    font-weight: 700;\n",
       "    font-size: 22pt;\n",
       "    line-height: 100%;\n",
       "    color: rgb(37,55,70);\n",
       "    margin-bottom: 0.1em;\n",
       "    margin-top: 0.1em;\n",
       "    display: block;\n",
       "}\n",
       "\n",
       ".text_cell_render h3 {\n",
       "\tfont-family: Arial, 'Helvetica Neue', Helvetica, sans-serif;\n",
       "    margin-top:12px;\n",
       "    margin-bottom: 3px;\n",
       "    font-style: italic;\n",
       "    color: rgb(37, 55, 70);\n",
       "}\n",
       "\n",
       ".text_cell_render h4 {\n",
       "\tfont-family: Arial, 'Helvetica Neue', Helvetica, sans-serif;\n",
       "}\n",
       "\n",
       ".text_cell_render h5 {\n",
       "\tfont-family: Arial, 'Helvetica Neue', Helvetica, sans-serif;\n",
       "    font-weight: 300;\n",
       "    font-size: 14pt;\n",
       "    font-style: italic;\n",
       "    margin-bottom: .1em;\n",
       "    margin-top: 0.1em;\n",
       "    display: block;\n",
       "}\n",
       "\n",
       ".text_cell_render h6 {\n",
       "\tfont-family: Arial, 'Helvetica Neue', Helvetica, sans-serif;\n",
       "    font-weight: 300;\n",
       "    font-size: 10pt;\n",
       "    margin-bottom: 1px;\n",
       "    margin-top: 1px;\n",
       "}\n",
       "\n",
       ".CodeMirror{\n",
       "        font-family: \"PT Mono\", fixed;\n",
       "        font-size: 100%;\n",
       "}\n",
       "\n",
       "#notebook_panel { /* main background */\n",
       "    background-image: url(\"tile_background.jpg\");\n",
       "}\n",
       "</style>"
      ],
      "text/plain": [
       "<IPython.core.display.HTML object>"
      ]
     },
     "execution_count": 1,
     "metadata": {},
     "output_type": "execute_result"
    }
   ],
   "source": [
    "# this is using the hsnt kernel conda environment\n",
    "\n",
    "import warnings\n",
    "warnings.filterwarnings('ignore')\n",
    "\n",
    "%matplotlib inline\n",
    "\n",
    "from __code.svmbir_reconstruction_in_white_beam_mode import SvmbirReconstruction\n",
    "\n",
    "\n",
    "from __code import system\n",
    "\n",
    "system.System.select_working_dir(facility='HFIR', instrument='CG1D', ipts='IPTS-32720')\n",
    "from __code.__all import custom_style\n",
    "custom_style.style()"
   ]
  },
  {
   "cell_type": "markdown",
   "id": "b9d745bd",
   "metadata": {},
   "source": [
    "# Input sample folder\n",
    "\n",
    "This folder will contains all the images (1 image per angle)\n",
    "\n",
    "<font color='blue'><b>Instructions</b>: select folder containing projections</font>"
   ]
  },
  {
   "cell_type": "code",
   "execution_count": 2,
   "id": "4521c25a",
   "metadata": {
    "execution": {
     "iopub.execute_input": "2024-09-26T21:26:35.901974Z",
     "iopub.status.busy": "2024-09-26T21:26:35.901647Z",
     "iopub.status.idle": "2024-09-26T21:26:35.906304Z",
     "shell.execute_reply": "2024-09-26T21:26:35.905929Z",
     "shell.execute_reply.started": "2024-09-26T21:26:35.901955Z"
    }
   },
   "outputs": [
    {
     "name": "stdout",
     "output_type": "stream",
     "text": [
      "Top sample folder selected: /HFIR/CG1D/IPTS-32720/raw/ct_scans/2024_10_30_anodefree/\n"
     ]
    }
   ],
   "source": [
    "o_white_beam = SvmbirReconstruction(system=system)\n",
    "o_white_beam.select_top_sample_folder()"
   ]
  },
  {
   "cell_type": "markdown",
   "id": "5d532080",
   "metadata": {},
   "source": [
    "# Input Open Beam (OB) folder\n",
    "\n",
    "Select the images to use as OB\n",
    "\n",
    "<font color='blue'><b>Instructions</b>: select individual images</font>"
   ]
  },
  {
   "cell_type": "code",
   "execution_count": 3,
   "id": "51549f93",
   "metadata": {
    "execution": {
     "iopub.execute_input": "2024-09-26T21:26:36.282364Z",
     "iopub.status.busy": "2024-09-26T21:26:36.281911Z",
     "iopub.status.idle": "2024-09-26T21:26:36.285442Z",
     "shell.execute_reply": "2024-09-26T21:26:36.285064Z",
     "shell.execute_reply.started": "2024-09-26T21:26:36.282345Z"
    }
   },
   "outputs": [
    {
     "name": "stdout",
     "output_type": "stream",
     "text": [
      "top ob folder is: /HFIR/CG1D/IPTS-32720/raw/ob/2024_10_30_anodefree\n"
     ]
    }
   ],
   "source": [
    "o_white_beam.select_ob_images()"
   ]
  },
  {
   "cell_type": "markdown",
   "id": "de5a18df",
   "metadata": {},
   "source": [
    "# Input Dark Current (DC) folder\n",
    "\n",
    "Select the images to use as DC\n",
    "\n",
    "<font color='blue'><b>Instructions</b>: select individual images</font>"
   ]
  },
  {
   "cell_type": "code",
   "execution_count": 4,
   "id": "6cea9407",
   "metadata": {},
   "outputs": [],
   "source": [
    "o_white_beam.select_dc_images()"
   ]
  },
  {
   "cell_type": "markdown",
   "id": "107d1050",
   "metadata": {},
   "source": [
    "# Load data"
   ]
  },
  {
   "cell_type": "markdown",
   "id": "666d5d89",
   "metadata": {},
   "source": [
    "This cell will load the data.\n",
    "\n",
    "- <font color=blue><b>White beam</b></font>:\n",
    "This step will add all the counts within a given run, making it feel like the data were acquired in white beam mode, loosing the time-of-flight (TOF) information.\n",
    "\n",
    "This step will also sort the runs by increasing angle value."
   ]
  },
  {
   "cell_type": "code",
   "execution_count": 5,
   "id": "0eee229f",
   "metadata": {},
   "outputs": [],
   "source": [
    "o_white_beam.load_data()"
   ]
  },
  {
   "cell_type": "markdown",
   "id": "c45e1943",
   "metadata": {},
   "source": [
    "<hr><hr style=\"border-bottom: dotted 1px;\" />\n",
    "<font color='red' size='5'>OPTIONAL</font>: visualize data loaded"
   ]
  },
  {
   "cell_type": "code",
   "execution_count": null,
   "id": "7214a9cb",
   "metadata": {},
   "outputs": [],
   "source": [
    "o_white_beam.visualize_raw_data()"
   ]
  },
  {
   "cell_type": "markdown",
   "id": "d5068089",
   "metadata": {},
   "source": [
    "<hr style=\"border-bottom: dotted 1px;\" /><hr>"
   ]
  },
  {
   "cell_type": "markdown",
   "id": "df329504",
   "metadata": {},
   "source": [
    "# Pre-processing - remove outliers\n",
    "\n",
    "Two algorithms are provided:\n",
    "\n",
    "* using histogram (remove dead pixels, abnormal very high counts)\n",
    "* using thresholding (remove high intensity bright spots)\n",
    "\n",
    "<font color='blue'><b>Instructions</b>: select the algorithms you want to use."
   ]
  },
  {
   "cell_type": "code",
   "execution_count": 6,
   "id": "d6952c84",
   "metadata": {},
   "outputs": [
    {
     "data": {
      "application/vnd.jupyter.widget-view+json": {
       "model_id": "8c124de529734e119181a5285cb64551",
       "version_major": 2,
       "version_minor": 0
      },
      "text/plain": [
       "VBox(children=(Checkbox(value=False, description='Histogram'), Checkbox(value=False, description='Threshold'))…"
      ]
     },
     "metadata": {},
     "output_type": "display_data"
    }
   ],
   "source": [
    "o_white_beam.clean_images_settings()"
   ]
  },
  {
   "cell_type": "markdown",
   "id": "0b4bdb84",
   "metadata": {},
   "source": [
    "The next cell will be ignored if you didn't select <b>histogram</b>. \n",
    "\n",
    "<font color='blue'><b>Instructions</b>: if using the <b>histogram</b> algorithm, by default, all the pixels found in the first and last bin are considered as **bad** pixels. You have the option to change those settings. </font>"
   ]
  },
  {
   "cell_type": "code",
   "execution_count": 7,
   "id": "66e1f723",
   "metadata": {},
   "outputs": [],
   "source": [
    "o_white_beam.clean_images_setup()"
   ]
  },
  {
   "cell_type": "markdown",
   "id": "ca45d69c",
   "metadata": {},
   "source": [
    "Perform the cleaning using the settings define in the previous cells\n",
    "\n",
    "<font size=1><u>Developer Notes</u>: create the <i>master_3d_data_array_cleaned<i> dictionary."
   ]
  },
  {
   "cell_type": "code",
   "execution_count": 8,
   "id": "694507be",
   "metadata": {},
   "outputs": [],
   "source": [
    "o_white_beam.clean_images()"
   ]
  },
  {
   "cell_type": "markdown",
   "id": "ea14a6e5-5921-4ddc-97a4-6b5411e14d0d",
   "metadata": {
    "execution": {
     "iopub.execute_input": "2024-09-25T16:48:21.997748Z",
     "iopub.status.busy": "2024-09-25T16:48:21.997353Z",
     "iopub.status.idle": "2024-09-25T16:48:21.999893Z",
     "shell.execute_reply": "2024-09-25T16:48:21.999578Z",
     "shell.execute_reply.started": "2024-09-25T16:48:21.997731Z"
    }
   },
   "source": [
    "<hr style=\"border-bottom: dotted 1px;\" /><hr>\n",
    "\n",
    "# Normalization\n"
   ]
  },
  {
   "cell_type": "markdown",
   "id": "622bc51f",
   "metadata": {},
   "source": [
    "<font color='blue'><b>Instructions</b>: in order to improve the normalization, you can turn ON/OFF any of the following \n",
    "\n",
    "- <font color=red><b>use proton charge</b></font>: that option will use the proton charge value requested for each runs and open beams and will bring them to the same value by applying a coefficient corector to the data.\n",
    "- <font color=red><b>use background region of interest (ROI)</b></font>: select a region that does not contain any part of the sample in order to match the counts with the same ROI of the open beam.</font>"
   ]
  },
  {
   "cell_type": "code",
   "execution_count": 9,
   "id": "7b613711",
   "metadata": {},
   "outputs": [
    {
     "data": {
      "application/vnd.jupyter.widget-view+json": {
       "model_id": "d1dfd915a02646019c5e0a7d24dea1a0",
       "version_major": 2,
       "version_minor": 0
      },
      "text/plain": [
       "VBox(children=(Checkbox(value=True, description='Use proton charge', disabled=True), Checkbox(value=False, des…"
      ]
     },
     "metadata": {},
     "output_type": "display_data"
    }
   ],
   "source": [
    "o_white_beam.normalization_settings()"
   ]
  },
  {
   "cell_type": "markdown",
   "id": "6af1d90a",
   "metadata": {},
   "source": [
    "This next cell will allow you to select the background region within the projections images, or will just be ignored if you not chose to use it.\n",
    "\n",
    "<font color='blue'><b>Instructions</b>: define ROI\n",
    "\n",
    "Make sure you select a region <font color='red'> OUTSIDE</font> of your sample\n",
    "\n",
    "<img src=\"__code/__all/demo_of_roi_selection.gif\" />\n",
    "\n",
    "NB: The next cell will be ignored if you didn't select <b>Use ROI</b>"
   ]
  },
  {
   "cell_type": "code",
   "execution_count": 10,
   "id": "f57796df",
   "metadata": {},
   "outputs": [
    {
     "data": {
      "application/vnd.jupyter.widget-view+json": {
       "model_id": "11301fa205b14b67b9a8b8c23defb529",
       "version_major": 2,
       "version_minor": 0
      },
      "text/plain": [
       "interactive(children=(IntSlider(value=750, description='left', max=6199), IntSlider(value=5372, description='r…"
      ]
     },
     "metadata": {},
     "output_type": "display_data"
    }
   ],
   "source": [
    "o_white_beam.normalization_select_roi()"
   ]
  },
  {
   "cell_type": "markdown",
   "id": "c4221eb9",
   "metadata": {},
   "source": [
    "This cell will perform the normalization using any of the settings you define just above."
   ]
  },
  {
   "cell_type": "code",
   "execution_count": 11,
   "id": "48c201d4",
   "metadata": {},
   "outputs": [],
   "source": [
    "o_white_beam.normalization()"
   ]
  },
  {
   "cell_type": "markdown",
   "id": "97bf27d7",
   "metadata": {},
   "source": [
    "<hr><hr style=\"border-bottom: dotted 1px;\" />\n",
    "<font color='red' size='5'>OPTIONAL</font>: run it only if you want to visualize the normalized data"
   ]
  },
  {
   "cell_type": "code",
   "execution_count": null,
   "id": "47d0df72",
   "metadata": {},
   "outputs": [],
   "source": [
    "o_white_beam.visualization_normalization_settings()"
   ]
  },
  {
   "cell_type": "code",
   "execution_count": null,
   "id": "13d7ca09",
   "metadata": {},
   "outputs": [],
   "source": [
    "o_white_beam.visualize_normalization()"
   ]
  },
  {
   "cell_type": "markdown",
   "id": "148220ee",
   "metadata": {},
   "source": [
    "<hr><hr style=\"border-bottom: dotted 1px;\" />\n",
    "<font color='red' size='5'>OPTIONAL</font>: run if you want to rotate the data\n",
    "\n",
    "select the angle to use"
   ]
  },
  {
   "cell_type": "code",
   "execution_count": 12,
   "id": "fb6ea64c",
   "metadata": {},
   "outputs": [
    {
     "data": {
      "application/vnd.jupyter.widget-view+json": {
       "model_id": "1736aacecca84ae8bab690a05cd934e6",
       "version_major": 2,
       "version_minor": 0
      },
      "text/plain": [
       "VBox(children=(HTML(value='Select rotation angle (counter-clockwise)'), IntSlider(value=0, description='Angle'…"
      ]
     },
     "metadata": {},
     "output_type": "display_data"
    }
   ],
   "source": [
    "o_white_beam.rotate_data_settings()"
   ]
  },
  {
   "cell_type": "markdown",
   "id": "2e94264c",
   "metadata": {},
   "source": [
    "Run to perform the transformation by the angle specified"
   ]
  },
  {
   "cell_type": "code",
   "execution_count": 13,
   "id": "465287f8",
   "metadata": {},
   "outputs": [
    {
     "name": "stderr",
     "output_type": "stream",
     "text": [
      "100%|██████████| 3/3 [00:01<00:00,  2.51it/s]\n"
     ]
    }
   ],
   "source": [
    "o_white_beam.apply_rotation()"
   ]
  },
  {
   "cell_type": "markdown",
   "id": "a5a7c6cc",
   "metadata": {},
   "source": [
    "Vizualize the images after rotation"
   ]
  },
  {
   "cell_type": "code",
   "execution_count": 14,
   "id": "94d9eb0a",
   "metadata": {},
   "outputs": [
    {
     "data": {
      "image/png": "[encoded data removed]",
      "text/plain": [
       "<Figure size 1000x200 with 8 Axes>"
      ]
     },
     "metadata": {},
     "output_type": "display_data"
    }
   ],
   "source": [
    "o_white_beam.visualize_after_rotation()"
   ]
  },
  {
   "cell_type": "markdown",
   "id": "ba00ac93",
   "metadata": {},
   "source": [
    "<hr><hr style=\"border-bottom: dotted 1px;\" />\n",
    "<font color='red' size='5'>OPTIONAL</font>: run if you want to export the normalized data"
   ]
  },
  {
   "cell_type": "markdown",
   "id": "0e3dcaa4",
   "metadata": {},
   "source": [
    "Select the folder where to export the normalized images"
   ]
  },
  {
   "cell_type": "code",
   "execution_count": null,
   "id": "08cdae4f",
   "metadata": {},
   "outputs": [],
   "source": [
    "o_white_beam.select_export_normalized_folder()"
   ]
  },
  {
   "cell_type": "markdown",
   "id": "89fa91c6",
   "metadata": {},
   "source": [
    "Run this cell to execute the export of the normalized images"
   ]
  },
  {
   "cell_type": "code",
   "execution_count": null,
   "id": "9c86b702",
   "metadata": {},
   "outputs": [],
   "source": [
    "o_white_beam.export_normalized_images()"
   ]
  },
  {
   "cell_type": "markdown",
   "id": "739a9355",
   "metadata": {},
   "source": [
    "<hr><hr style=\"border-bottom: dotted 1px;\" />\n",
    "<font color='red' size='5'>OPTIONAL</font>: run if you want to remove any stripes causing ring artifacs in the reconstruction"
   ]
  },
  {
   "cell_type": "markdown",
   "id": "e5a7f823",
   "metadata": {},
   "source": [
    "## Remove stripes\n",
    "\n",
    "<font size=1><u>Developer Notes</u>: this step will create the 3d array <i>strip_corrected_images</i>"
   ]
  },
  {
   "cell_type": "code",
   "execution_count": null,
   "id": "e6432b5b",
   "metadata": {},
   "outputs": [],
   "source": [
    "o_white_beam.select_remove_strips_algorithms()"
   ]
  },
  {
   "cell_type": "code",
   "execution_count": null,
   "id": "081d0e6b",
   "metadata": {},
   "outputs": [],
   "source": [
    "o_white_beam.define_settings()"
   ]
  },
  {
   "cell_type": "code",
   "execution_count": null,
   "id": "75d3d677",
   "metadata": {},
   "outputs": [],
   "source": [
    "o_white_beam.remove_strips_and_display()"
   ]
  },
  {
   "cell_type": "code",
   "execution_count": null,
   "id": "e292ac20",
   "metadata": {},
   "outputs": [],
   "source": []
  },
  {
   "cell_type": "code",
   "execution_count": null,
   "id": "8d9e8e8d",
   "metadata": {},
   "outputs": [],
   "source": []
  },
  {
   "cell_type": "code",
   "execution_count": null,
   "id": "2508eaad",
   "metadata": {},
   "outputs": [],
   "source": []
  },
  {
   "cell_type": "code",
   "execution_count": null,
   "id": "24934059",
   "metadata": {},
   "outputs": [],
   "source": []
  },
  {
   "cell_type": "markdown",
   "id": "51a27fed-4720-4e52-aa1a-6dbc8995ee46",
   "metadata": {
    "execution": {
     "iopub.execute_input": "2024-09-25T16:48:35.218331Z",
     "iopub.status.busy": "2024-09-25T16:48:35.218025Z",
     "iopub.status.idle": "2024-09-25T16:48:35.220484Z",
     "shell.execute_reply": "2024-09-25T16:48:35.220124Z",
     "shell.execute_reply.started": "2024-09-25T16:48:35.218314Z"
    }
   },
   "source": [
    "<hr><hr style=\"border-bottom: dotted 1px;\" />\n",
    "<font color='red' size='5'>OPTIONAL</font>: run if you want to correct for tilt and center of rotation\n",
    "\n",
    "# Calculate center of rotation and tilt\n",
    "\n",
    "The algorithm will determine the 0 and 180 degrees runs and use those to calculate the <b>center of rotation</b> and the <b>tilt</b>\n",
    "<br><br>\n",
    "\n",
    "<font color='blue'><b>Instructions</b>: first, you need to select an vertical range contaning the sample\n",
    "\n",
    "<font color='blue'>TIPS</font> - Make sure the sample is within the range defined\n",
    "\n",
    "<font size=1 color='white'><u>Developer Notes</u>: this step will create the 3d array <i>corrected_images</i>"
   ]
  },
  {
   "cell_type": "code",
   "execution_count": 15,
   "id": "25b6a401",
   "metadata": {},
   "outputs": [
    {
     "data": {
      "application/vnd.jupyter.widget-view+json": {
       "model_id": "69fcf563bea14daca9757335923e8b07",
       "version_major": 2,
       "version_minor": 0
      },
      "text/plain": [
       "interactive(children=(IntSlider(value=0, description='y_top', max=6199), IntSlider(value=6199, description='y_…"
      ]
     },
     "metadata": {},
     "output_type": "display_data"
    }
   ],
   "source": [
    "o_white_beam.select_sample_roi()"
   ]
  },
  {
   "cell_type": "code",
   "execution_count": null,
   "id": "2cfe6f5b",
   "metadata": {},
   "outputs": [
    {
     "name": "stdout",
     "output_type": "stream",
     "text": [
      "> Finding the rotation axis position...\n"
     ]
    }
   ],
   "source": [
    "o_white_beam.calculate_center_of_rotation_and_tilt()"
   ]
  },
  {
   "cell_type": "markdown",
   "id": "b1ee7f20",
   "metadata": {},
   "source": [
    "<hr><hr style=\"border-bottom: dotted 1px;\" />\n",
    "<font color='red' size='5'>OPTIONAL</font>: run if you want to review and <font color='blue'>exclude</font> any projections from the reconstruction."
   ]
  },
  {
   "cell_type": "code",
   "execution_count": null,
   "id": "e0ca793f",
   "metadata": {},
   "outputs": [],
   "source": [
    "o_white_beam.final_projections_review()"
   ]
  },
  {
   "cell_type": "markdown",
   "id": "735faafb",
   "metadata": {},
   "source": [
    "<hr style=\"border-bottom: dotted 1px;\" /><hr>"
   ]
  },
  {
   "cell_type": "markdown",
   "id": "f79fabc5-69d4-40a9-938d-43250c0cfd38",
   "metadata": {},
   "source": [
    "# Reconstruction\n",
    "\n",
    "The following cells will perform the reconstruction using the svmbir algorithm\n",
    "\n",
    "<font color='blue'><b>Instructions</b>: \n",
    "\n",
    "- select the vertical range of slices you want to use in the reconstruction (the larger the range, the longer it will take to reconstruct the volume). Any slice outside of that range won't be render.\n",
    "- define the reconstruction settings (keeping the <b>default values</b> is a good choice for novice users)</font>\n",
    "\n",
    "The rendered slices will be automatically displayed when it's done!"
   ]
  },
  {
   "cell_type": "code",
   "execution_count": null,
   "id": "dd0e3924",
   "metadata": {},
   "outputs": [],
   "source": [
    "o_white_beam.svmbir_settings()"
   ]
  },
  {
   "cell_type": "markdown",
   "id": "b2c1f461",
   "metadata": {},
   "source": [
    "<hr><hr style=\"border-bottom: dotted 1px;\" />\n",
    "<font color='red' size='5'>OPTIONAL</font>: run if you want to display the sinograms"
   ]
  },
  {
   "cell_type": "code",
   "execution_count": null,
   "id": "5161e111",
   "metadata": {},
   "outputs": [],
   "source": [
    "o_white_beam.svmbir_display_sinograms()"
   ]
  },
  {
   "cell_type": "markdown",
   "id": "c486d10c",
   "metadata": {},
   "source": [
    "<hr style=\"border-bottom: dotted 1px;\" /><hr>\n",
    "\n",
    "Execute the reconstruction"
   ]
  },
  {
   "cell_type": "code",
   "execution_count": null,
   "id": "1c9f5972",
   "metadata": {},
   "outputs": [],
   "source": [
    "o_white_beam.svmbir_run()"
   ]
  },
  {
   "cell_type": "markdown",
   "id": "0315ff1a",
   "metadata": {},
   "source": [
    "# Export the slices\n",
    "\n",
    "<font color='blue'><b>Instructions</b>: select the folder where to export the reconstructed slices"
   ]
  },
  {
   "cell_type": "code",
   "execution_count": null,
   "id": "d2affc67",
   "metadata": {},
   "outputs": [],
   "source": [
    "o_white_beam.select_export_slices_folder()"
   ]
  },
  {
   "cell_type": "markdown",
   "id": "cbb12003",
   "metadata": {},
   "source": [
    "This next cell will export the slices. "
   ]
  },
  {
   "cell_type": "code",
   "execution_count": null,
   "id": "5a97a799",
   "metadata": {},
   "outputs": [],
   "source": [
    "o_white_beam.export_slices()"
   ]
  },
  {
   "cell_type": "markdown",
   "id": "c20fb822",
   "metadata": {},
   "source": [
    "<hr><hr style=\"border-bottom: dotted 1px;\" />\n",
    "<font color='red' size='5'>OPTIONAL</font>: export log file"
   ]
  },
  {
   "cell_type": "code",
   "execution_count": null,
   "id": "25c8afd3",
   "metadata": {},
   "outputs": [],
   "source": [
    "o_white_beam.select_export_extra_files()"
   ]
  },
  {
   "cell_type": "code",
   "execution_count": null,
   "id": "4db82b11",
   "metadata": {},
   "outputs": [],
   "source": [
    "o_white_beam.export_extra_files()"
   ]
  }
 ],
 "metadata": {
  "kernelspec": {
   "display_name": "hsnt",
   "language": "python",
   "name": "python3"
  },
  "language_info": {
   "codemirror_mode": {
    "name": "ipython",
    "version": 3
   },
   "file_extension": ".py",
   "mimetype": "text/x-python",
   "name": "python",
   "nbconvert_exporter": "python",
   "pygments_lexer": "ipython3",
   "version": "3.9.20"
  }
 },
 "nbformat": 4,
 "nbformat_minor": 5
}
