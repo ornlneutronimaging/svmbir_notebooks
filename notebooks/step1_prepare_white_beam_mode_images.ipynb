{
 "cells": [
  {
   "cell_type": "code",
   "execution_count": 1,
   "id": "d537c2cb",
   "metadata": {
    "execution": {
     "iopub.execute_input": "2024-12-05T18:24:53.254626Z",
     "iopub.status.busy": "2024-12-05T18:24:53.254425Z",
     "iopub.status.idle": "2024-12-05T18:24:53.279596Z",
     "shell.execute_reply": "2024-12-05T18:24:53.279304Z",
     "shell.execute_reply.started": "2024-12-05T18:24:53.254610Z"
    }
   },
   "outputs": [
    {
     "data": {
      "text/html": [
       "\n",
       "<style type=\"text/css\">\n",
       ".jupyter-widgets select option {font-family: \"Lucida Console\", Monaco, monospace;}\n",
       ".jupyter-widgets select {width: 98%;}\n",
       "div.output_subarea {padding: 0px;}\n",
       "div.output_subarea > div {margin: 0.4em;}\n",
       "</style>\n"
      ],
      "text/plain": [
       "<IPython.core.display.HTML object>"
      ]
     },
     "metadata": {},
     "output_type": "display_data"
    },
    {
     "data": {
      "text/html": [
       "\n",
       "<style type=\"text/css\">\n",
       ".jupyter-widgets select option {font-family: \"Lucida Console\", Monaco, monospace;}\n",
       "div.output_subarea {padding: 0px;}\n",
       "div.output_subarea > div {margin: 0.4em;}\n",
       "</style>\n"
      ],
      "text/plain": [
       "<IPython.core.display.HTML object>"
      ]
     },
     "metadata": {},
     "output_type": "display_data"
    },
    {
     "data": {
      "text/html": [
       "\n",
       "                   <style>\n",
       "                   .result_label {\n",
       "                      font-style: bold;\n",
       "                      color: red;\n",
       "                      font-size: 18px;\n",
       "                   }\n",
       "                   </style>\n",
       "                   "
      ],
      "text/plain": [
       "<IPython.core.display.HTML object>"
      ]
     },
     "metadata": {},
     "output_type": "display_data"
    },
    {
     "data": {
      "application/vnd.jupyter.widget-view+json": {
       "model_id": "c5564322b0c84bc79484bafabed962b6",
       "version_major": 2,
       "version_minor": 0
      },
      "text/plain": [
       "VBox(children=(HBox(children=(Label(value='Select Instrument', layout=Layout(width='20%')), Select(index=2, la…"
      ]
     },
     "metadata": {},
     "output_type": "display_data"
    },
    {
     "data": {
      "text/html": [
       "<style>\n",
       "\n",
       "/* The following CSS has been adapted from\n",
       "   http://nbviewer.ipython.org/github/ketch/teaching-numerics-with-notebooks/blob/master/Styling_notebooks.ipynb\n",
       "   by Aron Ahmadia and David Ketcheson and has been reused under CC BY 4.0\n",
       "   */\n",
       "\n",
       "/* main background */\n",
       "#site { \n",
       "    background: #888;\n",
       "    color: red; \n",
       "}\n",
       "\n",
       "div.container {\n",
       "    width: 100% ! important;\n",
       "}\n",
       "\n",
       "div.cell { /* set cell width to about 80 chars */\n",
       "    width: 95%;\n",
       "}\n",
       "\n",
       "div #notebook { /* centre the content */\n",
       "/*    background: #fff; /* white background for content */\n",
       "    background: blue;\n",
       "    width: 100%;\n",
       "    margin: auto;\n",
       "    padding-left: 1em;\n",
       "    padding-right: 1em;\n",
       "    background-image: url(\"tile_background.jpg\");\n",
       "}\n",
       "\n",
       "#notebook li { /* More space between bullet points */\n",
       "    margin-top:0.4em;\n",
       "}\n",
       "\n",
       "/* change background color of running cells */\n",
       "div.cell.code_cell.running {\n",
       "/*    background-color: rgba(164,188,194,.75); */\n",
       "    background-color: green;\n",
       "    border-width: 8px;\n",
       "    border-style: solid;\n",
       "    border-color: #111;\n",
       "}\n",
       "\n",
       "/* Put a solid color box around each cell and its output, visually linking them together */\n",
       "div.cell.code_cell {\n",
       "    background-color: rgba(164,188,194,.25); /* Continuum L Gray with alpha 0.25 */\n",
       "    border-radius: 10px; /* rounded borders */\n",
       "    padding: 1em;\n",
       "    margin-top: 1em;\n",
       "}\n",
       "\n",
       "div.text_cell_render{\n",
       "\tfont-family: Georgia, Times, 'Times New Roman', serif;\n",
       "    line-height: 110%;\n",
       "    font-size: 105%;\n",
       "    width: 95%;\n",
       "    margin-left: auto;\n",
       "    margin-right: auto;\n",
       "}\n",
       "\n",
       "\n",
       "/* Formatting for header cells */\n",
       ".text_cell_render h1 {\n",
       "\tfont-family: Arial, 'Helvetica Neue', Helvetica, sans-serif;\n",
       "    font-weight: 400;\n",
       "    font-size: 30pt;\n",
       "    line-height: 100%;\n",
       "    color: rgb(37,55,70); /* Continuum Blue*/\n",
       "    margin-bottom: 0.1em;\n",
       "    margin-top: 0.1em;\n",
       "    display: block;\n",
       "}\n",
       ".text_cell_render h2 {\n",
       "\tfont-family: Arial, 'Helvetica Neue', Helvetica, sans-serif;\n",
       "    font-weight: 700;\n",
       "    font-size: 22pt;\n",
       "    line-height: 100%;\n",
       "    color: rgb(37,55,70);\n",
       "    margin-bottom: 0.1em;\n",
       "    margin-top: 0.1em;\n",
       "    display: block;\n",
       "}\n",
       "\n",
       ".text_cell_render h3 {\n",
       "\tfont-family: Arial, 'Helvetica Neue', Helvetica, sans-serif;\n",
       "    margin-top:12px;\n",
       "    margin-bottom: 3px;\n",
       "    font-style: italic;\n",
       "    color: rgb(37, 55, 70);\n",
       "}\n",
       "\n",
       ".text_cell_render h4 {\n",
       "\tfont-family: Arial, 'Helvetica Neue', Helvetica, sans-serif;\n",
       "}\n",
       "\n",
       ".text_cell_render h5 {\n",
       "\tfont-family: Arial, 'Helvetica Neue', Helvetica, sans-serif;\n",
       "    font-weight: 300;\n",
       "    font-size: 14pt;\n",
       "    font-style: italic;\n",
       "    margin-bottom: .1em;\n",
       "    margin-top: 0.1em;\n",
       "    display: block;\n",
       "}\n",
       "\n",
       ".text_cell_render h6 {\n",
       "\tfont-family: Arial, 'Helvetica Neue', Helvetica, sans-serif;\n",
       "    font-weight: 300;\n",
       "    font-size: 10pt;\n",
       "    margin-bottom: 1px;\n",
       "    margin-top: 1px;\n",
       "}\n",
       "\n",
       ".CodeMirror{\n",
       "        font-family: \"PT Mono\", fixed;\n",
       "        font-size: 100%;\n",
       "}\n",
       "\n",
       "#notebook_panel { /* main background */\n",
       "    background-image: url(\"tile_background.jpg\");\n",
       "}\n",
       "</style>"
      ],
      "text/plain": [
       "<IPython.core.display.HTML object>"
      ]
     },
     "execution_count": 1,
     "metadata": {},
     "output_type": "execute_result"
    }
   ],
   "source": [
    "# this is using the hsnt kernel conda environment\n",
    "\n",
    "import warnings\n",
    "warnings.filterwarnings('ignore')\n",
    "\n",
    "%matplotlib inline\n",
    "\n",
    "from __code.step1_prepare_white_beam_mode_images import Step1PrepareWhiteBeamModeImages\n",
    "\n",
    "\n",
    "from __code import system\n",
    "\n",
    "system.System.select_working_dir(facility='HFIR', instrument='CG1D', ipts='IPTS-25777')\n",
    "from __code.__all import custom_style\n",
    "custom_style.style()"
   ]
  },
  {
   "cell_type": "markdown",
   "id": "b9d745bd",
   "metadata": {},
   "source": [
    "# Input sample folder\n",
    "\n",
    "This folder will contains all the images (1 image per angle)\n",
    "\n",
    "<font color='blue'><b>Instructions</b>: select folder containing projections</font>"
   ]
  },
  {
   "cell_type": "code",
   "execution_count": 2,
   "id": "4521c25a",
   "metadata": {
    "execution": {
     "iopub.execute_input": "2024-12-05T18:26:23.445036Z",
     "iopub.status.busy": "2024-12-05T18:26:23.444820Z",
     "iopub.status.idle": "2024-12-05T18:26:23.452217Z",
     "shell.execute_reply": "2024-12-05T18:26:23.451790Z",
     "shell.execute_reply.started": "2024-12-05T18:26:23.445015Z"
    }
   },
   "outputs": [
    {
     "name": "stdout",
     "output_type": "stream",
     "text": [
      "logging file: /SNS/VENUS/shared/log/step1_prepare_white_beam_mode_images.log\n",
      "working_dir = '/HFIR/CG1D/IPTS-25777'\n",
      "Top sample folder selected: /HFIR/CG1D/IPTS-25777/raw/ct_scans/iron_man\n"
     ]
    }
   ],
   "source": [
    "o_white_beam = Step1PrepareWhiteBeamModeImages(system=system)\n",
    "o_white_beam.select_top_sample_folder()"
   ]
  },
  {
   "cell_type": "markdown",
   "id": "5d532080",
   "metadata": {},
   "source": [
    "# Input Open Beam (OB) folder\n",
    "\n",
    "Select the images to use as OB\n",
    "\n",
    "<font color='blue'><b>Instructions</b>: select individual images</font>"
   ]
  },
  {
   "cell_type": "code",
   "execution_count": 3,
   "id": "51549f93",
   "metadata": {
    "execution": {
     "iopub.execute_input": "2024-12-05T18:26:24.310052Z",
     "iopub.status.busy": "2024-12-05T18:26:24.309775Z",
     "iopub.status.idle": "2024-12-05T18:26:24.313688Z",
     "shell.execute_reply": "2024-12-05T18:26:24.313307Z",
     "shell.execute_reply.started": "2024-12-05T18:26:24.310029Z"
    }
   },
   "outputs": [
    {
     "name": "stdout",
     "output_type": "stream",
     "text": [
      "top ob folder is: /HFIR/CG1D/IPTS-25777/raw/ob/Oct29_2019\n"
     ]
    }
   ],
   "source": [
    "o_white_beam.select_ob_images()"
   ]
  },
  {
   "cell_type": "markdown",
   "id": "de5a18df",
   "metadata": {},
   "source": [
    "# Input Dark Current (DC) folder\n",
    "\n",
    "Select the images to use as DC\n",
    "\n",
    "<font color='blue'><b>Instructions</b>: select individual images</font>"
   ]
  },
  {
   "cell_type": "code",
   "execution_count": 4,
   "id": "6cea9407",
   "metadata": {
    "execution": {
     "iopub.execute_input": "2024-12-05T18:26:24.688165Z",
     "iopub.status.busy": "2024-12-05T18:26:24.687923Z",
     "iopub.status.idle": "2024-12-05T18:26:24.690677Z",
     "shell.execute_reply": "2024-12-05T18:26:24.690342Z",
     "shell.execute_reply.started": "2024-12-05T18:26:24.688148Z"
    }
   },
   "outputs": [
    {
     "name": "stdout",
     "output_type": "stream",
     "text": [
      "top dc folder is: /HFIR/CG1D/IPTS-25777/raw/dc/2023_05_24\n"
     ]
    }
   ],
   "source": [
    "o_white_beam.select_dc_images()"
   ]
  },
  {
   "cell_type": "markdown",
   "id": "e2cd6952-7b00-42ff-ba57-ab86df6ace84",
   "metadata": {},
   "source": [
    "# Define file naming schema\n",
    "\n",
    "This is needed to extract the angle value from the images file name"
   ]
  },
  {
   "cell_type": "code",
   "execution_count": 5,
   "id": "ccadcdc2-56e0-4244-a805-6c9121094cde",
   "metadata": {
    "execution": {
     "iopub.execute_input": "2024-12-05T18:26:25.213788Z",
     "iopub.status.busy": "2024-12-05T18:26:25.213546Z",
     "iopub.status.idle": "2024-12-05T18:26:25.232567Z",
     "shell.execute_reply": "2024-12-05T18:26:25.232288Z",
     "shell.execute_reply.started": "2024-12-05T18:26:25.213770Z"
    }
   },
   "outputs": [
    {
     "data": {
      "application/vnd.jupyter.widget-view+json": {
       "model_id": "5b54a0d8f56f44cbb7ee6b6b61159ccb",
       "version_major": 2,
       "version_minor": 0
      },
      "text/plain": [
       "HBox(children=(HTML(value='<b>File name:</b>'), Label(value='20191030_ironman_small_0070_176_900_0307.tiff')))"
      ]
     },
     "metadata": {},
     "output_type": "display_data"
    },
    {
     "data": {
      "application/vnd.jupyter.widget-view+json": {
       "model_id": "0535ff4b1ede4676872a53df6b327398",
       "version_major": 2,
       "version_minor": 0
      },
      "text/plain": [
       "VBox(children=(Checkbox(value=False, description='20191030'), Checkbox(value=False, description='ironman'), Ch…"
      ]
     },
     "metadata": {},
     "output_type": "display_data"
    },
    {
     "data": {
      "application/vnd.jupyter.widget-view+json": {
       "model_id": "7ac29724cfca4195afb905b78db3b5ff",
       "version_major": 2,
       "version_minor": 0
      },
      "text/plain": [
       "HTML(value=\"<font color='red'><b>ERROR</b>: Select 2 and only 2 checkboxes!</font>\")"
      ]
     },
     "metadata": {},
     "output_type": "display_data"
    },
    {
     "data": {
      "application/vnd.jupyter.widget-view+json": {
       "model_id": "62c8c2a33e44458aaaeb786e124b709d",
       "version_major": 2,
       "version_minor": 0
      },
      "text/plain": [
       "HTML(value='<hr>')"
      ]
     },
     "metadata": {},
     "output_type": "display_data"
    },
    {
     "data": {
      "application/vnd.jupyter.widget-view+json": {
       "model_id": "4a433ecb36a44352b96aa0438df1e647",
       "version_major": 2,
       "version_minor": 0
      },
      "text/plain": [
       "HBox(children=(Label(value='Angle value:'), Label(value='')))"
      ]
     },
     "metadata": {},
     "output_type": "display_data"
    },
    {
     "data": {
      "application/vnd.jupyter.widget-view+json": {
       "model_id": "e2200397625e4f4e9625c7e3e1ba9e44",
       "version_major": 2,
       "version_minor": 0
      },
      "text/plain": [
       "HTML(value='<b>Check the 2 fields to use to determine the angle value (degree.minutes)!</b>')"
      ]
     },
     "metadata": {},
     "output_type": "display_data"
    }
   ],
   "source": [
    "o_white_beam.define_naming_schema()"
   ]
  },
  {
   "cell_type": "markdown",
   "id": "18872c74-db47-407c-8f85-62def1f98cce",
   "metadata": {},
   "source": [
    "# Percentage of data to use "
   ]
  },
  {
   "cell_type": "code",
   "execution_count": 6,
   "id": "f89c1640-7292-4852-8999-b9c4f946be50",
   "metadata": {
    "execution": {
     "iopub.execute_input": "2024-12-05T18:26:31.017244Z",
     "iopub.status.busy": "2024-12-05T18:26:31.016863Z",
     "iopub.status.idle": "2024-12-05T18:26:31.023081Z",
     "shell.execute_reply": "2024-12-05T18:26:31.022796Z",
     "shell.execute_reply.started": "2024-12-05T18:26:31.017213Z"
    }
   },
   "outputs": [
    {
     "data": {
      "application/vnd.jupyter.widget-view+json": {
       "model_id": "f106b7387576461b9096892dfac17751",
       "version_major": 2,
       "version_minor": 0
      },
      "text/plain": [
       "IntSlider(value=50, layout=Layout(width='100%'), min=1)"
      ]
     },
     "metadata": {},
     "output_type": "display_data"
    },
    {
     "data": {
      "application/vnd.jupyter.widget-view+json": {
       "model_id": "c1e53a0c8dce482a81e961c310d574b8",
       "version_major": 2,
       "version_minor": 0
      },
      "text/plain": [
       "Label(value='311 images will be used for the reconstruction')"
      ]
     },
     "metadata": {},
     "output_type": "display_data"
    }
   ],
   "source": [
    "o_white_beam.select_percentage_of_data_to_use()"
   ]
  },
  {
   "cell_type": "markdown",
   "id": "107d1050",
   "metadata": {},
   "source": [
    "# Load data"
   ]
  },
  {
   "cell_type": "markdown",
   "id": "666d5d89",
   "metadata": {},
   "source": [
    "This cell will load the data.\n",
    "\n",
    "- <font color=blue><b>White beam</b></font>:\n",
    "This step will add all the counts within a given run, making it feel like the data were acquired in white beam mode, loosing the time-of-flight (TOF) information.\n",
    "\n",
    "This step will also sort the runs by increasing angle value."
   ]
  },
  {
   "cell_type": "code",
   "execution_count": 7,
   "id": "0eee229f",
   "metadata": {
    "execution": {
     "iopub.execute_input": "2024-12-05T18:26:40.714369Z",
     "iopub.status.busy": "2024-12-05T18:26:40.714157Z",
     "iopub.status.idle": "2024-12-05T18:26:56.119983Z",
     "shell.execute_reply": "2024-12-05T18:26:56.119499Z",
     "shell.execute_reply.started": "2024-12-05T18:26:40.714355Z"
    }
   },
   "outputs": [],
   "source": [
    "o_white_beam.load_data()"
   ]
  },
  {
   "cell_type": "markdown",
   "id": "c45e1943",
   "metadata": {},
   "source": [
    "<hr><hr style=\"border-bottom: dotted 1px;\" />\n",
    "<font color='purple' size='5'>Visualization</font><font color='purple' size='3'> - OPTIONAL</font>\n",
    "<br>Visualize data loaded  <b>(this may take a long time to process !)</b>"
   ]
  },
  {
   "cell_type": "code",
   "execution_count": null,
   "id": "7214a9cb",
   "metadata": {
    "execution": {
     "iopub.execute_input": "2024-12-05T17:25:26.713030Z",
     "iopub.status.busy": "2024-12-05T17:25:26.712796Z",
     "iopub.status.idle": "2024-12-05T17:25:44.813489Z",
     "shell.execute_reply": "2024-12-05T17:25:44.813012Z",
     "shell.execute_reply.started": "2024-12-05T17:25:26.713010Z"
    }
   },
   "outputs": [],
   "source": [
    "o_white_beam.visualize_raw_data()"
   ]
  },
  {
   "cell_type": "markdown",
   "id": "1d97e3d0",
   "metadata": {},
   "source": [
    "<hr style=\"height: 2px\" /><hr style=\"border-bottom: dotted 1px\" />\n",
    "<font color='purple' size='5'>Remove outliers</font><font color='purple' size='3'> - OPTIONAL</font>"
   ]
  },
  {
   "cell_type": "markdown",
   "id": "df329504",
   "metadata": {},
   "source": [
    "# Pre-processing - remove outliers\n",
    "\n",
    "Two algorithms are provided:\n",
    "\n",
    "* using histogram (remove dead pixels, abnormal very high counts)\n",
    "* using thresholding (remove high intensity bright spots)\n",
    "\n",
    "<font color='blue'><b>Instructions</b>: select the algorithms you want to use."
   ]
  },
  {
   "cell_type": "code",
   "execution_count": null,
   "id": "d6952c84",
   "metadata": {
    "execution": {
     "iopub.execute_input": "2024-12-05T18:27:24.140744Z",
     "iopub.status.busy": "2024-12-05T18:27:24.140513Z",
     "iopub.status.idle": "2024-12-05T18:27:24.146623Z",
     "shell.execute_reply": "2024-12-05T18:27:24.146340Z",
     "shell.execute_reply.started": "2024-12-05T18:27:24.140727Z"
    }
   },
   "outputs": [],
   "source": [
    "o_white_beam.clean_images_settings()"
   ]
  },
  {
   "cell_type": "markdown",
   "id": "0b4bdb84",
   "metadata": {},
   "source": [
    "The next cell will be ignored if you didn't select <b>histogram</b>. \n",
    "\n",
    "<font color='blue'><b>Instructions</b>: if using the <b>histogram</b> algorithm, by default, all the pixels found in the first and last bin are considered as **bad** pixels. You have the option to change those settings. </font>"
   ]
  },
  {
   "cell_type": "code",
   "execution_count": 9,
   "id": "66e1f723",
   "metadata": {
    "execution": {
     "iopub.execute_input": "2024-12-05T18:27:31.754478Z",
     "iopub.status.busy": "2024-12-05T18:27:31.754254Z",
     "iopub.status.idle": "2024-12-05T18:27:31.756697Z",
     "shell.execute_reply": "2024-12-05T18:27:31.756390Z",
     "shell.execute_reply.started": "2024-12-05T18:27:31.754463Z"
    }
   },
   "outputs": [],
   "source": [
    "o_white_beam.clean_images_setup()"
   ]
  },
  {
   "cell_type": "code",
   "execution_count": 10,
   "id": "694507be",
   "metadata": {
    "execution": {
     "iopub.execute_input": "2024-12-05T18:27:33.576092Z",
     "iopub.status.busy": "2024-12-05T18:27:33.575897Z",
     "iopub.status.idle": "2024-12-05T18:29:44.246990Z",
     "shell.execute_reply": "2024-12-05T18:29:44.246646Z",
     "shell.execute_reply.started": "2024-12-05T18:27:33.576077Z"
    }
   },
   "outputs": [],
   "source": [
    "o_white_beam.clean_images()"
   ]
  },
  {
   "cell_type": "markdown",
   "id": "ea14a6e5-5921-4ddc-97a4-6b5411e14d0d",
   "metadata": {
    "execution": {
     "iopub.execute_input": "2024-09-25T16:48:21.997748Z",
     "iopub.status.busy": "2024-09-25T16:48:21.997353Z",
     "iopub.status.idle": "2024-09-25T16:48:21.999893Z",
     "shell.execute_reply": "2024-09-25T16:48:21.999578Z",
     "shell.execute_reply.started": "2024-09-25T16:48:21.997731Z"
    }
   },
   "source": [
    "<hr style=\"border-bottom: dotted 1px;\" />\n",
    "<hr style=\"height: 2px\" />\n",
    "\n",
    "# Normalization\n"
   ]
  },
  {
   "cell_type": "markdown",
   "id": "622bc51f",
   "metadata": {},
   "source": [
    "<font color='blue'><b>Instructions</b>: in order to improve the normalization, you can turn ON/OFF any of the following \n",
    "\n",
    "- <font color=red><b>use proton charge</b></font>: that option will use the proton charge value requested for each runs and open beams and will bring them to the same value by applying a coefficient corector to the data.\n",
    "- <font color=red><b>use background region of interest (ROI)</b></font>: select a region that does not contain any part of the sample in order to match the counts with the same ROI of the open beam.</font>"
   ]
  },
  {
   "cell_type": "code",
   "execution_count": 8,
   "id": "7b613711",
   "metadata": {
    "execution": {
     "iopub.execute_input": "2024-12-05T18:31:19.084233Z",
     "iopub.status.busy": "2024-12-05T18:31:19.084004Z",
     "iopub.status.idle": "2024-12-05T18:31:19.089704Z",
     "shell.execute_reply": "2024-12-05T18:31:19.089431Z",
     "shell.execute_reply.started": "2024-12-05T18:31:19.084217Z"
    }
   },
   "outputs": [
    {
     "data": {
      "application/vnd.jupyter.widget-view+json": {
       "model_id": "d99a7a2c83464f9aba3281532d2f63d7",
       "version_major": 2,
       "version_minor": 0
      },
      "text/plain": [
       "VBox(children=(Checkbox(value=True, description='Use proton charge', disabled=True), Checkbox(value=False, des…"
      ]
     },
     "metadata": {},
     "output_type": "display_data"
    }
   ],
   "source": [
    "o_white_beam.normalization_settings()"
   ]
  },
  {
   "cell_type": "markdown",
   "id": "6af1d90a",
   "metadata": {},
   "source": [
    "This next cell will allow you to select the background region within the projections images, or will just be ignored if you not chose to use it.\n",
    "\n",
    "<font color='blue'><b>Instructions</b>: define ROI\n",
    "\n",
    "Make sure you select a region <font color='red'> OUTSIDE</font> of your sample\n",
    "\n",
    "<img src=\"__code/__all/demo_of_roi_selection.gif\" width=\"50%\" />\n",
    "\n",
    "NB: The next cell will be ignored if you didn't select <b>Use ROI</b>"
   ]
  },
  {
   "cell_type": "code",
   "execution_count": 9,
   "id": "f57796df",
   "metadata": {
    "execution": {
     "iopub.execute_input": "2024-12-05T18:31:21.447046Z",
     "iopub.status.busy": "2024-12-05T18:31:21.446834Z",
     "iopub.status.idle": "2024-12-05T18:31:23.360770Z",
     "shell.execute_reply": "2024-12-05T18:31:23.360456Z",
     "shell.execute_reply.started": "2024-12-05T18:31:21.447031Z"
    }
   },
   "outputs": [
    {
     "data": {
      "text/html": [
       "Note: This is an integrated view of the projections allowing you to see the contours of all the angles!"
      ],
      "text/plain": [
       "<IPython.core.display.HTML object>"
      ]
     },
     "metadata": {},
     "output_type": "display_data"
    },
    {
     "data": {
      "application/vnd.jupyter.widget-view+json": {
       "model_id": "b10cf4e547a54d6a92b386edc49f3462",
       "version_major": 2,
       "version_minor": 0
      },
      "text/plain": [
       "interactive(children=(IntSlider(value=750, description='left', max=2047), IntSlider(value=2047, description='r…"
      ]
     },
     "metadata": {},
     "output_type": "display_data"
    }
   ],
   "source": [
    "o_white_beam.normalization_select_roi()"
   ]
  },
  {
   "cell_type": "markdown",
   "id": "c4221eb9",
   "metadata": {},
   "source": [
    "This cell will perform the normalization using any of the settings you define just above."
   ]
  },
  {
   "cell_type": "code",
   "execution_count": 10,
   "id": "48c201d4",
   "metadata": {
    "execution": {
     "iopub.execute_input": "2024-12-05T18:31:49.805463Z",
     "iopub.status.busy": "2024-12-05T18:31:49.805141Z",
     "iopub.status.idle": "2024-12-05T18:32:00.902439Z",
     "shell.execute_reply": "2024-12-05T18:32:00.901994Z",
     "shell.execute_reply.started": "2024-12-05T18:31:49.805448Z"
    }
   },
   "outputs": [],
   "source": [
    "o_white_beam.normalization()"
   ]
  },
  {
   "cell_type": "markdown",
   "id": "97bf27d7",
   "metadata": {},
   "source": [
    "<hr style=\"height: 2px\" /><hr style=\"border-bottom: dotted 1px\" />\n",
    "<font color='purple' size='5'>Visualize normalized data</font><font color='purple' size='3'> - OPTIONAL</font>"
   ]
  },
  {
   "cell_type": "code",
   "execution_count": null,
   "id": "47d0df72",
   "metadata": {},
   "outputs": [],
   "source": [
    "o_white_beam.visualization_normalization_settings()"
   ]
  },
  {
   "cell_type": "code",
   "execution_count": null,
   "id": "13d7ca09",
   "metadata": {},
   "outputs": [],
   "source": [
    "o_white_beam.visualize_normalization()"
   ]
  },
  {
   "cell_type": "markdown",
   "id": "f3a39bda",
   "metadata": {},
   "source": [
    "<hr style=\"height: 2px\" /><hr style=\"border-bottom: dotted 1px\" />\n",
    "<font color='purple' size='5'>Export the normalized data</font><font color='purple' size='3'> - OPTIONAL</font>\n"
   ]
  },
  {
   "cell_type": "markdown",
   "id": "27baf325",
   "metadata": {},
   "source": [
    "Select the folder where to export the normalized images\n"
   ]
  },
  {
   "cell_type": "code",
   "execution_count": null,
   "id": "6fba499f",
   "metadata": {},
   "outputs": [],
   "source": [
    "o_white_beam.select_export_normalized_folder()"
   ]
  },
  {
   "cell_type": "markdown",
   "id": "e4a87503",
   "metadata": {},
   "source": [
    "Run this cell to execute the export of the normalized images\n"
   ]
  },
  {
   "cell_type": "code",
   "execution_count": null,
   "id": "a5b28e20",
   "metadata": {},
   "outputs": [],
   "source": [
    "o_white_beam.export_normalized_images()"
   ]
  },
  {
   "cell_type": "markdown",
   "id": "091b83d3",
   "metadata": {},
   "source": [
    "<hr style=\"height: 2px\" /><hr style=\"border-bottom: dotted 1px\" />\n",
    "<font color='purple' size='5'>Crop the data</font><font color='purple' size='3'> - OPTIONAL</font>"
   ]
  },
  {
   "cell_type": "code",
   "execution_count": null,
   "id": "4747fdeb",
   "metadata": {},
   "outputs": [],
   "source": [
    "o_white_beam.crop_settings()"
   ]
  },
  {
   "cell_type": "markdown",
   "id": "6ff8fa92",
   "metadata": {},
   "source": [
    "execute the cropping"
   ]
  },
  {
   "cell_type": "code",
   "execution_count": null,
   "id": "ee5bda99",
   "metadata": {},
   "outputs": [],
   "source": [
    "o_white_beam.crop()"
   ]
  },
  {
   "cell_type": "markdown",
   "id": "148220ee",
   "metadata": {},
   "source": [
    "<hr style=\"height: 2px\" /><hr style=\"border-bottom: dotted 1px\" />\n",
    "<font color='purple' size='5'>Rotate the data</font><font color='purple' size='3'> - OPTIONAL</font>\n",
    "\n",
    "<font color='blue'>The reconstruction algorithm will ONLY work if the rotation axis is VERTICAL</font>!\n",
    "\n",
    "select the angle to use"
   ]
  },
  {
   "cell_type": "code",
   "execution_count": 11,
   "id": "fb6ea64c",
   "metadata": {},
   "outputs": [
    {
     "data": {
      "application/vnd.jupyter.widget-view+json": {
       "model_id": "f9a67ef0d5894f578cb1e03200e49f48",
       "version_major": 2,
       "version_minor": 0
      },
      "text/plain": [
       "VBox(children=(HTML(value='Select rotation angle (counter-clockwise)'), RadioButtons(description='Angle', opti…"
      ]
     },
     "metadata": {},
     "output_type": "display_data"
    },
    {
     "data": {
      "image/png": "[encoded data removed]",
      "text/plain": [
       "<Figure size 1500x500 with 3 Axes>"
      ]
     },
     "metadata": {},
     "output_type": "display_data"
    }
   ],
   "source": [
    "o_white_beam.rotate_data_settings()"
   ]
  },
  {
   "cell_type": "markdown",
   "id": "2e94264c",
   "metadata": {},
   "source": [
    "Run to perform the transformation by the angle specified"
   ]
  },
  {
   "cell_type": "code",
   "execution_count": null,
   "id": "465287f8",
   "metadata": {},
   "outputs": [],
   "source": [
    "o_white_beam.apply_rotation()"
   ]
  },
  {
   "cell_type": "markdown",
   "id": "a5a7c6cc",
   "metadata": {},
   "source": [
    "Vizualize the images after rotation - OPTIONAL"
   ]
  },
  {
   "cell_type": "code",
   "execution_count": null,
   "id": "94d9eb0a",
   "metadata": {},
   "outputs": [],
   "source": [
    "o_white_beam.visualize_after_rotation()"
   ]
  },
  {
   "cell_type": "markdown",
   "id": "739a9355",
   "metadata": {},
   "source": [
    "<hr style=\"height: 2px\" /><hr style=\"border-bottom: dotted 1px\" />\n",
    "<font color='purple' size='5'>Remove stripes</font><font color='purple' size='3'> - OPTIONAL</font>\n",
    "\n",
    "Run if you want to remove any stripes causing ring artifacs in the reconstruction"
   ]
  },
  {
   "cell_type": "code",
   "execution_count": null,
   "id": "e6432b5b",
   "metadata": {
    "execution": {
     "iopub.execute_input": "2024-12-05T18:32:11.038341Z",
     "iopub.status.busy": "2024-12-05T18:32:11.038103Z",
     "iopub.status.idle": "2024-12-05T18:32:11.051493Z",
     "shell.execute_reply": "2024-12-05T18:32:11.051169Z",
     "shell.execute_reply.started": "2024-12-05T18:32:11.038317Z"
    }
   },
   "outputs": [],
   "source": [
    "o_white_beam.select_remove_strips_algorithms()"
   ]
  },
  {
   "cell_type": "code",
   "execution_count": null,
   "id": "081d0e6b",
   "metadata": {
    "execution": {
     "iopub.execute_input": "2024-12-05T18:32:12.502287Z",
     "iopub.status.busy": "2024-12-05T18:32:12.502081Z",
     "iopub.status.idle": "2024-12-05T18:32:12.506112Z",
     "shell.execute_reply": "2024-12-05T18:32:12.505808Z",
     "shell.execute_reply.started": "2024-12-05T18:32:12.502271Z"
    }
   },
   "outputs": [],
   "source": [
    "o_white_beam.define_settings()"
   ]
  },
  {
   "cell_type": "code",
   "execution_count": null,
   "id": "75d3d677",
   "metadata": {
    "execution": {
     "iopub.execute_input": "2024-12-05T18:32:12.902879Z",
     "iopub.status.busy": "2024-12-05T18:32:12.902644Z",
     "iopub.status.idle": "2024-12-05T18:33:06.620878Z",
     "shell.execute_reply": "2024-12-05T18:33:06.620448Z",
     "shell.execute_reply.started": "2024-12-05T18:32:12.902865Z"
    }
   },
   "outputs": [],
   "source": [
    "o_white_beam.remove_strips_and_display()"
   ]
  },
  {
   "cell_type": "markdown",
   "id": "51a27fed-4720-4e52-aa1a-6dbc8995ee46",
   "metadata": {
    "execution": {
     "iopub.execute_input": "2024-09-25T16:48:35.218331Z",
     "iopub.status.busy": "2024-09-25T16:48:35.218025Z",
     "iopub.status.idle": "2024-09-25T16:48:35.220484Z",
     "shell.execute_reply": "2024-09-25T16:48:35.220124Z",
     "shell.execute_reply.started": "2024-09-25T16:48:35.218314Z"
    }
   },
   "source": [
    "<hr style=\"height: 2px\" /><hr style=\"border-bottom: dotted 1px\" />\n",
    "<font color='purple' size='5'>Calculate center of rotation and tilt</font><font color='purple' size='3'> - OPTIONAL</font>\n",
    "\n",
    "The algorithm will determine the 0 and 180 degrees runs and use those to calculate the <b>center of rotation</b> and the <b>tilt</b>\n",
    "<br><br>\n",
    "\n",
    "<font color='blue'><b>Instructions</b>: first, you need to select an vertical range contaning the sample\n",
    "\n",
    "<font color='blue'>TIPS</font> - Make sure the sample is within the range defined\n",
    "\n",
    "<font size=1 color='red'><u>Developer Notes</u>: this step will create the 3d array <i>corrected_images</i>"
   ]
  },
  {
   "cell_type": "code",
   "execution_count": null,
   "id": "25b6a401",
   "metadata": {
    "execution": {
     "iopub.execute_input": "2024-12-05T18:33:36.517562Z",
     "iopub.status.busy": "2024-12-05T18:33:36.516753Z",
     "iopub.status.idle": "2024-12-05T18:33:38.865474Z",
     "shell.execute_reply": "2024-12-05T18:33:38.865168Z",
     "shell.execute_reply.started": "2024-12-05T18:33:36.517542Z"
    }
   },
   "outputs": [],
   "source": [
    "o_white_beam.select_sample_roi()"
   ]
  },
  {
   "cell_type": "markdown",
   "id": "a8ea1bdf",
   "metadata": {},
   "source": [
    "Select the mode you want to use to calculate the **center of rotation** and the **tilt**\n",
    "\n",
    "* automatic mode will use the [neutompy](https://neutompy-toolbox.readthedocs.io/en/latest/index.html) library\n",
    "* manual mode will let you figure out the tilt and the center of rotation"
   ]
  },
  {
   "cell_type": "code",
   "execution_count": null,
   "id": "c4da2027",
   "metadata": {
    "execution": {
     "iopub.execute_input": "2024-12-05T18:33:49.253456Z",
     "iopub.status.busy": "2024-12-05T18:33:49.253107Z",
     "iopub.status.idle": "2024-12-05T18:33:49.257755Z",
     "shell.execute_reply": "2024-12-05T18:33:49.257462Z",
     "shell.execute_reply.started": "2024-12-05T18:33:49.253442Z"
    }
   },
   "outputs": [],
   "source": [
    "o_white_beam.center_of_rotation_and_tilt_settings()"
   ]
  },
  {
   "cell_type": "markdown",
   "id": "639f1975",
   "metadata": {},
   "source": [
    "<font color='blue'><b><u>Instructions</u></b>: \n",
    "\n",
    "<b>Manual</b> mode:  \n",
    "\n",
    "* select the images you want to display at the same time using **CMD + click**\n",
    "* **position the blue** vertical dashed line at the center of rotation\n",
    "* **rotate** the sample in order to determine the tilt correction to apply\n",
    "\n",
    "<b>Automatic</b> mode:  \n",
    "\n",
    "* **tilt** and **center of rotation** will be automaticaly calculated and apply"
   ]
  },
  {
   "cell_type": "code",
   "execution_count": null,
   "id": "08fcde76",
   "metadata": {
    "execution": {
     "iopub.execute_input": "2024-12-05T18:33:54.539877Z",
     "iopub.status.busy": "2024-12-05T18:33:54.539667Z",
     "iopub.status.idle": "2024-12-05T18:37:14.197088Z",
     "shell.execute_reply": "2024-12-05T18:37:14.196590Z",
     "shell.execute_reply.started": "2024-12-05T18:33:54.539862Z"
    }
   },
   "outputs": [],
   "source": [
    "o_white_beam.perform_center_of_rotation_and_tilt()"
   ]
  },
  {
   "cell_type": "markdown",
   "id": "f2850bcc",
   "metadata": {},
   "source": [
    "<hr style=\"height: 2px\" /><hr style=\"border-bottom: dotted 1px\" />\n",
    "<font color='purple' size='5'>Crop the data</font><font color='purple' size='3'> - OPTIONAL</font>"
   ]
  },
  {
   "cell_type": "code",
   "execution_count": null,
   "id": "21e025c3",
   "metadata": {
    "execution": {
     "iopub.execute_input": "2024-12-05T18:37:28.455681Z",
     "iopub.status.busy": "2024-12-05T18:37:28.455474Z",
     "iopub.status.idle": "2024-12-05T18:37:30.148100Z",
     "shell.execute_reply": "2024-12-05T18:37:30.147682Z",
     "shell.execute_reply.started": "2024-12-05T18:37:28.455668Z"
    }
   },
   "outputs": [],
   "source": [
    "o_white_beam.crop_settings()"
   ]
  },
  {
   "cell_type": "markdown",
   "id": "1d46b30d",
   "metadata": {},
   "source": [
    "execute the cropping"
   ]
  },
  {
   "cell_type": "code",
   "execution_count": 20,
   "id": "8d48d4ab",
   "metadata": {
    "execution": {
     "iopub.execute_input": "2024-12-05T18:38:26.874106Z",
     "iopub.status.busy": "2024-12-05T18:38:26.873778Z",
     "iopub.status.idle": "2024-12-05T18:38:26.926440Z",
     "shell.execute_reply": "2024-12-05T18:38:26.926024Z",
     "shell.execute_reply.started": "2024-12-05T18:38:26.874090Z"
    }
   },
   "outputs": [],
   "source": [
    "o_white_beam.crop()"
   ]
  },
  {
   "cell_type": "markdown",
   "id": "735faafb",
   "metadata": {},
   "source": [
    "<hr style=\"border-bottom: dotted 1px;\" /><hr style=\"height: 2px\" />"
   ]
  },
  {
   "cell_type": "markdown",
   "id": "a1760101",
   "metadata": {},
   "source": [
    "# Select reconstruction method"
   ]
  },
  {
   "cell_type": "code",
   "execution_count": null,
   "id": "27b82979",
   "metadata": {},
   "outputs": [],
   "source": [
    "o_white_beam.select_reconstruction_method()"
   ]
  },
  {
   "cell_type": "markdown",
   "id": "f79fabc5-69d4-40a9-938d-43250c0cfd38",
   "metadata": {},
   "source": [
    "# Set up reconstruction parameters\n",
    "\n",
    "<font color='blue'><b>Instructions</b>: \n",
    "\n",
    "- define the reconstruction settings (keeping the <b>default values</b> is a good choice for novice users)</font>\n",
    "\n"
   ]
  },
  {
   "cell_type": "code",
   "execution_count": 22,
   "id": "dd0e3924",
   "metadata": {
    "execution": {
     "iopub.execute_input": "2024-12-05T18:38:29.680501Z",
     "iopub.status.busy": "2024-12-05T18:38:29.680061Z",
     "iopub.status.idle": "2024-12-05T18:38:29.844927Z",
     "shell.execute_reply": "2024-12-05T18:38:29.844601Z",
     "shell.execute_reply.started": "2024-12-05T18:38:29.680484Z"
    }
   },
   "outputs": [],
   "source": [
    "o_white_beam.reconstruction_settings()"
   ]
  },
  {
   "cell_type": "markdown",
   "id": "c20fb822",
   "metadata": {},
   "source": [
    "# Create config file and export pre-processed images\n",
    "\n",
    "* <b>config file</b> will be used in the next step (step1_####.json)\n",
    "* <b>log file</b> to check the full process up to here\n",
    "* <b>stack of projectons ready to be reconstructed</b>"
   ]
  },
  {
   "cell_type": "code",
   "execution_count": null,
   "id": "25c8afd3",
   "metadata": {
    "execution": {
     "iopub.execute_input": "2024-12-05T18:39:18.554486Z",
     "iopub.status.busy": "2024-12-05T18:39:18.554256Z",
     "iopub.status.idle": "2024-12-05T18:39:18.566463Z",
     "shell.execute_reply": "2024-12-05T18:39:18.566083Z",
     "shell.execute_reply.started": "2024-12-05T18:39:18.554471Z"
    }
   },
   "outputs": [],
   "source": [
    "o_white_beam.select_export_extra_files()"
   ]
  },
  {
   "cell_type": "code",
   "execution_count": null,
   "id": "4db82b11",
   "metadata": {
    "execution": {
     "iopub.execute_input": "2024-12-05T18:39:19.865585Z",
     "iopub.status.busy": "2024-12-05T18:39:19.865351Z",
     "iopub.status.idle": "2024-12-05T18:39:20.551223Z",
     "shell.execute_reply": "2024-12-05T18:39:20.550854Z",
     "shell.execute_reply.started": "2024-12-05T18:39:19.865568Z"
    }
   },
   "outputs": [],
   "source": [
    "o_white_beam.export_extra_files(prefix='step1')"
   ]
  },
  {
   "cell_type": "markdown",
   "id": "132b68ce",
   "metadata": {},
   "source": [
    "<hr style=\"border-bottom: dotted 1px;\" /><hr>"
   ]
  }
 ],
 "metadata": {
  "kernelspec": {
   "display_name": "hsnt",
   "language": "python",
   "name": "python3"
  },
  "language_info": {
   "codemirror_mode": {
    "name": "ipython",
    "version": 3
   },
   "file_extension": ".py",
   "mimetype": "text/x-python",
   "name": "python",
   "nbconvert_exporter": "python",
   "pygments_lexer": "ipython3",
   "version": "3.9.20"
  }
 },
 "nbformat": 4,
 "nbformat_minor": 5
}
